{
 "cells": [
  {
   "cell_type": "markdown",
   "metadata": {},
   "source": [
    "# What is Topic Modeling?\n",
    "\n",
    "Topic modeling is a powerful unsupervised Machine Learning technique that allows us to analyze large volumes of text data by automatically discovering latent themes or topics within a collection of documents. It’s a way to extract hidden semantic structures from text data that might be otherwise difficult or time-consuming to identify manually.\n",
    "\n",
    "## Why is Topic Modeling Important?\n",
    "\n",
    "- **Handling Unstructured Data**: A major challenge in working with text data is that it’s often unlabeled and unstructured, making it unsuitable for traditional supervised learning approaches. Topic modeling provides a solution to this problem.\n",
    "- **Scalability**: It allows for the analysis of massive text collections that would be impractical to process manually.\n",
    "- **Insight Discovery**: Topic modeling can reveal unexpected patterns and relationships in the data, leading to new insights and research directions.\n",
    "- **Document Organization**: It provides a way to automatically organize and summarize large document collections.\n",
    "- **Content Recommendation**: Topic models can be used to build recommendation systems based on content similarity.\n",
    "\n",
    "## Common Topic Modeling Algorithms\n",
    "\n",
    "- **Latent Dirichlet Allocation (LDA)**: The most popular topic modeling algorithm\n",
    "- **Non-Negative Matrix Factorization (NMF)**: Often used for short texts\n",
    "- **Latent Semantic Analysis (LSA)**: An older method based on singular value decomposition\n",
    "\n",
    "## Text Analysis and Preprocessing with spaCy\n",
    "\n",
    "Before we dive into topic modeling, it’s crucial to properly prepare our text data. In this section, we’ll use spaCy, an industrial-strength Natural Language Processing library, to clean and preprocess our text data.\n"
   ]
  },
  {
   "cell_type": "code",
   "execution_count": 1,
   "metadata": {},
   "outputs": [],
   "source": [
    "# Importing Libraries\n",
    "import os\n",
    "\n",
    "import spacy \n",
    "from spacy import displacy\n",
    "\n",
    "import gensim\n",
    "from gensim.corpora import Dictionary\n",
    "from gensim.models import LdaModel, CoherenceModel, LsiModel, HdpModel"
   ]
  },
  {
   "cell_type": "code",
   "execution_count": 2,
   "metadata": {},
   "outputs": [
    {
     "name": "stdout",
     "output_type": "stream",
     "text": [
      "c:\\Users\\itexp\\anaconda3\\Lib\\site-packages\\gensim\\test\\test_data\n",
      "c:\\Users\\itexp\\anaconda3\\Lib\\site-packages\\gensim\\test\\test_data\\lee_background.cor\n"
     ]
    }
   ],
   "source": [
    "# Gathering Data\n",
    "test_data_dir = '{}'.format(os.sep).join([gensim.__path__[0], 'test', 'test_data'])\n",
    "print(test_data_dir)\n",
    "\n",
    "lee_train_file = test_data_dir + os.sep + 'lee_background.cor'\n",
    "print(lee_train_file)\n",
    "text = open(lee_train_file).read()"
   ]
  },
  {
   "cell_type": "code",
   "execution_count": 4,
   "metadata": {},
   "outputs": [],
   "source": [
    "# Textual Data Cleaning\n",
    "nlp = spacy.load('en_core_web_sm')"
   ]
  },
  {
   "cell_type": "code",
   "execution_count": 5,
   "metadata": {},
   "outputs": [
    {
     "name": "stderr",
     "output_type": "stream",
     "text": [
      "<>:2: SyntaxWarning: invalid escape sequence '\\s'\n",
      "<>:2: SyntaxWarning: invalid escape sequence '\\s'\n",
      "C:\\Users\\itexp\\AppData\\Local\\Temp\\ipykernel_8528\\1128275108.py:2: SyntaxWarning: invalid escape sequence '\\s'\n",
      "  my_stop_words = ['say', '\\s', 'mr', 'Mr', 'said', 'says', 'saying', 'today', 'be']\n"
     ]
    }
   ],
   "source": [
    "# Stop words for newspaper corpus\n",
    "my_stop_words = ['say', '\\s', 'mr', 'Mr', 'said', 'says', 'saying', 'today', 'be']\n",
    "\n",
    "for stopword in my_stop_words:\n",
    "    lexeme = nlp.vocab[stopword]\n",
    "    lexeme.is_stop = True\n",
    "    \n",
    "doc = nlp(text)"
   ]
  },
  {
   "cell_type": "code",
   "execution_count": 6,
   "metadata": {},
   "outputs": [],
   "source": [
    "# Computational Linguistics\n",
    "\n",
    "# Sample sentence\n",
    "sent = nlp('Last Thursday, Manchester United defeated AC Milan at San Siro.')"
   ]
  },
  {
   "cell_type": "markdown",
   "metadata": {},
   "source": [
    "### POS-Tagging — (Part Of Speech)\n",
    "\n",
    "POS tagging identifies the grammatical parts of speech for each word in a sentence. This is crucial for understanding the role each word plays in the sentence structure.\n"
   ]
  },
  {
   "cell_type": "code",
   "execution_count": 7,
   "metadata": {},
   "outputs": [
    {
     "name": "stdout",
     "output_type": "stream",
     "text": [
      "Last ADJ JJ\n",
      "Thursday PROPN NNP\n",
      ", PUNCT ,\n",
      "Manchester PROPN NNP\n",
      "United PROPN NNP\n",
      "defeated VERB VBD\n",
      "AC PROPN NNP\n",
      "Milan PROPN NNP\n",
      "at ADP IN\n",
      "San PROPN NNP\n",
      "Siro PROPN NNP\n",
      ". PUNCT .\n"
     ]
    }
   ],
   "source": [
    "# POS (Part-of-Speech) Tagging\n",
    "\n",
    "for token in sent:\n",
    "    print(token.text, token.pos_, token.tag_)"
   ]
  },
  {
   "cell_type": "markdown",
   "metadata": {},
   "source": [
    "### NER-Tagging — (Named Entity Recognition)\n",
    "\n",
    "NER identifies and classifies named entities (like persons, organizations, locations) in text. This is valuable for information extraction and can provide context for topic modeling.\n"
   ]
  },
  {
   "cell_type": "code",
   "execution_count": 8,
   "metadata": {},
   "outputs": [
    {
     "name": "stdout",
     "output_type": "stream",
     "text": [
      "Last DATE\n",
      "Thursday DATE\n",
      ", \n",
      "Manchester ORG\n",
      "United ORG\n",
      "defeated \n",
      "AC ORG\n",
      "Milan ORG\n",
      "at \n",
      "San GPE\n",
      "Siro GPE\n",
      ". \n"
     ]
    }
   ],
   "source": [
    "# NER (Named Entity Recognition) Tagging\n",
    "\n",
    "for token in sent:\n",
    "    print(token.text, token.ent_type_)"
   ]
  },
  {
   "cell_type": "code",
   "execution_count": 9,
   "metadata": {},
   "outputs": [
    {
     "name": "stdout",
     "output_type": "stream",
     "text": [
      "Last Thursday DATE\n",
      "Manchester United ORG\n",
      "AC Milan ORG\n",
      "San Siro GPE\n"
     ]
    }
   ],
   "source": [
    "for ent in sent.ents:\n",
    "    print(ent.text, ent.label_)"
   ]
  },
  {
   "cell_type": "code",
   "execution_count": 10,
   "metadata": {},
   "outputs": [
    {
     "data": {
      "text/html": [
       "<span class=\"tex2jax_ignore\"><div class=\"entities\" style=\"line-height: 2.5; direction: ltr\">\n",
       "<mark class=\"entity\" style=\"background: #bfe1d9; padding: 0.45em 0.6em; margin: 0 0.25em; line-height: 1; border-radius: 0.35em;\">\n",
       "    Last Thursday\n",
       "    <span style=\"font-size: 0.8em; font-weight: bold; line-height: 1; border-radius: 0.35em; vertical-align: middle; margin-left: 0.5rem\">DATE</span>\n",
       "</mark>\n",
       ", \n",
       "<mark class=\"entity\" style=\"background: #7aecec; padding: 0.45em 0.6em; margin: 0 0.25em; line-height: 1; border-radius: 0.35em;\">\n",
       "    Manchester United\n",
       "    <span style=\"font-size: 0.8em; font-weight: bold; line-height: 1; border-radius: 0.35em; vertical-align: middle; margin-left: 0.5rem\">ORG</span>\n",
       "</mark>\n",
       " defeated \n",
       "<mark class=\"entity\" style=\"background: #7aecec; padding: 0.45em 0.6em; margin: 0 0.25em; line-height: 1; border-radius: 0.35em;\">\n",
       "    AC Milan\n",
       "    <span style=\"font-size: 0.8em; font-weight: bold; line-height: 1; border-radius: 0.35em; vertical-align: middle; margin-left: 0.5rem\">ORG</span>\n",
       "</mark>\n",
       " at \n",
       "<mark class=\"entity\" style=\"background: #feca74; padding: 0.45em 0.6em; margin: 0 0.25em; line-height: 1; border-radius: 0.35em;\">\n",
       "    San Siro\n",
       "    <span style=\"font-size: 0.8em; font-weight: bold; line-height: 1; border-radius: 0.35em; vertical-align: middle; margin-left: 0.5rem\">GPE</span>\n",
       "</mark>\n",
       ".</div></span>"
      ],
      "text/plain": [
       "<IPython.core.display.HTML object>"
      ]
     },
     "metadata": {},
     "output_type": "display_data"
    }
   ],
   "source": [
    "displacy.render(sent, style='ent', jupyter=True)"
   ]
  },
  {
   "cell_type": "markdown",
   "metadata": {},
   "source": [
    "NER can be particularly useful when you want to focus on specific types of entities in your topic modeling or when you want to exclude certain entity types.\n"
   ]
  },
  {
   "cell_type": "markdown",
   "metadata": {},
   "source": [
    "### Dependency Parsing\n",
    "\n",
    "Dependency parsing analyzes the grammatical structure of a sentence, establishing relationships between “head” words and words that modify those heads.\n"
   ]
  },
  {
   "cell_type": "code",
   "execution_count": 11,
   "metadata": {},
   "outputs": [
    {
     "name": "stdout",
     "output_type": "stream",
     "text": [
      "Manchester United United nsubj defeated\n",
      "AC Milan Milan dobj defeated\n",
      "San Siro Siro pobj at\n"
     ]
    }
   ],
   "source": [
    "# Dependency parsing\n",
    "\n",
    "for chunk in sent.noun_chunks:\n",
    "    print(chunk.text, chunk.root.text, chunk.root.dep_, chunk.root.head.text)"
   ]
  },
  {
   "cell_type": "code",
   "execution_count": 12,
   "metadata": {},
   "outputs": [
    {
     "name": "stdout",
     "output_type": "stream",
     "text": [
      "Last amod Thursday PROPN []\n",
      "Thursday npadvmod defeated VERB [Last]\n",
      ", punct defeated VERB []\n",
      "Manchester compound United PROPN []\n",
      "United nsubj defeated VERB [Manchester]\n",
      "defeated ROOT defeated VERB [Thursday, ,, United, Milan, at, .]\n",
      "AC compound Milan PROPN []\n",
      "Milan dobj defeated VERB [AC]\n",
      "at prep defeated VERB [Siro]\n",
      "San compound Siro PROPN []\n",
      "Siro pobj at ADP [San]\n",
      ". punct defeated VERB []\n"
     ]
    }
   ],
   "source": [
    "for token in sent:\n",
    "    print(token.text, token.dep_, token.head.text, token.head.pos_,\n",
    "         [child for child in token.children])"
   ]
  },
  {
   "cell_type": "code",
   "execution_count": 13,
   "metadata": {},
   "outputs": [
    {
     "data": {
      "text/html": [
       "<span class=\"tex2jax_ignore\"><svg xmlns=\"http://www.w3.org/2000/svg\" xmlns:xlink=\"http://www.w3.org/1999/xlink\" xml:lang=\"en\" id=\"7a31bfc12edd44f89a268c824861b313-0\" class=\"displacy\" width=\"950\" height=\"272.0\" direction=\"ltr\" style=\"max-width: none; height: 272.0px; color: #000000; background: #ffffff; font-family: Arial; direction: ltr\">\n",
       "<text class=\"displacy-token\" fill=\"currentColor\" text-anchor=\"middle\" y=\"182.0\">\n",
       "    <tspan class=\"displacy-word\" fill=\"currentColor\" x=\"50\">Last</tspan>\n",
       "    <tspan class=\"displacy-tag\" dy=\"2em\" fill=\"currentColor\" x=\"50\">ADJ</tspan>\n",
       "</text>\n",
       "\n",
       "<text class=\"displacy-token\" fill=\"currentColor\" text-anchor=\"middle\" y=\"182.0\">\n",
       "    <tspan class=\"displacy-word\" fill=\"currentColor\" x=\"140\">Thursday,</tspan>\n",
       "    <tspan class=\"displacy-tag\" dy=\"2em\" fill=\"currentColor\" x=\"140\">PROPN</tspan>\n",
       "</text>\n",
       "\n",
       "<text class=\"displacy-token\" fill=\"currentColor\" text-anchor=\"middle\" y=\"182.0\">\n",
       "    <tspan class=\"displacy-word\" fill=\"currentColor\" x=\"230\">Manchester</tspan>\n",
       "    <tspan class=\"displacy-tag\" dy=\"2em\" fill=\"currentColor\" x=\"230\">PROPN</tspan>\n",
       "</text>\n",
       "\n",
       "<text class=\"displacy-token\" fill=\"currentColor\" text-anchor=\"middle\" y=\"182.0\">\n",
       "    <tspan class=\"displacy-word\" fill=\"currentColor\" x=\"320\">United</tspan>\n",
       "    <tspan class=\"displacy-tag\" dy=\"2em\" fill=\"currentColor\" x=\"320\">PROPN</tspan>\n",
       "</text>\n",
       "\n",
       "<text class=\"displacy-token\" fill=\"currentColor\" text-anchor=\"middle\" y=\"182.0\">\n",
       "    <tspan class=\"displacy-word\" fill=\"currentColor\" x=\"410\">defeated</tspan>\n",
       "    <tspan class=\"displacy-tag\" dy=\"2em\" fill=\"currentColor\" x=\"410\">VERB</tspan>\n",
       "</text>\n",
       "\n",
       "<text class=\"displacy-token\" fill=\"currentColor\" text-anchor=\"middle\" y=\"182.0\">\n",
       "    <tspan class=\"displacy-word\" fill=\"currentColor\" x=\"500\">AC</tspan>\n",
       "    <tspan class=\"displacy-tag\" dy=\"2em\" fill=\"currentColor\" x=\"500\">PROPN</tspan>\n",
       "</text>\n",
       "\n",
       "<text class=\"displacy-token\" fill=\"currentColor\" text-anchor=\"middle\" y=\"182.0\">\n",
       "    <tspan class=\"displacy-word\" fill=\"currentColor\" x=\"590\">Milan</tspan>\n",
       "    <tspan class=\"displacy-tag\" dy=\"2em\" fill=\"currentColor\" x=\"590\">PROPN</tspan>\n",
       "</text>\n",
       "\n",
       "<text class=\"displacy-token\" fill=\"currentColor\" text-anchor=\"middle\" y=\"182.0\">\n",
       "    <tspan class=\"displacy-word\" fill=\"currentColor\" x=\"680\">at</tspan>\n",
       "    <tspan class=\"displacy-tag\" dy=\"2em\" fill=\"currentColor\" x=\"680\">ADP</tspan>\n",
       "</text>\n",
       "\n",
       "<text class=\"displacy-token\" fill=\"currentColor\" text-anchor=\"middle\" y=\"182.0\">\n",
       "    <tspan class=\"displacy-word\" fill=\"currentColor\" x=\"770\">San</tspan>\n",
       "    <tspan class=\"displacy-tag\" dy=\"2em\" fill=\"currentColor\" x=\"770\">PROPN</tspan>\n",
       "</text>\n",
       "\n",
       "<text class=\"displacy-token\" fill=\"currentColor\" text-anchor=\"middle\" y=\"182.0\">\n",
       "    <tspan class=\"displacy-word\" fill=\"currentColor\" x=\"860\">Siro.</tspan>\n",
       "    <tspan class=\"displacy-tag\" dy=\"2em\" fill=\"currentColor\" x=\"860\">PROPN</tspan>\n",
       "</text>\n",
       "\n",
       "<g class=\"displacy-arrow\">\n",
       "    <path class=\"displacy-arc\" id=\"arrow-7a31bfc12edd44f89a268c824861b313-0-0\" stroke-width=\"2px\" d=\"M70,137.0 C70,92.0 130.0,92.0 130.0,137.0\" fill=\"none\" stroke=\"currentColor\"/>\n",
       "    <text dy=\"1.25em\" style=\"font-size: 0.8em; letter-spacing: 1px\">\n",
       "        <textPath xlink:href=\"#arrow-7a31bfc12edd44f89a268c824861b313-0-0\" class=\"displacy-label\" startOffset=\"50%\" side=\"left\" fill=\"currentColor\" text-anchor=\"middle\">amod</textPath>\n",
       "    </text>\n",
       "    <path class=\"displacy-arrowhead\" d=\"M70,139.0 L62,127.0 78,127.0\" fill=\"currentColor\"/>\n",
       "</g>\n",
       "\n",
       "<g class=\"displacy-arrow\">\n",
       "    <path class=\"displacy-arc\" id=\"arrow-7a31bfc12edd44f89a268c824861b313-0-1\" stroke-width=\"2px\" d=\"M160,137.0 C160,47.0 405.0,47.0 405.0,137.0\" fill=\"none\" stroke=\"currentColor\"/>\n",
       "    <text dy=\"1.25em\" style=\"font-size: 0.8em; letter-spacing: 1px\">\n",
       "        <textPath xlink:href=\"#arrow-7a31bfc12edd44f89a268c824861b313-0-1\" class=\"displacy-label\" startOffset=\"50%\" side=\"left\" fill=\"currentColor\" text-anchor=\"middle\">npadvmod</textPath>\n",
       "    </text>\n",
       "    <path class=\"displacy-arrowhead\" d=\"M160,139.0 L152,127.0 168,127.0\" fill=\"currentColor\"/>\n",
       "</g>\n",
       "\n",
       "<g class=\"displacy-arrow\">\n",
       "    <path class=\"displacy-arc\" id=\"arrow-7a31bfc12edd44f89a268c824861b313-0-2\" stroke-width=\"2px\" d=\"M250,137.0 C250,92.0 310.0,92.0 310.0,137.0\" fill=\"none\" stroke=\"currentColor\"/>\n",
       "    <text dy=\"1.25em\" style=\"font-size: 0.8em; letter-spacing: 1px\">\n",
       "        <textPath xlink:href=\"#arrow-7a31bfc12edd44f89a268c824861b313-0-2\" class=\"displacy-label\" startOffset=\"50%\" side=\"left\" fill=\"currentColor\" text-anchor=\"middle\">compound</textPath>\n",
       "    </text>\n",
       "    <path class=\"displacy-arrowhead\" d=\"M250,139.0 L242,127.0 258,127.0\" fill=\"currentColor\"/>\n",
       "</g>\n",
       "\n",
       "<g class=\"displacy-arrow\">\n",
       "    <path class=\"displacy-arc\" id=\"arrow-7a31bfc12edd44f89a268c824861b313-0-3\" stroke-width=\"2px\" d=\"M340,137.0 C340,92.0 400.0,92.0 400.0,137.0\" fill=\"none\" stroke=\"currentColor\"/>\n",
       "    <text dy=\"1.25em\" style=\"font-size: 0.8em; letter-spacing: 1px\">\n",
       "        <textPath xlink:href=\"#arrow-7a31bfc12edd44f89a268c824861b313-0-3\" class=\"displacy-label\" startOffset=\"50%\" side=\"left\" fill=\"currentColor\" text-anchor=\"middle\">nsubj</textPath>\n",
       "    </text>\n",
       "    <path class=\"displacy-arrowhead\" d=\"M340,139.0 L332,127.0 348,127.0\" fill=\"currentColor\"/>\n",
       "</g>\n",
       "\n",
       "<g class=\"displacy-arrow\">\n",
       "    <path class=\"displacy-arc\" id=\"arrow-7a31bfc12edd44f89a268c824861b313-0-4\" stroke-width=\"2px\" d=\"M520,137.0 C520,92.0 580.0,92.0 580.0,137.0\" fill=\"none\" stroke=\"currentColor\"/>\n",
       "    <text dy=\"1.25em\" style=\"font-size: 0.8em; letter-spacing: 1px\">\n",
       "        <textPath xlink:href=\"#arrow-7a31bfc12edd44f89a268c824861b313-0-4\" class=\"displacy-label\" startOffset=\"50%\" side=\"left\" fill=\"currentColor\" text-anchor=\"middle\">compound</textPath>\n",
       "    </text>\n",
       "    <path class=\"displacy-arrowhead\" d=\"M520,139.0 L512,127.0 528,127.0\" fill=\"currentColor\"/>\n",
       "</g>\n",
       "\n",
       "<g class=\"displacy-arrow\">\n",
       "    <path class=\"displacy-arc\" id=\"arrow-7a31bfc12edd44f89a268c824861b313-0-5\" stroke-width=\"2px\" d=\"M430,137.0 C430,47.0 585.0,47.0 585.0,137.0\" fill=\"none\" stroke=\"currentColor\"/>\n",
       "    <text dy=\"1.25em\" style=\"font-size: 0.8em; letter-spacing: 1px\">\n",
       "        <textPath xlink:href=\"#arrow-7a31bfc12edd44f89a268c824861b313-0-5\" class=\"displacy-label\" startOffset=\"50%\" side=\"left\" fill=\"currentColor\" text-anchor=\"middle\">dobj</textPath>\n",
       "    </text>\n",
       "    <path class=\"displacy-arrowhead\" d=\"M585.0,139.0 L593.0,127.0 577.0,127.0\" fill=\"currentColor\"/>\n",
       "</g>\n",
       "\n",
       "<g class=\"displacy-arrow\">\n",
       "    <path class=\"displacy-arc\" id=\"arrow-7a31bfc12edd44f89a268c824861b313-0-6\" stroke-width=\"2px\" d=\"M430,137.0 C430,2.0 680.0,2.0 680.0,137.0\" fill=\"none\" stroke=\"currentColor\"/>\n",
       "    <text dy=\"1.25em\" style=\"font-size: 0.8em; letter-spacing: 1px\">\n",
       "        <textPath xlink:href=\"#arrow-7a31bfc12edd44f89a268c824861b313-0-6\" class=\"displacy-label\" startOffset=\"50%\" side=\"left\" fill=\"currentColor\" text-anchor=\"middle\">prep</textPath>\n",
       "    </text>\n",
       "    <path class=\"displacy-arrowhead\" d=\"M680.0,139.0 L688.0,127.0 672.0,127.0\" fill=\"currentColor\"/>\n",
       "</g>\n",
       "\n",
       "<g class=\"displacy-arrow\">\n",
       "    <path class=\"displacy-arc\" id=\"arrow-7a31bfc12edd44f89a268c824861b313-0-7\" stroke-width=\"2px\" d=\"M790,137.0 C790,92.0 850.0,92.0 850.0,137.0\" fill=\"none\" stroke=\"currentColor\"/>\n",
       "    <text dy=\"1.25em\" style=\"font-size: 0.8em; letter-spacing: 1px\">\n",
       "        <textPath xlink:href=\"#arrow-7a31bfc12edd44f89a268c824861b313-0-7\" class=\"displacy-label\" startOffset=\"50%\" side=\"left\" fill=\"currentColor\" text-anchor=\"middle\">compound</textPath>\n",
       "    </text>\n",
       "    <path class=\"displacy-arrowhead\" d=\"M790,139.0 L782,127.0 798,127.0\" fill=\"currentColor\"/>\n",
       "</g>\n",
       "\n",
       "<g class=\"displacy-arrow\">\n",
       "    <path class=\"displacy-arc\" id=\"arrow-7a31bfc12edd44f89a268c824861b313-0-8\" stroke-width=\"2px\" d=\"M700,137.0 C700,47.0 855.0,47.0 855.0,137.0\" fill=\"none\" stroke=\"currentColor\"/>\n",
       "    <text dy=\"1.25em\" style=\"font-size: 0.8em; letter-spacing: 1px\">\n",
       "        <textPath xlink:href=\"#arrow-7a31bfc12edd44f89a268c824861b313-0-8\" class=\"displacy-label\" startOffset=\"50%\" side=\"left\" fill=\"currentColor\" text-anchor=\"middle\">pobj</textPath>\n",
       "    </text>\n",
       "    <path class=\"displacy-arrowhead\" d=\"M855.0,139.0 L863.0,127.0 847.0,127.0\" fill=\"currentColor\"/>\n",
       "</g>\n",
       "</svg></span>"
      ],
      "text/plain": [
       "<IPython.core.display.HTML object>"
      ]
     },
     "metadata": {},
     "output_type": "display_data"
    }
   ],
   "source": [
    "displacy.render(sent, style='dep', jupyter=True, options={'distance':90})"
   ]
  },
  {
   "cell_type": "markdown",
   "metadata": {},
   "source": [
    "Dependency parsing can be useful for more advanced text analysis tasks, such as relation extraction or sentiment analysis that takes sentence structure into account.\n",
    "\n",
    "These linguistic features provided by spaCy offer a deeper understanding of text structure and meaning. While we won’t directly use all of these in our topic modeling process, understanding these concepts can help in interpreting results and developing more sophisticated NLP pipelines in the future.\n"
   ]
  },
  {
   "cell_type": "code",
   "execution_count": 14,
   "metadata": {},
   "outputs": [
    {
     "name": "stdout",
     "output_type": "stream",
     "text": [
      "['hundred', 'people', 'force', 'vacate', 'home', 'Southern', 'Highlands', 'New', 'South', 'Wales', 'strong', 'wind', 'push', 'huge', 'bushfire', 'town', 'Hill', 'new', 'blaze', 'near', 'Goulburn', 'south', 'west', 'Sydney', 'force', 'closure', 'Hume', 'Highway', '4:00pm', 'AEDT', 'mark', 'deterioration', 'weather', 'storm', 'cell', 'move', 'east', 'Blue', 'Mountains', 'force', 'authority', 'decision', 'evacuate', 'people', 'home', 'outlying', 'street', 'Hill', 'New', 'South', 'Wales', 'southern', 'highland', 'estimated', 'resident', 'leave', 'home', 'nearby', 'Mittagong', 'New', 'South', 'Wales', 'Rural', 'Fire', 'Service', 'weather', 'condition', 'cause', 'fire', 'burn', 'finger', 'formation', 'ease', 'fire', 'unit', 'Hill', 'optimistic', 'defend', 'property', 'blaze', 'burn', 'New', 'Year', 'Eve', 'New', 'South', 'Wales', 'fire', 'crew', 'call', 'new', 'fire', 'Gunning', 'south', 'Goulburn', 'detail', 'available', 'stage', 'fire', 'authority', 'close', 'Hume', 'Highway', 'direction', 'new', 'fire', 'Sydney', 'west', 'long', 'threaten', 'property', 'Cranebrook', 'area', 'rain', 'fall', 'part', 'Illawarra', 'Sydney', 'Hunter', 'Valley', 'north', 'coast', 'Bureau', 'Meteorology', 'Claire', 'Richards', 'rain', 'little', 'ease', 'fire', 'burn', 'state', 'fall', 'isolated', 'area', 'generally', 'fall', 'millimetre', 'place', 'significant', 'millimetre', 'relief', 'far', 'rain', 'concern', 'fact', 'probably', 'hamper', 'effort', 'firefighter', 'wind', 'gust', 'associate', 'thunderstorm']\n"
     ]
    }
   ],
   "source": [
    "# Data cleaning\n",
    "\n",
    "texts, article = [], []\n",
    "\n",
    "for word in doc:\n",
    "    \n",
    "    if word.text != '\\n' and not word.is_stop and not word.is_punct\\\n",
    "                         and not word.like_num and word.text != 'I':\n",
    "        article.append(word.lemma_)\n",
    "        \n",
    "    if word.text == '\\n':\n",
    "        texts.append(article)\n",
    "        article = []\n",
    "        \n",
    "print(texts[0])"
   ]
  },
  {
   "cell_type": "markdown",
   "metadata": {},
   "source": [
    "Sometimes, treating certain word pairs as single tokens can improve the interpretability of our topics. For example, “New York” is more meaningful as a single entity than “New” and “York” separately. We can use Gensim’s Phrases model to detect common bigrams:\n"
   ]
  },
  {
   "cell_type": "code",
   "execution_count": 16,
   "metadata": {},
   "outputs": [
    {
     "name": "stdout",
     "output_type": "stream",
     "text": [
      "['hundred', 'people', 'force', 'vacate', 'home', 'Southern', 'Highlands', 'New_South_Wales', 'strong', 'wind', 'push', 'huge', 'bushfire', 'town', 'Hill', 'new', 'blaze', 'near', 'Goulburn', 'south_west', 'Sydney', 'force', 'closure', 'Hume', 'Highway', '4:00pm', 'AEDT', 'mark', 'deterioration', 'weather', 'storm', 'cell', 'move', 'east', 'Blue_Mountains', 'force', 'authority', 'decision', 'evacuate', 'people', 'home', 'outlying', 'street', 'Hill', 'New_South_Wales', 'southern', 'highland', 'estimated', 'resident', 'leave', 'home', 'nearby', 'Mittagong', 'New_South_Wales', 'Rural_Fire_Service', 'weather_condition', 'cause', 'fire_burn', 'finger', 'formation', 'ease', 'fire', 'unit', 'Hill', 'optimistic', 'defend', 'property', 'blaze', 'burn', 'New', 'Year', 'Eve', 'New_South_Wales', 'fire', 'crew', 'call', 'new', 'fire', 'Gunning', 'south', 'Goulburn', 'detail', 'available', 'stage', 'fire', 'authority', 'close', 'Hume', 'Highway', 'direction', 'new', 'fire', 'Sydney', 'west', 'long', 'threaten', 'property', 'Cranebrook', 'area', 'rain', 'fall', 'part', 'Illawarra', 'Sydney', 'Hunter', 'Valley', 'north', 'coast', 'Bureau', 'Meteorology', 'Claire', 'Richards', 'rain', 'little', 'ease', 'fire_burn', 'state', 'fall', 'isolated', 'area', 'generally', 'fall', 'millimetre', 'place', 'significant', 'millimetre', 'relief', 'far', 'rain', 'concern', 'fact', 'probably', 'hamper', 'effort', 'firefighter', 'wind', 'gust', 'associate', 'thunderstorm']\n"
     ]
    }
   ],
   "source": [
    "# Creating Bigrams\n",
    "\n",
    "bigram = gensim.models.phrases.Phrases(texts)\n",
    "texts = [bigram[line] for line in texts]\n",
    "print(texts[0])"
   ]
  },
  {
   "cell_type": "markdown",
   "metadata": {},
   "source": [
    "Notice how “New South” has been combined into “New_South”.\n",
    "\n",
    "### Creating the Dictionary and Corpus\n",
    "\n",
    "Gensim requires two main components for topic modeling:\n",
    "\n",
    "- A Dictionary: mapping between words and their integer ids\n",
    "- A Corpus: a list of documents, where each document is represented as a bag-of-words\n"
   ]
  },
  {
   "cell_type": "code",
   "execution_count": 17,
   "metadata": {},
   "outputs": [
    {
     "name": "stdout",
     "output_type": "stream",
     "text": [
      "[(69, 1), (81, 1), (89, 1), (91, 1), (92, 1), (106, 1), (107, 1), (108, 1), (109, 4), (110, 1), (111, 1), (112, 1), (113, 1), (114, 2), (115, 1), (116, 1), (117, 3), (118, 1), (119, 1), (120, 1), (121, 2), (122, 3), (123, 1), (124, 2), (125, 2), (126, 1), (127, 1), (128, 1), (129, 1), (130, 1), (131, 1), (132, 1), (133, 1), (134, 1), (135, 1), (136, 3), (137, 1), (138, 1), (139, 1), (140, 2), (141, 1), (142, 1), (143, 1), (144, 1), (145, 1), (146, 1), (147, 1), (148, 3), (149, 3), (150, 1), (151, 1), (152, 2), (153, 1), (154, 1), (155, 2), (156, 1), (157, 1), (158, 1), (159, 1), (160, 1), (161, 1), (162, 1), (163, 1), (164, 1), (165, 1), (166, 1), (167, 1), (168, 2), (169, 1), (170, 1), (171, 1), (172, 1), (173, 1), (174, 1)]\n"
     ]
    }
   ],
   "source": [
    "# Creating dictionary and corpus\n",
    "\n",
    "dictionary = Dictionary(texts)\n",
    "corpus = [dictionary.doc2bow(text) for text in texts]\n",
    "print(corpus[1])"
   ]
  },
  {
   "cell_type": "markdown",
   "metadata": {},
   "source": [
    "Each tuple in this output represents (word_id, word_count). For example, (71, 1) means the word with id 71 appears once in this document.\n",
    "\n",
    "### Why This Preparation Matters\n",
    "\n",
    "This data preparation is vital for several reasons:\n",
    "\n",
    "- **Efficiency**: Representing words as integers is much more memory-efficient than using strings.\n",
    "- **Compatibility**: Many text analysis algorithms, including Gensim’s topic models, expect input in this format.\n",
    "- **Information Retention**: Despite the seemingly cryptic format, all necessary information for topic modeling is preserved.\n",
    "- **Noise Reduction**: By removing stopwords, lemmatizing, and creating bigrams, we’ve reduced noise and increased the semantic value of our tokens.\n",
    "\n",
    "## Topic Modeling\n",
    "\n",
    "Now that we have prepared our corpus, we can apply various topic modeling techniques. We’ll explore three popular methods: Latent Semantic Indexing (LSI), Hierarchical Dirichlet Process (HDP), and Latent Dirichlet Allocation (LDA).\n",
    "\n",
    "### LSI — Latent Semantic Indexing\n",
    "\n",
    "LSI, also known as Latent Semantic Analysis (LSA), is a technique that uncovers latent topics by decomposing the term-document matrix using Singular Value Decomposition (SVD).\n"
   ]
  },
  {
   "cell_type": "code",
   "execution_count": 18,
   "metadata": {},
   "outputs": [
    {
     "data": {
      "text/plain": [
       "[(0,\n",
       "  '-0.237*\"israeli\" + -0.213*\"Arafat\" + -0.180*\"force\" + -0.174*\"palestinian\" + -0.160*\"kill\" + -0.153*\"attack\" + -0.146*\"people\" + -0.137*\"official\" + -0.125*\"day\" + -0.117*\"Afghanistan\"'),\n",
       " (1,\n",
       "  '0.331*\"israeli\" + 0.323*\"Arafat\" + 0.258*\"palestinian\" + 0.173*\"Sharon\" + -0.168*\"Australia\" + 0.164*\"Israel\" + -0.160*\"Afghanistan\" + -0.118*\"day\" + 0.114*\"Hamas\" + -0.113*\"year\"'),\n",
       " (2,\n",
       "  '-0.285*\"Afghanistan\" + -0.240*\"force\" + 0.176*\"fire\" + -0.172*\"bin_Laden\" + -0.167*\"Pakistan\" + 0.142*\"win\" + 0.137*\"Sydney\" + 0.127*\"Australia\" + -0.127*\"Taliban\" + -0.114*\"afghan\"'),\n",
       " (3,\n",
       "  '0.397*\"fire\" + 0.282*\"area\" + 0.213*\"Sydney\" + -0.205*\"Australia\" + 0.182*\"firefighter\" + 0.167*\"north\" + 0.157*\"wind\" + 0.137*\"New_South_Wales\" + 0.136*\"south\" + 0.116*\"storm\"'),\n",
       " (4,\n",
       "  '0.281*\"company\" + 0.167*\"union\" + 0.152*\"Qantas\" + -0.149*\"test\" + -0.134*\"match\" + -0.134*\"wicket\" + -0.126*\"win\" + -0.121*\"day\" + 0.120*\"cent\" + 0.120*\"Australian\"')]"
      ]
     },
     "execution_count": 18,
     "metadata": {},
     "output_type": "execute_result"
    }
   ],
   "source": [
    "# LSI Model\n",
    "\n",
    "lsi_model = LsiModel(corpus=corpus, num_topics=10, id2word=dictionary)\n",
    "lsi_model.show_topics(num_topics=5)"
   ]
  },
  {
   "cell_type": "markdown",
   "metadata": {},
   "source": [
    "### HDP — Hierarchical Dirichlet Process\n",
    "\n",
    "HDP is a nonparametric Bayesian approach to topic modeling. Unlike LSI and LDA, HDP can automatically determine the number of topics.\n"
   ]
  },
  {
   "cell_type": "code",
   "execution_count": 19,
   "metadata": {},
   "outputs": [
    {
     "data": {
      "text/plain": [
       "[(0,\n",
       "  '0.004*israeli + 0.003*airport + 0.003*Arafat + 0.003*Taliban + 0.003*Sharon + 0.002*military + 0.002*kill + 0.002*night + 0.002*force + 0.002*official + 0.002*target + 0.002*palestinian + 0.002*civilian + 0.002*Kandahar + 0.002*early + 0.002*hit + 0.001*wound + 0.001*choose + 0.001*warplane + 0.001*Lali'),\n",
       " (1,\n",
       "  '0.003*match + 0.003*Krishna + 0.002*ashe + 0.002*Hare + 0.002*team + 0.002*member + 0.002*day + 0.002*Rafter + 0.002*Harrison + 0.002*Australia + 0.002*ask + 0.002*play + 0.002*israeli + 0.002*devotee + 0.002*tennis + 0.002*France + 0.002*hour + 0.002*river + 0.002*Ganges + 0.001*benare'),\n",
       " (2,\n",
       "  '0.006*company + 0.003*director + 0.003*Friedli + 0.002*staff + 0.002*reply + 0.002*entitlement + 0.002*Austar + 0.002*receive + 0.002*know + 0.002*holy + 0.002*review + 0.002*end + 0.002*administrator + 0.002*Foley + 0.002*Australians + 0.002*job + 0.001*responsibility + 0.001*royal + 0.001*payment + 0.001*trip'),\n",
       " (3,\n",
       "  '0.003*India + 0.002*Adventure_World + 0.002*guide + 0.002*people + 0.002*Australia + 0.002*Interlaken + 0.002*mountain + 0.001*defendant + 0.001*face + 0.001*year_jail + 0.001*violent + 0.001*wall + 0.001*proceed + 0.001*appear + 0.001*Government + 0.001*Executive + 0.001*canyone + 0.001*document + 0.001*kill + 0.001*include'),\n",
       " (4,\n",
       "  '0.003*Sharon + 0.003*Government + 0.003*palestinian + 0.002*group + 0.002*kill + 0.002*Gaza_Strip + 0.002*choose + 0.002*human_right + 0.002*militant + 0.002*armed + 0.002*israeli + 0.002*West_Bank + 0.002*security + 0.002*suicide_attack + 0.002*attack + 0.002*Arafat + 0.002*call + 0.001*terrorism + 0.001*objection + 0.001*emergency')]"
      ]
     },
     "execution_count": 19,
     "metadata": {},
     "output_type": "execute_result"
    }
   ],
   "source": [
    "# HDP Model\n",
    "\n",
    "hdp_model = HdpModel(corpus=corpus, id2word=dictionary)\n",
    "hdp_model.show_topics()[:5]"
   ]
  },
  {
   "cell_type": "markdown",
   "metadata": {},
   "source": [
    "### LDA — Latent Dirichlet Allocation\n",
    "\n",
    "LDA is perhaps the most popular topic modeling technique. It views documents as mixtures of topics and topics as mixtures of words.\n"
   ]
  },
  {
   "cell_type": "code",
   "execution_count": 20,
   "metadata": {},
   "outputs": [
    {
     "data": {
      "text/plain": [
       "[(0,\n",
       "  '0.005*\"israeli\" + 0.004*\"force\" + 0.004*\"people\" + 0.003*\"fire\" + 0.003*\"go\" + 0.003*\"Australia\" + 0.003*\"area\" + 0.003*\"give\" + 0.003*\"time\" + 0.003*\"report\"'),\n",
       " (1,\n",
       "  '0.005*\"day\" + 0.004*\"area\" + 0.004*\"new\" + 0.003*\"official\" + 0.003*\"attack\" + 0.003*\"wind\" + 0.003*\"fire\" + 0.003*\"firefighter\" + 0.003*\"Sydney\" + 0.003*\"year\"'),\n",
       " (2,\n",
       "  '0.006*\"year\" + 0.004*\"Arafat\" + 0.004*\"world\" + 0.004*\"economy\" + 0.003*\"tell\" + 0.003*\"Australia\" + 0.003*\"end\" + 0.003*\"good\" + 0.003*\"set\" + 0.003*\"israeli\"'),\n",
       " (3,\n",
       "  '0.009*\"Australia\" + 0.007*\"people\" + 0.005*\"man\" + 0.004*\"day\" + 0.004*\"force\" + 0.004*\"think\" + 0.003*\"Afghanistan\" + 0.003*\"United_States\" + 0.003*\"attack\" + 0.003*\"report\"'),\n",
       " (4,\n",
       "  '0.005*\"group\" + 0.005*\"israeli\" + 0.005*\"year\" + 0.004*\"come\" + 0.004*\"attack\" + 0.004*\"arrest\" + 0.003*\"palestinian\" + 0.003*\"know\" + 0.003*\"believe\" + 0.003*\"call\"'),\n",
       " (5,\n",
       "  '0.006*\"report\" + 0.005*\"company\" + 0.004*\"people\" + 0.004*\"year\" + 0.003*\"good\" + 0.003*\"fire\" + 0.003*\"HIH\" + 0.003*\"boat\" + 0.003*\"early\" + 0.003*\"continue\"'),\n",
       " (6,\n",
       "  '0.005*\"tell\" + 0.004*\"think\" + 0.004*\"force\" + 0.004*\"Taliban\" + 0.003*\"people\" + 0.003*\"year\" + 0.003*\"day\" + 0.003*\"metre\" + 0.003*\"child\" + 0.003*\"kill\"'),\n",
       " (7,\n",
       "  '0.004*\"year\" + 0.004*\"israeli\" + 0.004*\"people\" + 0.003*\"attack\" + 0.003*\"day\" + 0.003*\"month\" + 0.003*\"new\" + 0.003*\"force\" + 0.003*\"launch\" + 0.003*\"meeting\"'),\n",
       " (8,\n",
       "  '0.005*\"Australia\" + 0.005*\"Government\" + 0.004*\"kill\" + 0.004*\"official\" + 0.004*\"australian\" + 0.004*\"day\" + 0.004*\"israeli\" + 0.004*\"attack\" + 0.003*\"force\" + 0.003*\"people\"'),\n",
       " (9,\n",
       "  '0.006*\"Afghanistan\" + 0.005*\"day\" + 0.005*\"force\" + 0.004*\"Pakistan\" + 0.004*\"Australia\" + 0.004*\"union\" + 0.004*\"claim\" + 0.003*\"company\" + 0.003*\"take\" + 0.003*\"year\"')]"
      ]
     },
     "execution_count": 20,
     "metadata": {},
     "output_type": "execute_result"
    }
   ],
   "source": [
    "# LDA Model\n",
    "\n",
    "lda_model = LdaModel(corpus=corpus, num_topics=10, id2word=dictionary)\n",
    "lda_model.show_topics()"
   ]
  },
  {
   "cell_type": "markdown",
   "metadata": {},
   "source": [
    "### Interpreting the Results\n",
    "\n",
    "Looking at the outputs, we can see some clear themes emerging:\n",
    "\n",
    "- **Afghanistan war**: “Afghanistan”, “Taliban”, “Al_Qaeda”, and “bin_Laden” are prominent.\n",
    "- **Australian news**: “Australia”, “Sydney”, “New_South Wales” appear in multiple topics.\n",
    "- **Business news**: Words like “company”, “union”, and “worker” suggest business-related topics.\n",
    "\n",
    "Each model offers a different perspective on the underlying topics in our corpus. LSI provides a mathematical decomposition, HDP offers a flexible number of topics, and LDA gives a probabilistic distribution of topics.\n"
   ]
  },
  {
   "cell_type": "markdown",
   "metadata": {},
   "source": [
    "## Visualizing Topics with pyLDAvis\n",
    "\n",
    "After creating our topic models, it’s crucial to interpret and communicate the results effectively. pyLDAvis, a Python port of the R LDAvis package, offers an excellent interactive visualization tool for this purpose.\n"
   ]
  },
  {
   "cell_type": "code",
   "execution_count": 22,
   "metadata": {},
   "outputs": [
    {
     "data": {
      "text/html": [
       "\n",
       "<link rel=\"stylesheet\" type=\"text/css\" href=\"https://cdn.jsdelivr.net/gh/bmabey/pyLDAvis@3.4.0/pyLDAvis/js/ldavis.v1.0.0.css\">\n",
       "\n",
       "\n",
       "<div id=\"ldavis_el852825234200406563826409345\" style=\"background-color:white;\"></div>\n",
       "<script type=\"text/javascript\">\n",
       "\n",
       "var ldavis_el852825234200406563826409345_data = {\"mdsDat\": {\"x\": [-0.009023449459869435, 0.013389143694281956, -0.03060733217433178, 0.012408222782367782, 0.053495243320385626, 0.024242469148150557, -0.0367408896928231, -0.04332120266275918, 0.024440356312026134, -0.008282561267428603], \"y\": [-0.014854376111035718, 0.037196971688818796, 0.017302002003285983, -0.0354912608323588, -0.033343267337651875, -0.009928870521767379, -0.027622168732781692, -0.010909558656725205, 0.04638803430268238, 0.031262494197533436], \"topics\": [1, 2, 3, 4, 5, 6, 7, 8, 9, 10], \"cluster\": [1, 1, 1, 1, 1, 1, 1, 1, 1, 1], \"Freq\": [22.88482024080365, 12.622927555682622, 12.433042740496212, 10.255494120531537, 10.153637445987343, 8.672083525260717, 7.2046098950031014, 6.020905854687329, 6.003981059524059, 3.748497562023429]}, \"tinfo\": {\"Term\": [\"year\", \"report\", \"israeli\", \"economy\", \"Afghanistan\", \"Arafat\", \"company\", \"world\", \"good\", \"HIH\", \"tell\", \"boat\", \"Australia\", \"Pakistan\", \"win\", \"end\", \"metre\", \"set\", \"Governor_General\", \"group\", \"palestinian\", \"Taliban\", \"force\", \"union\", \"fire\", \"cut\", \"claim\", \"firefighter\", \"child\", \"early\", \"Chechen\", \"Raduyev\", \"Hilton\", \"Potts\", \"Hotel\", \"Dagestan\", \"Salman\", \"hostage\", \"Iraq\", \"petrol\", \"discover\", \"Zimbabwe\", \"Afroz\", \"chemical\", \"Centrelink\", \"defector\", \"Butler\", \"republic\", \"suspension\", \"steal\", \"Action\", \"Northside\", \"explosion\", \"Centenary\", \"Trans\", \"unresolved\", \"Street\", \"installation\", \"opporunity\", \"retain\", \"Hicks\", \"Razzak\", \"virus\", \"Austar\", \"male\", \"Downer\", \"Ministerial\", \"glass\", \"Australia\", \"India\", \"people\", \"man\", \"Britain\", \"car\", \"Commonwealth\", \"interview\", \"lot\", \"pay\", \"think\", \"United_States\", \"feel\", \"Australian\", \"Afghanistan\", \"continue\", \"security\", \"report\", \"new\", \"force\", \"day\", \"night\", \"attack\", \"work\", \"storm\", \"injure\", \"north\", \"union\", \"damage\", \"fire\", \"claim\", \"give\", \"Arafat\", \"try\", \"time\", \"company\", \"kill\", \"believe\", \"call\", \"area\", \"israeli\", \"Government\", \"australian\", \"come\", \"ticket\", \"Gutnick\", \"Templeton\", \"Kashmir\", \"Szondy\", \"Picton\", \"rfds\", \"engine\", \"Kashmiri\", \"motorist\", \"raft\", \"Bulli\", \"Franklin\", \"alliance\", \"motive\", \"Muttahida\", \"club\", \"smuggle\", \"MJC\", \"Kashmiris\", \"Yallourn\", \"attention\", \"Romaszko\", \"Abbott\", \"Civil\", \"alarm\", \"lean\", \"Ismail\", \"Pawlik\", \"malaysian\", \"Road\", \"Gambier\", \"Hume\", \"Highway\", \"Safety\", \"Lockett\", \"dump\", \"Mt\", \"group\", \"paedophile\", \"intelligence\", \"Indian\", \"arrest\", \"come\", \"indian\", \"militant\", \"israeli\", \"know\", \"year\", \"aircraft\", \"win\", \"believe\", \"attack\", \"palestinian\", \"Sharon\", \"power\", \"call\", \"week\", \"police\", \"month\", \"time\", \"Arafat\", \"job\", \"afghan\", \"security\", \"tell\", \"day\", \"force\", \"people\", \"work\", \"man\", \"fire\", \"lead\", \"Afghanistan\", \"Government\", \"early\", \"Boje\", \"Office\", \"Nicky\", \"defunctoperator\", \"provision\", \"inexperienced\", \"shepherd\", \"Palos\", \"Freeman\", \"Classic\", \"Los\", \"explanation\", \"Track\", \"Governor_General\", \"Interlaken\", \"ridiculous\", \"judgment\", \"campaigner\", \"violent\", \"assume\", \"fit\", \"advocate\", \"unanswered\", \"incumbent\", \"tradition\", \"bishop\", \"Jim\", \"Soorley\", \"wash\", \"catholic\", \"Rudd\", \"anglican\", \"Dr_Hollingworth\", \"Hass\", \"Brisbane\", \"wall\", \"event\", \"guide\", \"metre\", \"Taliban\", \"doctor\", \"Archbishop\", \"knowledge\", \"elder\", \"tomorrow\", \"Adventure_World\", \"Kandahar\", \"water\", \"tell\", \"child\", \"think\", \"staff\", \"surrender\", \"abuse\", \"Senator_Hill\", \"receive\", \"try\", \"Sydney\", \"court\", \"member\", \"kill\", \"force\", \"leader\", \"australian\", \"well\", \"come\", \"area\", \"year\", \"man\", \"group\", \"people\", \"day\", \"Afghanistan\", \"Pakistan\", \"cent\", \"Australia\", \" \", \"early\", \"time\", \"Government\", \"Jackson\", \"Wolthuizen\", \"regulate\", \"Lew\", \"DFAT\", \"interest_rate\", \"Honours\", \"Rings\", \"reward\", \"Merit\", \"Tolkien\", \"knighthood\", \"companion\", \"Order\", \"Consumers\", \"proper\", \"Katherine\", \"ACA\", \"amend\", \"Competition\", \"Consumer\", \"ACCC\", \"card\", \"Olivier\", \"Ethnic\", \"Ghulam\", \"Hassan\", \"Refugee\", \"Hazara\", \"bully\", \"Gerber\", \"Pacific\", \"Reserve_Bank\", \"Giuliani\", \"survey\", \"credit\", \"New_Zealand\", \"refugee\", \"MacGill\", \"alarming\", \"cut\", \"Government\", \"asylum_seeker\", \"kill\", \"official\", \"cash\", \"Lindsay\", \"australian\", \"cent\", \"boat\", \"form\", \"Department\", \"Australia\", \"Glenn_McGrath\", \"Taliban\", \"early\", \"israeli\", \"attack\", \"company\", \"yesterday\", \"day\", \"long\", \"want\", \"force\", \"leave\", \"fire\", \"include\", \"tell\", \"man\", \"people\", \"report\", \"new\", \"place\", \"year\", \"palestinian\", \"area\", \"claim\", \"United_States\", \"Australian\", \"cow\", \"mad\", \"lung_cancer\", \"Nelson\", \"razor\", \"outbreak\", \"product\", \"typhoid\", \"farmer\", \"Assa_Abloy\", \"Round\", \"burning\", \"Truss\", \"incinerate\", \"meat\", \"organ\", \"ministerial\", \"dairy\", \"especially\", \"Nicorette\", \"selector\", \"Hobart\", \"Swedish\", \"Center\", \"World_Trade\", \"dock\", \"Derwent\", \"spectator\", \"swedish\", \"contaminated\", \"Peru\", \"Blue_Mountains\", \"disease\", \"particularly\", \"firefighter\", \"taxpayer\", \"wind\", \"Japan\", \"line\", \"skipper\", \"genetically\", \"predict\", \"yacht\", \"area\", \"change\", \"New_South_Wales\", \"start\", \"day\", \"new\", \"World\", \"official\", \"Sydney\", \"government\", \"look\", \"test\", \"end\", \"fire\", \"attack\", \"Hamas\", \"morning\", \"hour\", \"lead\", \"Arafat\", \"Government\", \"know\", \"year\", \"palestinian\", \"australian\", \"israeli\", \"take\", \"people\", \"chain\", \"McDonald\", \"voluntary\", \"Rodriguez\", \"unsustainable\", \"sand\", \"Jeff\", \"accelerate\", \"subsidiary\", \"financially\", \"us1,000\", \"Adolfo\", \"Command\", \"pesos\", \"shrink\", \"pension\", \"retiree\", \"Central\", \"argentine\", \"Franks\", \"U\", \"assumption\", \"Reserve\", \"detailed\", \"S\", \"vicinity\", \"yemeni\", \"distinctive\", \"8:00am\", \"concede\", \"Belgium\", \"soft\", \"Saa\", \"cost\", \"datum\", \"population\", \"rate\", \"Federal\", \"route\", \"health\", \"level\", \"wicket\", \"Heritage\", \"growth\", \"Coalition\", \"israeli\", \"quarter\", \"majority\", \"go\", \"Tora_Bora\", \"issue\", \"sector\", \"spill\", \"age\", \"give\", \"rise\", \"open\", \"hour\", \"fire\", \"look\", \"police\", \"force\", \"area\", \"palestinian\", \"time\", \"arrest\", \"report\", \"people\", \"leader\", \"australian\", \"United_States\", \"militant\", \"Arafat\", \"meeting\", \"Australia\", \"new\", \"month\", \"day\", \"man\", \"work\", \"year\", \"think\", \"come\", \"attack\", \"Bourne\", \"Nettle\", \"Greens\", \"Kerry\", \"Senator\", \"counting\", \"Tel\", \"Rich\", \"ballot\", \"ASIC\", \"Senate\", \"Vicki\", \"Democrats\", \"billion\", \"inauguration\", \"livelihood\", \"Honiara\", \"aside\", \"slowly\", \"keen\", \"cycle\", \"bitter\", \"disintegration\", \"mislead\", \"baseless\", \"known\", \"tampering\", \"box\", \"managing\", \"discrepancy\", \"opportunity\", \"Solomon\", \"count\", \"Lee\", \"Pakistan\", \"Afghanistan\", \"Kissinger\", \"union\", \"career\", \"race\", \"Islands\", \"Karzai\", \"worker\", \"claim\", \"earn\", \"Grand\", \"day\", \"offer\", \"force\", \"capture\", \"match\", \"company\", \"take\", \"war\", \"country\", \"Australia\", \"economy\", \"yesterday\", \"military\", \"bin_Laden\", \"year\", \"member\", \" \", \"test\", \"go\", \"$\", \"power\", \"time\", \"find\", \"hour\", \"month\", \"Australian\", \"australian\", \"people\", \"come\", \"solvency\", \"royal\", \"Ernst\", \"commissioner\", \"Owen\", \"Young\", \"Commissions\", \"confidential\", \"6b\", \"auditor\", \"adhere\", \"circulate\", \"content\", \"disclose\", \"strict\", \"solvently\", \"extreme\", \"apra\", \"APRA\", \"leak\", \"copy\", \"HIH\", \"alternative\", \"coroner\", \"musical\", \"Guard\", \"arbitrate\", \"Globe\", \"offence\", \"Dixon\", \"AMWU\", \"insurance\", \"private\", \"royal_commission\", \"boat\", \"giant\", \"Justice\", \"report\", \"commission\", \"forest\", \"industrial_action\", \"Coast\", \"provisional_liquidation\", \"reject\", \"company\", \"East_Timor\", \"possible\", \"good\", \"Qantas\", \"statement\", \"escalate\", \"yesterday\", \"people\", \"power\", \"year\", \"continue\", \"early\", \"fire\", \"collapse\", \"injure\", \"Queensland\", \"return\", \"tell\", \"New_South_Wales\", \"storm\", \"area\", \"force\", \"believe\", \"home\", \"claim\", \"Sydney\", \"time\", \"give\", \"day\", \"official\", \"place\", \"shuttle\", \"Megawati\", \"Space\", \"casino\", \"McMenamin\", \"Endeavour\", \"space\", \"scientific\", \"tonne\", \"Walz\", \"Yuri\", \"gaming\", \"Station\", \"cosmonaut\", \"Raffaello\", \"experiment\", \"Dan\", \"Democratic\", \"Daka\", \"undercover\", \"earth\", \"Italian\", \"Administration\", \"NASA\", \"Iffam\", \"docking\", \"Onufrienko\", \"cargo\", \"module\", \"rectify\", \"prostitute\", \"gambling\", \"Bursch\", \"astronaut\", \"russian\", \"UTN\", \"summit\", \"launch\", \"Indonesia\", \"child_sex\", \"midwife\", \"Hewitt\", \"station\", \"nuclear\", \"palestinian_official\", \"israeli\", \"year\", \"Howard\", \"$\", \"meeting\", \"number\", \"month\", \"building\", \"international\", \"hear\", \"attack\", \"people\", \"new\", \"take\", \"Australian\", \"follow\", \"militant\", \"work\", \"day\", \"security\", \"force\", \"group\", \"kill\", \"Hamas\", \"tell\", \"palestinian\", \"official\", \"fire\", \"call\", \"Australia\", \"Macfarlane\", \"personally\", \"quarrel\", \"Sherrard\", \"quake\", \"earthquake\", \"Governor\", \"Moulin\", \"Richter\", \"Launceston\", \"90\", \"remarkably\", \"70\", \"Burakin\", \"musical\", \"ride\", \"actress\", \"Crowe\", \"Gissin\", \"80\", \"tent\", \"epicentre\", \"calendar\", \"pickup\", \"expel\", \"Geo\", \"wheatbelt\", \"sleep\", \"shake\", \"directive\", \"nomination\", \"daily\", \"Virgin\", \"economy\", \"Rouge\", \"Treasurer\", \"recovery\", \"metre_butterfly\", \"slump\", \"Reserve_Bank\", \"dependent\", \"mid\", \"Seles\", \"world\", \"recession\", \"year\", \"set\", \"measure\", \"Arafat\", \"end\", \"good\", \"win\", \"tell\", \"spokesman\", \"strong\", \"terrorism\", \"United_States\", \"palestinian\", \"israeli\", \"economic\", \"Australia\", \"get\", \"kill\", \"report\", \"remain\", \"break\", \"Afghanistan\", \"child\", \"month\", \"early\", \"attack\", \"night\", \"fire\", \"australian\", \"people\", \"time\", \"Government\", \"new\", \"force\"], \"Freq\": [87.0, 67.0, 79.0, 19.0, 67.0, 58.0, 60.0, 37.0, 42.0, 12.0, 67.0, 19.0, 121.0, 38.0, 39.0, 42.0, 27.0, 28.0, 12.0, 54.0, 57.0, 31.0, 91.0, 41.0, 67.0, 22.0, 50.0, 21.0, 41.0, 53.0, 4.298956104966829, 3.2220968144636246, 2.325302782440235, 2.325097906798265, 2.324806767728097, 2.184058147565531, 2.1592220363860903, 2.138997045957363, 2.7960050428021024, 4.681030448996868, 2.079576867037928, 6.46821269680321, 4.7418416256959945, 2.6070580563532215, 1.9618982278669606, 1.9418374406305046, 1.9121272565836949, 4.6003499293361445, 2.970549441877248, 2.324893977027218, 2.402546385514334, 1.2183226107353575, 1.2182882756208444, 1.2181796896388584, 1.2181102627130937, 1.2180752654889346, 1.2180629691669327, 1.2180646717345944, 1.2180405520260522, 1.2180355389101591, 8.605126556639267, 2.434010025078615, 6.437639121777682, 3.984690869074292, 3.467210940552791, 5.924845794506568, 2.2524852877642667, 1.7586131624413088, 58.407695982314735, 17.265658448477254, 48.49491119798353, 31.74846475686238, 8.95430426665634, 8.5878390629497, 6.9902017811899, 6.294975302169774, 9.69778605339236, 15.250923114142307, 24.058508423368696, 22.053159155379078, 6.475448987714237, 19.536596164560127, 22.180766979979488, 16.444301973587162, 15.642304828056862, 21.224987869661348, 20.760748366969494, 25.44407917405164, 27.45053019249263, 13.005389220966991, 21.81552913838282, 15.822277580360385, 9.755092967495129, 10.80119594071044, 12.125571112751059, 13.242742286956927, 10.748787124596488, 17.14728837766141, 14.435707989982518, 14.668039616415246, 14.545400262600342, 12.69337894135542, 14.805604056701872, 14.375574813561157, 14.289553528319546, 13.214391886949343, 13.2883786672606, 13.72273924253294, 13.905990005107986, 13.496278069398103, 13.474977056207118, 13.31768401855227, 3.369523042406051, 3.3317065000510504, 2.6498221186385313, 4.445058580387596, 1.8178986729506357, 1.842553677864117, 1.8283856220361128, 3.129959144941561, 2.901782908434012, 1.7437300797971673, 2.9077178817687095, 1.723506009650812, 2.218407009934989, 1.069737674864538, 1.0667543276545035, 1.0641624854191831, 4.82691617132174, 1.51856640728881, 1.0586839200694003, 1.0560187228241589, 3.658622336356721, 1.0523433550937875, 1.577459836996546, 1.5572714530712335, 1.5909834539322705, 1.5439192760804599, 1.5711705057476353, 1.5079091660608135, 1.5479738359958284, 1.432729776348162, 4.23274643431866, 2.853979441470834, 2.4708106427775602, 5.3329446987936775, 3.9952193644411675, 4.662824248844181, 1.504901714999724, 2.736182147487806, 18.9987146700171, 2.6514033730060196, 3.4133588694016046, 4.110223742072065, 14.647660273979204, 15.849959529844945, 6.313323658784599, 10.076930683621914, 17.11431023728935, 12.194332331759597, 17.086908228120983, 5.916848908234826, 9.991580929603444, 11.939206320241574, 15.017274360725436, 12.201912001632525, 7.685147490380433, 9.136720217513192, 11.384563142524629, 9.739433361048706, 10.248535077357337, 10.538788851862442, 11.209860934373076, 10.139224217167884, 6.8224462442283444, 7.399719494678787, 8.154389993389234, 9.477615870048151, 10.785719136639008, 10.311144986991616, 11.175259908356239, 8.176609778926416, 8.938617030777081, 8.626689407309343, 7.580305129401308, 8.267687693150616, 8.021377639069598, 7.704017362349326, 3.2941767599246727, 1.6873593130940183, 1.7011622352405456, 1.6845390363527966, 1.6837139504711403, 1.6814760026543658, 2.5724975310618823, 1.4746711247009592, 1.450877037405771, 1.4474142049928855, 1.4412365440344157, 3.359971295201632, 1.401148654992822, 7.520087609942789, 4.307663212234912, 0.9049997864426967, 0.9049552844264092, 0.9049522011458349, 2.838404786581963, 1.8930148468253818, 1.3079101476529544, 0.8905516364480084, 0.8901437184280415, 0.890123471552271, 0.8896655016109829, 0.888655007790798, 0.8884695998522694, 0.8879858331301772, 0.8858716276404474, 0.8853344173884024, 2.281633174814025, 2.1148595563156656, 4.613925882774407, 1.92157034153529, 4.455855954232942, 2.8194179448060313, 6.662637148755234, 6.48550350197552, 11.09941951825209, 12.501078045075866, 2.934537158292757, 2.2187332233401262, 2.6716457622783216, 3.416293170346491, 5.8054773381498075, 5.155023123863297, 6.775361475443958, 6.258634895117632, 16.151869708389164, 11.05183997684732, 14.416303406293526, 8.892857853306682, 4.4522086388657005, 4.843289891377015, 3.864422307801871, 7.664901487535571, 9.526004997074084, 10.326192771437572, 5.771907812570133, 8.919984144694428, 10.943219702154897, 13.030111437038098, 8.754185870617707, 10.261839361500995, 5.872352049387928, 9.868724377122936, 9.819732282111106, 11.171759858188079, 10.143461120447338, 8.833390826424099, 11.858579105774872, 11.100448922859798, 9.437004253331418, 7.526417790513663, 7.859613533524922, 10.648316659458912, 7.700701252730585, 7.8647622009797615, 8.094464959341455, 7.410084381136817, 2.4613857539917543, 1.660437091720316, 1.5406525370025574, 2.0493248850581214, 1.8611211519491673, 5.042361756988853, 0.8734639441123407, 0.8732097868148633, 0.8731528176007523, 0.873100087167453, 0.8729530014732824, 0.8729335030815479, 0.8728510164069497, 0.8727833654651929, 0.871262830012372, 0.871107351532194, 0.8708535333371814, 0.870806821972635, 0.8704735690252087, 0.8703036786902704, 0.8698184230629317, 0.8684364109670416, 1.772206111922898, 1.7104535184413212, 0.7965446537835598, 0.783869512297551, 0.7836327340014019, 0.780173888858946, 0.7658824154737689, 0.754992139812007, 2.274970786385394, 3.5601028340013428, 3.15787983622951, 2.651976429351468, 2.9673737669348004, 2.0693404080515982, 5.467800048613399, 2.9373513302007477, 3.2157059622694693, 1.8460861964095945, 6.234980717874216, 13.383039584142692, 4.8106394785922015, 11.589092595884667, 11.483492019070697, 1.5934465520139407, 1.4591056848858817, 11.0034789158401, 8.5086064543324, 4.724736346659588, 3.5449269813875848, 3.049395871156099, 15.952387763616768, 2.677506945283605, 6.142784861499588, 8.433094439233146, 10.647192094379802, 10.331355449553131, 8.791793635629075, 6.913448791280337, 10.853998480062033, 5.5360844337747785, 6.385900304513518, 8.966523640947072, 6.046158292317966, 7.540947051385256, 6.437647340664378, 7.419705712478086, 7.470489019423568, 8.832175991769713, 6.9376973303437435, 6.894962959506235, 5.840291898668569, 7.240606711001718, 6.149972477346598, 6.16451386924844, 5.942839875093088, 5.994991121382165, 5.944787679651742, 3.5474489216509046, 1.8194593934086583, 4.1539899429813865, 2.1713009540890944, 2.1010567294348497, 1.561130810369611, 3.6140549590838704, 1.5150562823105298, 3.5300192635885503, 3.6044647022688623, 1.9827470709657735, 2.439625696988462, 2.3610596205689935, 0.9551067362798402, 0.9538746744927975, 0.953795021475841, 0.9508604498932826, 0.9499758733435418, 1.354313892149836, 1.769059429547856, 2.25636953686225, 1.345241086177332, 0.8976638174076241, 2.0957407089059212, 2.0959864665809986, 0.8884507583357163, 0.8882258162014242, 0.8812374180509392, 1.269851813802947, 0.8406463581170226, 1.627647710285182, 4.244963928248769, 6.122186950938274, 2.102791973346923, 8.646184077950851, 2.0077138013322946, 9.207849814959104, 2.818148584273972, 6.76579944320369, 2.496860040784665, 1.5817712655980893, 2.764456239756549, 4.8240519371597435, 12.076412631811353, 7.825215792035518, 7.511338252534815, 7.911009393523605, 14.015173443487145, 10.190766365528928, 3.8212874327166606, 9.562151134664752, 8.18714500023537, 6.7203107718973545, 6.332623339179348, 6.757373849469069, 6.995170587399703, 8.699482605865999, 9.363507757482106, 5.905871851098013, 6.508812791076234, 6.8984488269993625, 6.683538440427577, 7.55809398595282, 7.818907340239473, 6.971719530563424, 7.977134994845866, 6.91757629457383, 7.027241292528246, 6.87712028385412, 5.769887280493298, 6.092570465215217, 1.5611174902115783, 1.5268146049327742, 1.5044402219791415, 1.4802525988554776, 1.4225198175265144, 1.2290403385090138, 0.8114510700015216, 0.8094892952528429, 0.8060127832228815, 0.7968391958868105, 0.7777081285421259, 0.7719590804708043, 0.7566931380667216, 0.7701118608653101, 0.7715485314689157, 0.766154546992208, 0.7653194701067532, 0.7485737734688683, 0.7645828905721966, 0.7487491905122805, 0.745482074961194, 0.7674360161659046, 1.0717961997107592, 0.7627110824722642, 0.7387403829176092, 0.7386517066271716, 0.7382510503723165, 0.7347416342054829, 0.7503864401463182, 0.7301767049421228, 1.1054860931063524, 3.0514430561442993, 1.4065940719072434, 5.777197381199322, 2.1818394799306193, 3.1920324685654333, 5.7964868041831155, 5.308102242127848, 2.067450792967886, 3.681832123565921, 4.248926248482303, 5.323101940600901, 1.2483927023036425, 3.2162708457825735, 1.9436952516690653, 12.298945270347522, 2.483031332021577, 1.4754729683068624, 8.005514850544026, 4.4319799191117, 5.759112866129576, 2.5406297727132885, 2.047919069368346, 2.397268670645041, 7.3870833901960955, 3.813946175869143, 3.3788906889814956, 6.60400163616391, 8.11060679263878, 5.280169138953429, 6.573858866072394, 9.18636819174564, 7.394593849045382, 6.876179494937184, 7.192055767954431, 6.181069782452341, 6.9722779263665045, 8.905470951760961, 5.648201694808821, 6.646087389268285, 6.420419778866814, 5.082217851530514, 6.216860307487945, 5.327572888767443, 7.785402089288416, 6.209675592425035, 5.487818759424625, 6.416943266836852, 5.922211288887885, 5.435591363506354, 5.884898141048001, 5.4425501224920945, 5.4396344862069865, 5.3277363341532125, 1.5351026697445902, 1.535095642147685, 1.535074797580593, 1.5347816634113725, 1.5341585895230374, 1.5071997748997052, 1.5057869896981104, 1.4810548512874595, 4.298185944376343, 3.319237883886231, 2.2653968422878554, 0.8039479739158583, 0.8038526844662945, 0.8001974407369346, 0.8002243600064364, 0.7986309417420122, 0.7977926328094751, 0.7982459128098687, 0.7952164229846127, 0.7951702671574803, 0.7940996901916314, 0.7915287212864951, 0.7912918674484232, 0.7928664064906524, 0.7900161799423883, 0.7893047250895828, 0.7850452866940826, 1.6116906119369696, 0.785443953928695, 0.7833885605016047, 1.7827261214062167, 2.3369554073322596, 2.812474535912326, 3.6320000121515266, 8.37629709340719, 12.053753269907743, 1.6956216782245446, 7.802120986115778, 1.9791513855999163, 4.777268898370094, 2.3855727991705633, 2.7014263554033313, 4.488688611944219, 7.351650595142537, 1.8484502325656431, 1.25971532672263, 11.018479139333243, 4.495292647246235, 9.983502311841383, 3.8338442682301057, 4.958906788445053, 6.95556999263855, 6.576270815097237, 4.7925714310755385, 4.630058609975275, 8.328828654107003, 3.636476948715656, 4.885749266436969, 4.753531343589265, 4.257706986201656, 6.331724259762025, 4.8251408884891855, 4.866671842187056, 4.425099580014081, 4.668315418186134, 4.044040406339325, 4.232612033211791, 4.807131182521634, 4.266025755148572, 4.392219955442104, 4.524861439893119, 4.430469616944246, 4.49690589762735, 4.580284165995643, 4.30196321815705, 1.4715717300475737, 1.3788972673453863, 1.3688391493150773, 1.3517545632557568, 1.9809270548370534, 1.3224734987337705, 0.6497143193013754, 0.6496882890782554, 0.6496758463329783, 0.649556744375185, 0.6494196253222303, 0.6494050424247654, 0.6493782158659478, 0.6492502546735172, 0.6491740055304586, 0.6250492146513406, 0.6220269713654728, 1.204256568526563, 1.173147216784527, 1.8398010397352906, 1.2213810709127326, 5.189009410731154, 1.336615425306016, 1.308936986375732, 0.9581662418993867, 0.8251721580880423, 0.8489591533183751, 0.7367856147213186, 1.320199462606911, 1.3470142754729957, 1.0975717737261814, 2.1032734833468556, 1.9911573804619986, 1.932823202511504, 5.01650358837601, 1.67329739861794, 2.198324510396987, 10.700885963089833, 3.1659958151846017, 1.278800358688486, 2.9149205266315334, 1.4524019389637202, 1.7205822196783636, 3.494432926849971, 8.182150210357154, 2.4109240433780346, 3.359163363553315, 5.20605696718053, 3.945224231298196, 3.583307574228429, 2.2025397143290504, 4.577656921226041, 7.634655084118137, 4.3586391216051315, 6.302239732365928, 4.580984011771201, 4.932822642418215, 5.192109545602458, 2.6893078729297866, 3.4802589477658916, 2.9089611484374935, 3.53738488537899, 4.461563121530972, 3.526357626804531, 3.129501342828559, 4.26079693793442, 4.525907842244086, 3.853680266660913, 3.119443622966099, 3.474456447704307, 3.4124414070749323, 3.571112091185385, 3.4149080568986827, 3.77437916704069, 3.4758898519602397, 3.3045305539259173, 3.705443724321454, 1.718244083124604, 3.4053293805398903, 2.059963164157695, 1.9622310416412752, 3.6516575361096093, 3.4626751094251134, 1.100433289582833, 1.0706520639812998, 1.0673434580213153, 1.0469734753178392, 1.025342069221243, 1.4053401091940505, 1.034230597641163, 0.6658569494468826, 1.0255512145697876, 1.0250367388500408, 0.6724867676598109, 0.670454672939638, 0.6645805871002949, 1.0038286858201473, 0.646856585879248, 0.6443859013524571, 0.9947296223815927, 0.6519980177947148, 0.6397490685728833, 0.9893384965295983, 0.6325031301993398, 0.6296836881110343, 0.6281842340839274, 0.9461551933179836, 0.9505813918167736, 0.9605806636871984, 1.2834852991582668, 2.860749833206398, 1.209751488688156, 1.8000759975198743, 4.456664434697335, 2.3197715166489834, 1.7613921482732224, 1.3688506482816531, 2.488784979713117, 3.3231649379445134, 1.7263984686884084, 1.8858142745381266, 6.936159469858821, 7.293905814564147, 2.219301744055269, 3.8092298453227973, 4.30067833462973, 3.9471434843942887, 4.91039251317858, 3.5284819439154327, 3.509695192493061, 2.686955905032674, 5.221540440426124, 6.1887119123015815, 4.851503456396266, 4.259436896844587, 4.287627347241671, 3.670177470874702, 3.5765736611470667, 4.075091203677515, 5.1434243053272075, 3.7529839410516574, 4.5257731253214875, 3.830965476676143, 3.8840639767177376, 3.2313939045412856, 3.8208216791163587, 3.638228955505669, 3.6796300068268626, 3.590524757704846, 3.538370836275852, 3.5455034172749116, 1.1293093840040382, 1.0713452931114908, 0.7989918294710586, 0.7356145944930048, 0.7204665664116702, 0.715266918855805, 0.6631859123054459, 0.6250953426384045, 0.7044336277507285, 1.3225032303100726, 0.439237968370682, 0.4352139771038032, 0.43239827084081833, 0.6745320288917359, 0.7552164266659863, 0.42796600232073895, 0.5761231430293867, 0.5505531997395672, 0.4171430296981545, 0.40546870480388764, 0.4013878224443498, 0.41200269017679336, 0.4049126222609354, 0.6210703907920745, 0.4043632947605756, 0.40274428457520217, 0.3983503772603036, 0.39667633516830564, 0.7908266562442527, 0.3953977419458696, 0.5151783740997165, 0.7480828537969185, 1.3663886969283938, 3.826141646904858, 0.5122524181048791, 1.0462447942954107, 1.1294406425380819, 1.1145572386023401, 0.7048845423369895, 1.4074983987970404, 0.8464366457797754, 1.0059775515919143, 1.065170068670397, 4.232738939604623, 1.445609977266273, 6.873016622518602, 3.2809561651386847, 1.890990882213914, 4.374994930880113, 3.520373218582961, 3.4041983847839408, 2.8382291862825837, 3.6703773056848252, 2.3333441646770585, 1.8191237981545434, 1.9234649128432626, 2.8762242557603135, 2.791131789870868, 3.1691759513425435, 1.613533643044135, 3.627090001186706, 2.009156780310267, 2.615949613922412, 2.621663512335451, 1.9178105083833314, 1.7574715779522696, 2.40221981840674, 2.083224644851675, 2.227490540176315, 2.147454068735127, 2.3036274308827744, 1.9150879163542467, 2.1332399717718453, 2.0767064625600633, 2.2569174888406716, 2.004098306947297, 1.9641576612572136, 1.9377764311547576, 1.939236759812077], \"Total\": [87.0, 67.0, 79.0, 19.0, 67.0, 58.0, 60.0, 37.0, 42.0, 12.0, 67.0, 19.0, 121.0, 38.0, 39.0, 42.0, 27.0, 28.0, 12.0, 54.0, 57.0, 31.0, 91.0, 41.0, 67.0, 22.0, 50.0, 21.0, 41.0, 53.0, 5.154210534238405, 4.054472409828719, 3.0017340829508483, 3.001527875349127, 3.0012389955457524, 2.9655290265699517, 2.958880352620753, 2.9532217918277825, 3.893243704315034, 6.652609734755081, 2.9742099207492867, 9.292652858520505, 6.849067627596679, 3.8507796939322634, 2.901927234457086, 2.8731192261324634, 2.8586978010889346, 6.986455954366024, 4.54822235222548, 3.5678312006414807, 3.696280747249745, 1.894747686101229, 1.8947146082667157, 1.894605212306877, 1.8945365315663294, 1.894503912766649, 1.8944887583753385, 1.8944914896243874, 1.8944663554320207, 1.8944621191115005, 13.502552898163405, 3.8350650834241824, 10.617822932905817, 6.494614291069175, 5.675837280020179, 10.057181914157725, 3.6268683781884508, 2.7939212475237762, 121.97938763703958, 33.675767425161574, 116.01953627211657, 75.10340477189062, 17.36893262708754, 16.83927595232961, 13.375574783067286, 11.806454428910554, 19.894049236316373, 34.904402601100614, 61.60216988986032, 61.50154266397777, 12.749388980695313, 55.626148021580335, 67.88486067515247, 45.420903061487394, 43.485525078385244, 67.66838073036506, 67.49545118116166, 91.07826651924987, 102.46717930112884, 35.304045819052604, 78.43662669381422, 52.93135290772484, 24.21102980534961, 28.703372816094237, 34.985520599004566, 41.70241641225968, 28.756900780789977, 67.05692785480643, 50.017140344571615, 51.91716802356289, 58.54321129351631, 43.217785440391594, 64.74238279907578, 60.2139534642847, 63.89664807482466, 53.53053229326653, 55.36943864522172, 65.75548772998381, 79.44113582275246, 65.52359128482806, 64.7227828146192, 63.704986697524966, 4.500089109469619, 4.463821662675992, 3.682277155007588, 6.287151764300596, 2.6703323688816902, 2.708624589670031, 2.6890259004224046, 4.632489659939706, 4.460354188183173, 2.6919190044769223, 4.511925702132971, 2.684831844107787, 3.5814160333782556, 1.7710284956551463, 1.7707377171690302, 1.7702923019368384, 8.031766680400233, 2.527663219575393, 1.769755457696947, 1.7689543755066246, 6.147100256308595, 1.7687987660470326, 2.663942209961669, 2.642392817151432, 2.7264423456822544, 2.6585448799826397, 2.734800946923304, 2.6307690117557554, 2.7023105066936126, 2.5031904919663157, 7.537095364901245, 5.067569742678457, 4.476670635767937, 10.338877585185925, 7.8126065368653315, 9.44909856637415, 2.639541772802364, 5.351005768152815, 54.11505171011561, 5.202190751916946, 7.1642022077740215, 9.311751928058642, 52.40304249593221, 63.704986697524966, 18.234453424861773, 36.1833773197335, 79.44113582275246, 49.82042493287969, 87.89887934709569, 17.38950353888563, 39.36829742392173, 53.53053229326653, 78.43662669381422, 57.43586830369993, 27.32720612309025, 37.944814000993325, 55.36943864522172, 44.94792847553627, 49.63058570370858, 54.61185150250216, 64.74238279907578, 58.54321129351631, 25.92352543088196, 31.224587107431677, 43.485525078385244, 67.51143461207232, 102.46717930112884, 91.07826651924987, 116.01953627211657, 52.93135290772484, 75.10340477189062, 67.05692785480643, 43.80073533125465, 67.88486067515247, 65.52359128482806, 53.25030415090283, 4.10615135602921, 2.41744169833397, 2.4424770484387173, 2.4433264409557007, 2.44396733911248, 2.4439120466865796, 4.1115428694197, 2.3837230741292794, 2.354770771141303, 2.3535121176693186, 2.378153941681127, 5.5464176899569, 2.3400352516143106, 12.679480560691328, 7.407511302505405, 1.6098976837938828, 1.6098535779277772, 1.6098504836524694, 5.062255001608027, 3.383826977013197, 2.343650348940947, 1.6046115470373759, 1.6043544930958387, 1.6044103536675172, 1.6041595423149055, 1.6038452804409076, 1.6037872304775531, 1.6035845435990717, 1.6026621889798836, 1.6025176729436652, 4.1777328304182495, 3.929690592008698, 9.569685340923735, 3.7161163002451882, 9.37674662959579, 5.703279833376344, 15.150000687035842, 14.813266988526253, 27.147352231753008, 31.67399997076039, 6.1338966145176945, 4.501410603808316, 5.5763828316694095, 7.48107422222653, 14.297756577519648, 12.65934740778631, 18.20012497214636, 16.86237989892746, 67.51143461207232, 41.948191027942926, 61.60216988986032, 31.128651267528024, 11.650969610509799, 13.458839242683075, 9.526342179589644, 30.030549927606227, 43.217785440391594, 49.58441029515872, 19.878351365591826, 43.07218442485395, 63.89664807482466, 91.07826651924987, 44.09001834849203, 64.7227828146192, 21.996184480518462, 63.704986697524966, 65.75548772998381, 87.89887934709569, 75.10340477189062, 54.11505171011561, 116.01953627211657, 102.46717930112884, 67.88486067515247, 38.77734760322423, 44.37996585890749, 121.97938763703958, 46.20241693038709, 53.25030415090283, 64.74238279907578, 65.52359128482806, 3.169185858771773, 2.37644005760685, 2.393524816457165, 3.236265931620773, 3.138232643625446, 9.053856574886643, 1.581256426155526, 1.5810033127505165, 1.5809466362263829, 1.5808940622012475, 1.5807474140051647, 1.5807283570823387, 1.5806458831231784, 1.5805790645642153, 1.5815824572606598, 1.5817753934955925, 1.5819047628550016, 1.5818319009634674, 1.5818807898599776, 1.5816671609843507, 1.582034717859225, 1.5813713975637147, 3.3902554186219307, 3.286898736981295, 1.5750953046780751, 1.5741273277333618, 1.5741519278906777, 1.5737376043830236, 1.5725447507133188, 1.5716395249748913, 4.9898058557105385, 8.137542230785717, 7.267473184218408, 6.124533529933536, 7.100092885249453, 4.7443266260634775, 16.060601298332166, 7.593571850769506, 8.567689189614258, 4.19576711115446, 22.691983196137866, 65.52359128482806, 16.3006094826787, 63.89664807482466, 63.123185171587025, 3.763351226384702, 3.3123879573541384, 64.7227828146192, 44.37996585890749, 19.051929669222304, 12.462806699010375, 10.184149166459651, 121.97938763703958, 8.4415272030757, 31.67399997076039, 53.25030415090283, 79.44113582275246, 78.43662669381422, 60.2139534642847, 40.47819289432735, 102.46717930112884, 28.829188155427946, 40.37974807889753, 91.07826651924987, 38.86202450786505, 67.05692785480643, 47.373562190312, 67.51143461207232, 75.10340477189062, 116.01953627211657, 67.66838073036506, 67.49545118116166, 42.153078182947645, 87.89887934709569, 57.43586830369993, 65.75548772998381, 50.017140344571615, 61.50154266397777, 55.626148021580335, 4.3076533134225645, 2.547461822064001, 5.964819012989224, 3.3760277527857303, 3.3680629576669388, 2.5112206343277363, 5.863999480080231, 2.500810995920565, 5.842330711795529, 5.966589707762363, 3.353361081059188, 4.154115949389404, 4.112287381236838, 1.6672703515312841, 1.6674251897167367, 1.667381458445603, 1.6668267425745584, 1.666810583124615, 2.4741658266387345, 3.271395673558636, 4.178796488530842, 2.4920063299581017, 1.6775959268253908, 3.9269462191078377, 3.9384956262463016, 1.6786928370584118, 1.678505743609266, 1.679132838938281, 2.470111003913774, 1.6501851594482368, 3.220601447287427, 8.711790659841352, 12.78023674764198, 4.225498860998093, 21.078416075790525, 4.162640397679586, 25.610997145922926, 6.543356392851462, 22.667565399748938, 6.157184643836557, 3.30820701854519, 7.1677759028201145, 15.837597765005315, 65.75548772998381, 34.18215316660315, 34.47861446930216, 37.46137659384968, 102.46717930112884, 67.49545118116166, 12.440690426853878, 63.123185171587025, 49.58441029515872, 35.89036027895472, 32.28427946098892, 37.188547079242376, 42.19259907720175, 67.05692785480643, 78.43662669381422, 30.98539322917299, 40.46384612453357, 46.2837318781342, 43.80073533125465, 58.54321129351631, 65.52359128482806, 49.82042493287969, 87.89887934709569, 57.43586830369993, 64.7227828146192, 79.44113582275246, 54.32460814051405, 116.01953627211657, 2.310222063309097, 2.3058739022374946, 2.346453181661101, 2.3498987456363603, 2.3953294026336085, 2.3337146121795715, 1.5478325259951862, 1.547691484893593, 1.5472712820845063, 1.5463102290672108, 1.5684388131425135, 1.570361402337207, 1.5418764037443675, 1.5704795778902476, 1.581316780659313, 1.5717601366534348, 1.5720943735943462, 1.5379446946804258, 1.5721413609723232, 1.5399318522099812, 1.535833937063873, 1.5830759692420149, 2.2265553558042606, 1.5851686615000533, 1.5361322610750965, 1.53615816401841, 1.5360775405504512, 1.5364049589505442, 1.576012202896627, 1.5381872224939368, 2.390810289325769, 7.134283335343919, 3.2000600898220006, 15.966223423755787, 5.683015249363841, 9.040491038609423, 19.8414728183472, 17.80948515808844, 5.502742189470664, 11.940839999577785, 15.118644250558532, 20.7492389409344, 3.0420517633447535, 11.060733797624211, 5.750607962190594, 79.44113582275246, 8.389365091144661, 4.005570150843835, 47.08479953986954, 19.782072135023252, 29.772244067567396, 8.812141562734345, 6.472107971763652, 8.603020340095783, 51.91716802356289, 18.18256394544505, 15.062369493898665, 46.2837318781342, 67.05692785480643, 32.28427946098892, 49.63058570370858, 91.07826651924987, 65.75548772998381, 57.43586830369993, 64.74238279907578, 52.40304249593221, 67.66838073036506, 116.01953627211657, 44.09001834849203, 64.7227828146192, 61.50154266397777, 36.1833773197335, 58.54321129351631, 40.83879315168304, 121.97938763703958, 67.49545118116166, 54.61185150250216, 102.46717930112884, 75.10340477189062, 52.93135290772484, 87.89887934709569, 61.60216988986032, 63.704986697524966, 78.43662669381422, 2.2492159437510244, 2.2492086592429876, 2.2491885649026666, 2.2488966431928636, 2.248276896143527, 2.243202398342332, 2.251603413094734, 2.2530687264607097, 7.7320366562205, 6.0136929436485556, 4.205232630861627, 1.5180590068037936, 1.5179640965987988, 1.5183666590257112, 1.5184911205846867, 1.5185577196978637, 1.5170439064370753, 1.5185241345654483, 1.5164031510233116, 1.516466689469415, 1.5161966198623862, 1.515396110641908, 1.5155239609321762, 1.5191606435178302, 1.5192038057567852, 1.5191868827612274, 1.5142102094485081, 3.1094185768260165, 1.5196563758267865, 1.519678412824486, 3.9633649898179164, 5.555658816165576, 7.204324022494265, 10.928493066283728, 38.77734760322423, 67.88486067515247, 4.479606862741777, 41.70241641225968, 5.774198693526818, 22.06918698924822, 8.136498585741206, 9.872480334441192, 22.439273471149917, 50.017140344571615, 5.682184872850011, 3.11428950449923, 102.46717930112884, 24.337240945152573, 91.07826651924987, 19.272170990080276, 30.27759762858914, 60.2139534642847, 54.32460814051405, 30.07148836221556, 31.180209323216886, 121.97938763703958, 19.110250560621054, 40.47819289432735, 38.7544020530903, 30.502265532242056, 87.89887934709569, 43.07218442485395, 46.20241693038709, 37.188547079242376, 47.08479953986954, 31.001982220777997, 37.944814000993325, 64.74238279907578, 39.649279029722415, 46.2837318781342, 54.61185150250216, 55.626148021580335, 64.7227828146192, 116.01953627211657, 63.704986697524966, 2.6579134431338542, 2.717034017511113, 2.723096943572784, 2.726700608273663, 3.9965248962151025, 2.7353519014865784, 1.377871221122106, 1.3778454452272917, 1.3778329099475162, 1.3777141128425126, 1.377578033162334, 1.3775631444032304, 1.3775366678767733, 1.37740940213381, 1.377333354337038, 1.39916156548835, 1.4014793001211778, 2.7267678787863163, 2.684561645961712, 4.295429497911065, 2.9743892399907375, 12.813036130266376, 3.3543168215555914, 3.286916397677955, 2.458835846982151, 2.123434521112726, 2.196050631282773, 1.9099329580682871, 3.4564981043331926, 3.5470614283019963, 2.9012209927416284, 6.0557509517681005, 5.811154625076422, 5.745332490347778, 19.051929669222304, 4.9217093843654816, 7.0296097974382645, 67.66838073036506, 13.194192135127691, 3.618304571644861, 11.803085741213396, 4.403842940249742, 5.666789335304054, 16.391852205762753, 60.2139534642847, 10.50845585330351, 18.242751411148735, 42.59023004121475, 26.590441384667873, 22.452178359405742, 9.331450802761514, 40.47819289432735, 116.01953627211657, 37.944814000993325, 87.89887934709569, 45.420903061487394, 53.25030415090283, 67.05692785480643, 14.821297967958754, 28.703372816094237, 18.864826723078288, 33.70639510414623, 67.51143461207232, 34.47861446930216, 24.21102980534961, 65.75548772998381, 91.07826651924987, 53.53053229326653, 28.969577500302833, 50.017140344571615, 49.58441029515872, 64.74238279907578, 51.91716802356289, 102.46717930112884, 63.123185171587025, 42.153078182947645, 5.906343484644312, 2.8769944686909628, 5.998101262607698, 3.635947125638003, 3.6575574140239904, 6.950952860427623, 6.6272615681933456, 2.2590429105760768, 2.2602589915796436, 2.268930971244802, 2.265698927363056, 2.2368736003852865, 3.083351355896448, 2.272267041774057, 1.4771894999517032, 2.2803845144060944, 2.2848059774474208, 1.5008129102267203, 1.5014644114343845, 1.5012184344796815, 2.2848773059575196, 1.4793343235867804, 1.4800485505234766, 2.29605856103688, 1.5066657459508608, 1.4799768289445705, 2.2919526296019113, 1.4815078542403544, 1.4814841960282574, 1.4813282264229586, 2.2322160850321557, 2.243646529299882, 2.2942440110395093, 3.172886707267342, 8.568949471553516, 3.2324944340194697, 5.356911608048383, 16.980561061995353, 7.4176525625832666, 5.385308498935937, 3.8911992399123134, 9.998970922962965, 16.19170328369241, 5.830657119421593, 7.133696381028371, 79.44113582275246, 87.89887934709569, 10.072011192254655, 31.001982220777997, 40.83879315168304, 34.361301459833086, 54.61185150250216, 28.239413514623568, 28.380184817026894, 16.416761758234806, 78.43662669381422, 116.01953627211657, 67.49545118116166, 54.32460814051405, 55.626148021580335, 38.5792044478875, 36.1833773197335, 52.93135290772484, 102.46717930112884, 43.485525078385244, 91.07826651924987, 54.11505171011561, 63.89664807482466, 30.98539322917299, 67.51143461207232, 57.43586830369993, 63.123185171587025, 67.05692785480643, 55.36943864522172, 121.97938763703958, 2.6504562983139954, 2.6410392715434194, 2.063385933631354, 1.974751914931082, 2.127723962658767, 2.132534314430094, 1.985546518154556, 1.8857454355775174, 2.143202228994316, 4.116049539505992, 1.3833819419891402, 1.3880725579674977, 1.3857153123819945, 2.171008748632369, 2.458835846982151, 1.3937458276076462, 1.8910656057769901, 1.8949363944061057, 1.4390177151729457, 1.407416239065877, 1.3939008377020747, 1.432658396669606, 1.4101596867631545, 2.2113272215785402, 1.4419376091117058, 1.4412918720886814, 1.4457453664643436, 1.447217857177424, 2.8865614529609624, 1.4550023067018625, 1.8999705740593416, 2.816820673822831, 5.583603817994185, 19.110250560621054, 1.9007640633366147, 4.652843040830189, 5.233020610981576, 5.173328010076787, 2.874923720770774, 7.267473184218408, 3.7475105621217013, 4.85309722386016, 5.262953303321384, 37.78319616423385, 8.176398519227865, 87.89887934709569, 28.901706970101685, 13.115964619723593, 58.54321129351631, 42.19259907720175, 42.59023004121475, 39.36829742392173, 67.51143461207232, 28.135006386578635, 20.036850163672476, 23.07292768338311, 61.50154266397777, 57.43586830369993, 79.44113582275246, 15.841779296446358, 121.97938763703958, 30.183962552453146, 63.89664807482466, 67.66838073036506, 27.003593752621732, 21.48507453756624, 67.88486067515247, 41.948191027942926, 54.61185150250216, 53.25030415090283, 78.43662669381422, 35.304045819052604, 67.05692785480643, 64.7227828146192, 116.01953627211657, 64.74238279907578, 65.52359128482806, 67.49545118116166, 91.07826651924987], \"Category\": [\"Default\", \"Default\", \"Default\", \"Default\", \"Default\", \"Default\", \"Default\", \"Default\", \"Default\", \"Default\", \"Default\", \"Default\", \"Default\", \"Default\", \"Default\", \"Default\", \"Default\", \"Default\", \"Default\", \"Default\", \"Default\", \"Default\", \"Default\", \"Default\", \"Default\", \"Default\", \"Default\", \"Default\", \"Default\", \"Default\", \"Topic1\", \"Topic1\", \"Topic1\", \"Topic1\", \"Topic1\", \"Topic1\", \"Topic1\", \"Topic1\", \"Topic1\", \"Topic1\", \"Topic1\", \"Topic1\", \"Topic1\", \"Topic1\", \"Topic1\", \"Topic1\", \"Topic1\", \"Topic1\", \"Topic1\", \"Topic1\", \"Topic1\", \"Topic1\", \"Topic1\", \"Topic1\", \"Topic1\", \"Topic1\", \"Topic1\", \"Topic1\", \"Topic1\", \"Topic1\", \"Topic1\", \"Topic1\", \"Topic1\", \"Topic1\", \"Topic1\", \"Topic1\", \"Topic1\", \"Topic1\", \"Topic1\", \"Topic1\", \"Topic1\", \"Topic1\", \"Topic1\", \"Topic1\", \"Topic1\", \"Topic1\", \"Topic1\", \"Topic1\", \"Topic1\", \"Topic1\", \"Topic1\", \"Topic1\", \"Topic1\", \"Topic1\", \"Topic1\", \"Topic1\", \"Topic1\", \"Topic1\", \"Topic1\", \"Topic1\", \"Topic1\", \"Topic1\", \"Topic1\", \"Topic1\", \"Topic1\", \"Topic1\", \"Topic1\", \"Topic1\", \"Topic1\", \"Topic1\", \"Topic1\", \"Topic1\", \"Topic1\", \"Topic1\", \"Topic1\", \"Topic1\", \"Topic1\", \"Topic1\", \"Topic1\", \"Topic1\", \"Topic1\", \"Topic1\", \"Topic2\", \"Topic2\", \"Topic2\", \"Topic2\", \"Topic2\", \"Topic2\", \"Topic2\", \"Topic2\", \"Topic2\", \"Topic2\", \"Topic2\", \"Topic2\", \"Topic2\", \"Topic2\", \"Topic2\", \"Topic2\", \"Topic2\", \"Topic2\", \"Topic2\", \"Topic2\", \"Topic2\", \"Topic2\", \"Topic2\", \"Topic2\", \"Topic2\", \"Topic2\", \"Topic2\", \"Topic2\", \"Topic2\", \"Topic2\", \"Topic2\", \"Topic2\", \"Topic2\", \"Topic2\", \"Topic2\", \"Topic2\", \"Topic2\", \"Topic2\", \"Topic2\", \"Topic2\", \"Topic2\", \"Topic2\", \"Topic2\", \"Topic2\", \"Topic2\", \"Topic2\", \"Topic2\", \"Topic2\", \"Topic2\", \"Topic2\", \"Topic2\", \"Topic2\", \"Topic2\", \"Topic2\", \"Topic2\", \"Topic2\", \"Topic2\", \"Topic2\", \"Topic2\", \"Topic2\", \"Topic2\", \"Topic2\", \"Topic2\", \"Topic2\", \"Topic2\", \"Topic2\", \"Topic2\", \"Topic2\", \"Topic2\", \"Topic2\", \"Topic2\", \"Topic2\", \"Topic2\", \"Topic2\", \"Topic2\", \"Topic2\", \"Topic3\", \"Topic3\", \"Topic3\", \"Topic3\", \"Topic3\", \"Topic3\", \"Topic3\", \"Topic3\", \"Topic3\", \"Topic3\", \"Topic3\", \"Topic3\", \"Topic3\", \"Topic3\", \"Topic3\", \"Topic3\", \"Topic3\", \"Topic3\", \"Topic3\", \"Topic3\", \"Topic3\", \"Topic3\", \"Topic3\", \"Topic3\", \"Topic3\", \"Topic3\", \"Topic3\", \"Topic3\", \"Topic3\", \"Topic3\", \"Topic3\", \"Topic3\", \"Topic3\", \"Topic3\", \"Topic3\", \"Topic3\", \"Topic3\", \"Topic3\", \"Topic3\", \"Topic3\", \"Topic3\", \"Topic3\", \"Topic3\", \"Topic3\", \"Topic3\", \"Topic3\", \"Topic3\", \"Topic3\", \"Topic3\", \"Topic3\", \"Topic3\", \"Topic3\", \"Topic3\", \"Topic3\", \"Topic3\", \"Topic3\", \"Topic3\", \"Topic3\", \"Topic3\", \"Topic3\", \"Topic3\", \"Topic3\", \"Topic3\", \"Topic3\", \"Topic3\", \"Topic3\", \"Topic3\", \"Topic3\", \"Topic3\", \"Topic3\", \"Topic3\", \"Topic3\", \"Topic3\", \"Topic3\", \"Topic3\", \"Topic3\", \"Topic3\", \"Topic3\", \"Topic3\", \"Topic3\", \"Topic4\", \"Topic4\", \"Topic4\", \"Topic4\", \"Topic4\", \"Topic4\", \"Topic4\", \"Topic4\", \"Topic4\", \"Topic4\", \"Topic4\", \"Topic4\", \"Topic4\", \"Topic4\", \"Topic4\", \"Topic4\", \"Topic4\", \"Topic4\", \"Topic4\", \"Topic4\", \"Topic4\", \"Topic4\", \"Topic4\", \"Topic4\", \"Topic4\", \"Topic4\", \"Topic4\", \"Topic4\", \"Topic4\", \"Topic4\", \"Topic4\", \"Topic4\", \"Topic4\", \"Topic4\", \"Topic4\", \"Topic4\", \"Topic4\", \"Topic4\", \"Topic4\", \"Topic4\", \"Topic4\", \"Topic4\", \"Topic4\", \"Topic4\", \"Topic4\", \"Topic4\", \"Topic4\", \"Topic4\", \"Topic4\", \"Topic4\", \"Topic4\", \"Topic4\", \"Topic4\", \"Topic4\", \"Topic4\", \"Topic4\", \"Topic4\", \"Topic4\", \"Topic4\", \"Topic4\", \"Topic4\", \"Topic4\", \"Topic4\", \"Topic4\", \"Topic4\", \"Topic4\", \"Topic4\", \"Topic4\", \"Topic4\", \"Topic4\", \"Topic4\", \"Topic4\", \"Topic4\", \"Topic4\", \"Topic4\", \"Topic4\", \"Topic4\", \"Topic4\", \"Topic4\", \"Topic5\", \"Topic5\", \"Topic5\", \"Topic5\", \"Topic5\", \"Topic5\", \"Topic5\", \"Topic5\", \"Topic5\", \"Topic5\", \"Topic5\", \"Topic5\", \"Topic5\", \"Topic5\", \"Topic5\", \"Topic5\", \"Topic5\", \"Topic5\", \"Topic5\", \"Topic5\", \"Topic5\", \"Topic5\", \"Topic5\", \"Topic5\", \"Topic5\", \"Topic5\", \"Topic5\", \"Topic5\", \"Topic5\", \"Topic5\", \"Topic5\", \"Topic5\", \"Topic5\", \"Topic5\", \"Topic5\", \"Topic5\", \"Topic5\", \"Topic5\", \"Topic5\", \"Topic5\", \"Topic5\", \"Topic5\", \"Topic5\", \"Topic5\", \"Topic5\", \"Topic5\", \"Topic5\", \"Topic5\", \"Topic5\", \"Topic5\", \"Topic5\", \"Topic5\", \"Topic5\", \"Topic5\", \"Topic5\", \"Topic5\", \"Topic5\", \"Topic5\", \"Topic5\", \"Topic5\", \"Topic5\", \"Topic5\", \"Topic5\", \"Topic5\", \"Topic5\", \"Topic5\", \"Topic5\", \"Topic5\", \"Topic5\", \"Topic5\", \"Topic5\", \"Topic6\", \"Topic6\", \"Topic6\", \"Topic6\", \"Topic6\", \"Topic6\", \"Topic6\", \"Topic6\", \"Topic6\", \"Topic6\", \"Topic6\", \"Topic6\", \"Topic6\", \"Topic6\", \"Topic6\", \"Topic6\", \"Topic6\", \"Topic6\", \"Topic6\", \"Topic6\", \"Topic6\", \"Topic6\", \"Topic6\", \"Topic6\", \"Topic6\", \"Topic6\", \"Topic6\", \"Topic6\", \"Topic6\", \"Topic6\", \"Topic6\", \"Topic6\", \"Topic6\", \"Topic6\", \"Topic6\", \"Topic6\", \"Topic6\", \"Topic6\", \"Topic6\", \"Topic6\", \"Topic6\", \"Topic6\", \"Topic6\", \"Topic6\", \"Topic6\", \"Topic6\", \"Topic6\", \"Topic6\", \"Topic6\", \"Topic6\", \"Topic6\", \"Topic6\", \"Topic6\", \"Topic6\", \"Topic6\", \"Topic6\", \"Topic6\", \"Topic6\", \"Topic6\", \"Topic6\", \"Topic6\", \"Topic6\", \"Topic6\", \"Topic6\", \"Topic6\", \"Topic6\", \"Topic6\", \"Topic6\", \"Topic6\", \"Topic6\", \"Topic6\", \"Topic6\", \"Topic6\", \"Topic6\", \"Topic6\", \"Topic6\", \"Topic6\", \"Topic6\", \"Topic6\", \"Topic6\", \"Topic6\", \"Topic6\", \"Topic6\", \"Topic6\", \"Topic7\", \"Topic7\", \"Topic7\", \"Topic7\", \"Topic7\", \"Topic7\", \"Topic7\", \"Topic7\", \"Topic7\", \"Topic7\", \"Topic7\", \"Topic7\", \"Topic7\", \"Topic7\", \"Topic7\", \"Topic7\", \"Topic7\", \"Topic7\", \"Topic7\", \"Topic7\", \"Topic7\", \"Topic7\", \"Topic7\", \"Topic7\", \"Topic7\", \"Topic7\", \"Topic7\", \"Topic7\", \"Topic7\", \"Topic7\", \"Topic7\", \"Topic7\", \"Topic7\", \"Topic7\", \"Topic7\", \"Topic7\", \"Topic7\", \"Topic7\", \"Topic7\", \"Topic7\", \"Topic7\", \"Topic7\", \"Topic7\", \"Topic7\", \"Topic7\", \"Topic7\", \"Topic7\", \"Topic7\", \"Topic7\", \"Topic7\", \"Topic7\", \"Topic7\", \"Topic7\", \"Topic7\", \"Topic7\", \"Topic7\", \"Topic7\", \"Topic7\", \"Topic7\", \"Topic7\", \"Topic7\", \"Topic7\", \"Topic7\", \"Topic7\", \"Topic7\", \"Topic7\", \"Topic7\", \"Topic7\", \"Topic7\", \"Topic7\", \"Topic7\", \"Topic7\", \"Topic7\", \"Topic7\", \"Topic7\", \"Topic8\", \"Topic8\", \"Topic8\", \"Topic8\", \"Topic8\", \"Topic8\", \"Topic8\", \"Topic8\", \"Topic8\", \"Topic8\", \"Topic8\", \"Topic8\", \"Topic8\", \"Topic8\", \"Topic8\", \"Topic8\", \"Topic8\", \"Topic8\", \"Topic8\", \"Topic8\", \"Topic8\", \"Topic8\", \"Topic8\", \"Topic8\", \"Topic8\", \"Topic8\", \"Topic8\", \"Topic8\", \"Topic8\", \"Topic8\", \"Topic8\", \"Topic8\", \"Topic8\", \"Topic8\", \"Topic8\", \"Topic8\", \"Topic8\", \"Topic8\", \"Topic8\", \"Topic8\", \"Topic8\", \"Topic8\", \"Topic8\", \"Topic8\", \"Topic8\", \"Topic8\", \"Topic8\", \"Topic8\", \"Topic8\", \"Topic8\", \"Topic8\", \"Topic8\", \"Topic8\", \"Topic8\", \"Topic8\", \"Topic8\", \"Topic8\", \"Topic8\", \"Topic8\", \"Topic8\", \"Topic8\", \"Topic8\", \"Topic8\", \"Topic8\", \"Topic8\", \"Topic8\", \"Topic8\", \"Topic8\", \"Topic8\", \"Topic8\", \"Topic8\", \"Topic8\", \"Topic8\", \"Topic8\", \"Topic8\", \"Topic8\", \"Topic9\", \"Topic9\", \"Topic9\", \"Topic9\", \"Topic9\", \"Topic9\", \"Topic9\", \"Topic9\", \"Topic9\", \"Topic9\", \"Topic9\", \"Topic9\", \"Topic9\", \"Topic9\", \"Topic9\", \"Topic9\", \"Topic9\", \"Topic9\", \"Topic9\", \"Topic9\", \"Topic9\", \"Topic9\", \"Topic9\", \"Topic9\", \"Topic9\", \"Topic9\", \"Topic9\", \"Topic9\", \"Topic9\", \"Topic9\", \"Topic9\", \"Topic9\", \"Topic9\", \"Topic9\", \"Topic9\", \"Topic9\", \"Topic9\", \"Topic9\", \"Topic9\", \"Topic9\", \"Topic9\", \"Topic9\", \"Topic9\", \"Topic9\", \"Topic9\", \"Topic9\", \"Topic9\", \"Topic9\", \"Topic9\", \"Topic9\", \"Topic9\", \"Topic9\", \"Topic9\", \"Topic9\", \"Topic9\", \"Topic9\", \"Topic9\", \"Topic9\", \"Topic9\", \"Topic9\", \"Topic9\", \"Topic9\", \"Topic9\", \"Topic9\", \"Topic9\", \"Topic9\", \"Topic9\", \"Topic9\", \"Topic9\", \"Topic9\", \"Topic9\", \"Topic9\", \"Topic9\", \"Topic9\", \"Topic9\", \"Topic10\", \"Topic10\", \"Topic10\", \"Topic10\", \"Topic10\", \"Topic10\", \"Topic10\", \"Topic10\", \"Topic10\", \"Topic10\", \"Topic10\", \"Topic10\", \"Topic10\", \"Topic10\", \"Topic10\", \"Topic10\", \"Topic10\", \"Topic10\", \"Topic10\", \"Topic10\", \"Topic10\", \"Topic10\", \"Topic10\", \"Topic10\", \"Topic10\", \"Topic10\", \"Topic10\", \"Topic10\", \"Topic10\", \"Topic10\", \"Topic10\", \"Topic10\", \"Topic10\", \"Topic10\", \"Topic10\", \"Topic10\", \"Topic10\", \"Topic10\", \"Topic10\", \"Topic10\", \"Topic10\", \"Topic10\", \"Topic10\", \"Topic10\", \"Topic10\", \"Topic10\", \"Topic10\", \"Topic10\", \"Topic10\", \"Topic10\", \"Topic10\", \"Topic10\", \"Topic10\", \"Topic10\", \"Topic10\", \"Topic10\", \"Topic10\", \"Topic10\", \"Topic10\", \"Topic10\", \"Topic10\", \"Topic10\", \"Topic10\", \"Topic10\", \"Topic10\", \"Topic10\", \"Topic10\", \"Topic10\", \"Topic10\", \"Topic10\", \"Topic10\", \"Topic10\", \"Topic10\", \"Topic10\", \"Topic10\", \"Topic10\", \"Topic10\", \"Topic10\", \"Topic10\"], \"logprob\": [30.0, 29.0, 28.0, 27.0, 26.0, 25.0, 24.0, 23.0, 22.0, 21.0, 20.0, 19.0, 18.0, 17.0, 16.0, 15.0, 14.0, 13.0, 12.0, 11.0, 10.0, 9.0, 8.0, 7.0, 6.0, 5.0, 4.0, 3.0, 2.0, 1.0, -7.3212, -7.6095, -7.9357, -7.9358, -7.9359, -7.9984, -8.0098, -8.0192, -7.7514, -7.236, -8.0474, -6.9127, -7.2231, -7.8213, -8.1056, -8.1159, -8.1313, -7.2534, -7.6908, -7.9359, -7.903, -8.5821, -8.5821, -8.5822, -8.5823, -8.5823, -8.5823, -8.5823, -8.5823, -8.5823, -6.6272, -7.89, -6.9174, -7.3971, -7.5362, -7.0004, -7.9675, -8.215, -4.7121, -5.9308, -4.8981, -5.3217, -6.5874, -6.6292, -6.835, -6.9398, -6.5077, -6.0549, -5.5991, -5.6861, -6.9115, -5.8073, -5.6803, -5.9796, -6.0296, -5.7244, -5.7465, -5.5431, -5.4672, -6.2142, -5.6969, -6.0181, -6.5018, -6.3999, -6.2842, -6.1961, -6.4048, -5.9377, -6.1098, -6.0939, -6.1023, -6.2385, -6.0845, -6.114, -6.12, -6.1982, -6.1927, -6.1605, -6.1472, -6.1771, -6.1787, -6.1905, -6.9698, -6.9811, -7.2101, -6.6928, -7.5869, -7.5734, -7.5812, -7.0436, -7.1193, -7.6286, -7.1172, -7.6402, -7.3878, -8.1172, -8.12, -8.1224, -6.6104, -7.7668, -8.1276, -8.1301, -6.8875, -8.1336, -7.7288, -7.7417, -7.7202, -7.7503, -7.7328, -7.7739, -7.7476, -7.825, -6.7417, -7.1359, -7.28, -6.5107, -6.7995, -6.645, -7.7759, -7.178, -5.2402, -7.2095, -6.9569, -6.7711, -5.5003, -5.4214, -6.3419, -5.8743, -5.3447, -5.6836, -5.3463, -6.4068, -5.8829, -5.7048, -5.4754, -5.683, -6.1453, -5.9723, -5.7523, -5.9084, -5.8575, -5.8295, -5.7678, -5.8682, -6.2644, -6.1832, -6.086, -5.9357, -5.8064, -5.8514, -5.7709, -6.0833, -5.9942, -6.0297, -6.159, -6.0722, -6.1025, -6.1429, -6.9773, -7.6463, -7.6381, -7.6479, -7.6484, -7.6498, -7.2246, -7.781, -7.7973, -7.7997, -7.8039, -6.9575, -7.8321, -6.1519, -6.709, -8.2693, -8.2693, -8.2693, -7.1262, -7.5313, -7.901, -8.2854, -8.2858, -8.2858, -8.2863, -8.2875, -8.2877, -8.2882, -8.2906, -8.2912, -7.3445, -7.4204, -6.6404, -7.5163, -6.6752, -7.1329, -6.2729, -6.2999, -5.7625, -5.6436, -7.0929, -7.3725, -7.1867, -6.9409, -6.4106, -6.5295, -6.2561, -6.3355, -5.3874, -5.7668, -5.5011, -5.9842, -6.676, -6.5918, -6.8176, -6.1328, -5.9154, -5.8348, -6.4164, -5.9811, -5.7767, -5.6022, -5.9999, -5.841, -6.3992, -5.8801, -5.885, -5.756, -5.8526, -5.9909, -5.6964, -5.7625, -5.9248, -6.151, -6.1077, -5.804, -6.1281, -6.107, -6.0783, -6.1666, -7.0762, -7.4698, -7.5447, -7.2594, -7.3557, -6.359, -8.1122, -8.1125, -8.1125, -8.1126, -8.1128, -8.1128, -8.1129, -8.113, -8.1147, -8.1149, -8.1152, -8.1152, -8.1156, -8.1158, -8.1164, -8.118, -7.4047, -7.4401, -8.2044, -8.2204, -8.2207, -8.2251, -8.2436, -8.2579, -7.1549, -6.7071, -6.827, -7.0016, -6.8892, -7.2497, -6.278, -6.8994, -6.8088, -7.3638, -6.1467, -5.3829, -6.4061, -5.5268, -5.536, -7.511, -7.5991, -5.5787, -5.8358, -6.4241, -6.7114, -6.8619, -5.2073, -6.992, -6.1616, -5.8447, -5.6116, -5.6417, -5.8031, -6.0434, -5.5924, -6.2656, -6.1228, -5.7834, -6.1775, -5.9565, -6.1147, -5.9728, -5.9659, -5.7985, -6.0399, -6.0461, -6.2121, -5.9972, -6.1604, -6.1581, -6.1947, -6.186, -6.1944, -6.7007, -7.3684, -6.5428, -7.1916, -7.2245, -7.5215, -6.6821, -7.5515, -6.7056, -6.6847, -7.2824, -7.0751, -7.1078, -8.0128, -8.0141, -8.0142, -8.0173, -8.0182, -7.6636, -7.3965, -7.1532, -7.6703, -8.0749, -7.227, -7.2269, -8.0852, -8.0854, -8.0933, -7.728, -8.1405, -7.4798, -6.5212, -6.155, -7.2236, -5.8098, -7.2699, -5.7469, -6.9308, -6.055, -7.0519, -7.5084, -6.9501, -6.3933, -5.4757, -5.9096, -5.9505, -5.8987, -5.3268, -5.6454, -6.6263, -5.7091, -5.8643, -6.0618, -6.1212, -6.0563, -6.0217, -5.8036, -5.7301, -6.191, -6.0938, -6.0356, -6.0673, -5.9443, -5.9104, -6.025, -5.8903, -6.0328, -6.0171, -6.0387, -6.2143, -6.1598, -7.3638, -7.386, -7.4008, -7.417, -7.4568, -7.603, -8.0181, -8.0205, -8.0248, -8.0363, -8.0606, -8.068, -8.088, -8.0704, -8.0685, -8.0756, -8.0767, -8.0988, -8.0776, -8.0985, -8.1029, -8.0739, -7.7399, -8.0801, -8.112, -8.1121, -8.1127, -8.1174, -8.0964, -8.1237, -7.7089, -6.6936, -7.468, -6.0553, -7.029, -6.6485, -6.0519, -6.14, -7.0829, -6.5058, -6.3625, -6.1371, -7.5873, -6.641, -7.1446, -5.2997, -6.8997, -7.4202, -5.7291, -6.3203, -6.0584, -6.8768, -7.0924, -6.9349, -5.8095, -6.4705, -6.5916, -5.9215, -5.716, -6.1452, -5.9261, -5.5915, -5.8084, -5.8811, -5.8362, -5.9877, -5.8672, -5.6225, -6.0779, -5.9152, -5.9497, -6.1834, -5.9819, -6.1363, -5.7569, -5.9831, -6.1067, -5.9502, -6.0305, -6.1162, -6.0368, -6.1149, -6.1155, -6.1363, -7.1952, -7.1952, -7.1952, -7.1954, -7.1958, -7.2135, -7.2145, -7.231, -6.1656, -6.4241, -6.8061, -7.842, -7.8421, -7.8467, -7.8467, -7.8487, -7.8497, -7.8491, -7.8529, -7.853, -7.8543, -7.8576, -7.8579, -7.8559, -7.8595, -7.8604, -7.8658, -7.1465, -7.8653, -7.8679, -7.0457, -6.775, -6.5897, -6.334, -5.4984, -5.1344, -7.0958, -5.5694, -6.9411, -6.0599, -6.7544, -6.63, -6.1222, -5.6289, -7.0095, -7.3929, -5.2242, -6.1208, -5.3229, -6.2799, -6.0226, -5.6843, -5.7403, -6.0567, -6.0912, -5.5041, -6.3328, -6.0375, -6.0649, -6.1751, -5.7782, -6.05, -6.0414, -6.1365, -6.083, -6.2266, -6.181, -6.0537, -6.1731, -6.144, -6.1142, -6.1353, -6.1204, -6.102, -6.1647, -7.058, -7.123, -7.1304, -7.1429, -6.7608, -7.1648, -7.8755, -7.8756, -7.8756, -7.8758, -7.876, -7.876, -7.8761, -7.8763, -7.8764, -7.9142, -7.9191, -7.2585, -7.2846, -6.8347, -7.2443, -5.7978, -7.1542, -7.1751, -7.4871, -7.6365, -7.6081, -7.7498, -7.1665, -7.1464, -7.3512, -6.7008, -6.7556, -6.7853, -5.8316, -6.9295, -6.6566, -5.074, -6.2918, -7.1984, -6.3745, -7.0711, -6.9017, -6.1931, -5.3424, -6.5643, -6.2326, -5.7945, -6.0718, -6.168, -6.6547, -5.9231, -5.4116, -5.9722, -5.6034, -5.9224, -5.8484, -5.7972, -6.455, -6.1972, -6.3765, -6.1809, -5.9488, -6.1841, -6.3034, -5.9949, -5.9345, -6.0953, -6.3067, -6.1989, -6.2169, -6.1714, -6.2162, -6.1161, -6.1985, -6.249, -6.1317, -6.9002, -6.2162, -6.7188, -6.7674, -6.1463, -6.1995, -7.3458, -7.3732, -7.3763, -7.3956, -7.4165, -7.1012, -7.4078, -7.8482, -7.4163, -7.4168, -7.8383, -7.8413, -7.8501, -7.4377, -7.8771, -7.881, -7.4468, -7.8692, -7.8882, -7.4522, -7.8996, -7.904, -7.9064, -7.4969, -7.4922, -7.4817, -7.1919, -6.3904, -7.2511, -6.8537, -5.9471, -6.6, -6.8754, -7.1275, -6.5297, -6.2406, -6.8955, -6.8071, -5.5048, -5.4545, -6.6443, -6.1041, -5.9827, -6.0685, -5.8501, -6.1806, -6.186, -6.4531, -5.7887, -5.6188, -5.8622, -5.9924, -5.9858, -6.1413, -6.1671, -6.0366, -5.8038, -6.119, -5.9317, -6.0984, -6.0846, -6.2686, -6.101, -6.15, -6.1387, -6.1632, -6.1778, -6.1758, -6.8488, -6.9015, -7.1948, -7.2775, -7.2983, -7.3055, -7.3811, -7.4403, -7.3208, -6.6909, -7.7931, -7.8024, -7.8088, -7.3642, -7.2512, -7.8191, -7.5219, -7.5673, -7.8448, -7.8731, -7.8833, -7.8572, -7.8745, -7.4467, -7.8759, -7.8799, -7.8909, -7.8951, -7.2051, -7.8983, -7.6337, -7.2607, -6.6583, -5.6286, -7.6394, -6.9252, -6.8487, -6.862, -7.3202, -6.6286, -7.1372, -6.9645, -6.9073, -5.5276, -6.6019, -5.0428, -5.7823, -6.3333, -5.4945, -5.7119, -5.7454, -5.9273, -5.6701, -6.1231, -6.3721, -6.3163, -5.914, -5.944, -5.817, -6.492, -5.682, -6.2727, -6.0088, -6.0066, -6.3193, -6.4066, -6.094, -6.2365, -6.1696, -6.2062, -6.1359, -6.3207, -6.2128, -6.2397, -6.1564, -6.2752, -6.2954, -6.3089, -6.3081], \"loglift\": [30.0, 29.0, 28.0, 27.0, 26.0, 25.0, 24.0, 23.0, 22.0, 21.0, 20.0, 19.0, 18.0, 17.0, 16.0, 15.0, 14.0, 13.0, 12.0, 11.0, 10.0, 9.0, 8.0, 7.0, 6.0, 5.0, 4.0, 3.0, 2.0, 1.0, 1.2933, 1.2449, 1.2194, 1.2193, 1.2193, 1.1688, 1.1596, 1.1521, 1.1436, 1.1232, 1.1169, 1.1124, 1.107, 1.0846, 1.0832, 1.0829, 1.0725, 1.0569, 1.0487, 1.0464, 1.0439, 1.0331, 1.0331, 1.033, 1.033, 1.033, 1.033, 1.033, 1.033, 1.033, 1.0242, 1.0201, 0.9743, 0.9862, 0.9818, 0.9456, 0.9984, 1.0118, 0.7383, 0.8066, 0.6024, 0.6137, 0.8121, 0.8013, 0.8258, 0.8458, 0.7562, 0.6467, 0.5345, 0.4491, 0.7972, 0.4283, 0.3561, 0.4587, 0.4522, 0.3153, 0.2957, 0.1995, 0.1575, 0.4761, 0.195, 0.2671, 0.5657, 0.4973, 0.4151, 0.3276, 0.4906, 0.111, 0.232, 0.2107, 0.0822, 0.2495, -0.0007, 0.0423, -0.023, 0.0758, 0.0476, -0.0922, -0.268, -0.1053, -0.0946, -0.0905, 1.7803, 1.7771, 1.7406, 1.7229, 1.6851, 1.6844, 1.6839, 1.6776, 1.6398, 1.6354, 1.6303, 1.6264, 1.5907, 1.5655, 1.5629, 1.5607, 1.5605, 1.5601, 1.5558, 1.5538, 1.5508, 1.5504, 1.5457, 1.5409, 1.531, 1.5262, 1.5154, 1.5131, 1.5125, 1.5117, 1.4927, 1.4955, 1.4753, 1.4076, 1.399, 1.3634, 1.5078, 1.3989, 1.0229, 1.3957, 1.3283, 1.2519, 0.795, 0.6786, 1.009, 0.7913, 0.5346, 0.6622, 0.4318, 0.9916, 0.6984, 0.5692, 0.4166, 0.5206, 0.8011, 0.6458, 0.4879, 0.5403, 0.4922, 0.4245, 0.316, 0.3163, 0.7347, 0.6299, 0.3958, 0.1063, -0.1817, -0.1088, -0.2704, 0.2019, -0.0588, 0.019, 0.3156, -0.0358, -0.0306, 0.1364, 1.8645, 1.7253, 1.7231, 1.7129, 1.7122, 1.7109, 1.6159, 1.6046, 1.6005, 1.5987, 1.584, 1.5836, 1.5719, 1.5624, 1.5427, 1.5088, 1.5088, 1.5088, 1.5062, 1.504, 1.5015, 1.496, 1.4957, 1.4957, 1.4953, 1.4944, 1.4942, 1.4938, 1.492, 1.4914, 1.4799, 1.4652, 1.3553, 1.4253, 1.3408, 1.3803, 1.2633, 1.2589, 1.1904, 1.1551, 1.3475, 1.3774, 1.349, 1.301, 1.1835, 1.1864, 1.0967, 1.0937, 0.6546, 0.751, 0.6325, 0.8319, 1.1228, 1.0628, 1.1826, 0.7192, 0.5726, 0.5158, 0.8482, 0.5102, 0.3203, 0.1404, 0.4681, 0.2431, 0.7642, 0.2199, 0.1833, 0.022, 0.0828, 0.2722, -0.1959, -0.1377, 0.1116, 0.4454, 0.3538, -0.3536, 0.2931, 0.1722, 0.0056, -0.0948, 2.0246, 1.9188, 1.8368, 1.8204, 1.7549, 1.692, 1.6838, 1.6837, 1.6837, 1.6837, 1.6836, 1.6836, 1.6835, 1.6835, 1.6811, 1.6808, 1.6804, 1.6804, 1.68, 1.68, 1.6792, 1.678, 1.6287, 1.6242, 1.5956, 1.5801, 1.5798, 1.5757, 1.5579, 1.5442, 1.4919, 1.4507, 1.4438, 1.4404, 1.4049, 1.4476, 1.1999, 1.3276, 1.2974, 1.4563, 0.9855, 0.6889, 1.057, 0.5702, 0.5732, 1.4179, 1.4575, 0.5055, 0.6256, 0.883, 1.0201, 1.0715, 0.2431, 1.1291, 0.6371, 0.4345, 0.2676, 0.2502, 0.3533, 0.5101, 0.0323, 0.6273, 0.4331, -0.0409, 0.4168, 0.0922, 0.2815, 0.0692, -0.0305, -0.298, -0.0003, -0.0039, 0.3008, -0.2191, 0.0431, -0.0898, 0.1472, -0.0508, 0.0412, 2.0932, 1.9508, 1.9255, 1.846, 1.8154, 1.812, 1.8033, 1.7862, 1.7835, 1.7833, 1.7619, 1.7551, 1.7325, 1.7302, 1.7288, 1.7288, 1.726, 1.7251, 1.6847, 1.6726, 1.6711, 1.6708, 1.662, 1.6594, 1.6566, 1.651, 1.6509, 1.6426, 1.622, 1.6129, 1.6049, 1.5684, 1.5514, 1.5895, 1.3962, 1.5582, 1.2644, 1.445, 1.0783, 1.3848, 1.5495, 1.3346, 1.0986, 0.5926, 0.813, 0.7634, 0.7323, 0.2979, 0.3968, 1.107, 0.4001, 0.4862, 0.612, 0.6585, 0.582, 0.4903, 0.2451, 0.1619, 0.6298, 0.4601, 0.3838, 0.4073, 0.2402, 0.1615, 0.3208, -0.1123, 0.1707, 0.067, -0.1595, 0.045, -0.6594, 2.0531, 2.0328, 2.0006, 1.9829, 1.924, 1.8038, 1.7993, 1.7969, 1.7929, 1.7821, 1.7436, 1.7349, 1.7333, 1.7325, 1.7274, 1.7265, 1.7252, 1.725, 1.7242, 1.724, 1.7223, 1.721, 1.7139, 1.7135, 1.713, 1.7128, 1.7124, 1.7074, 1.703, 1.7, 1.6737, 1.5958, 1.6231, 1.4285, 1.4877, 1.404, 1.2145, 1.2346, 1.4661, 1.2685, 1.1758, 1.0846, 1.5544, 1.2099, 1.3603, 0.5796, 1.2276, 1.4464, 0.6732, 0.9491, 0.8023, 1.2013, 1.2944, 1.1673, 0.4951, 0.8833, 0.9504, 0.4979, 0.3327, 0.6344, 0.4236, 0.1511, 0.2599, 0.3225, 0.2476, 0.3076, 0.1724, -0.122, 0.3902, 0.169, 0.1855, 0.4822, 0.2026, 0.4083, -0.3065, 0.0591, 0.1473, -0.3255, -0.0951, 0.169, -0.2587, 0.0186, -0.0155, -0.2443, 2.2485, 2.2485, 2.2485, 2.2484, 2.2483, 2.2328, 2.2281, 2.2109, 2.0433, 2.0361, 2.0119, 1.9948, 1.9947, 1.9899, 1.9899, 1.9878, 1.9878, 1.9874, 1.985, 1.9849, 1.9837, 1.981, 1.9806, 1.9802, 1.9766, 1.9757, 1.9735, 1.9733, 1.9705, 1.9678, 1.8315, 1.7645, 1.6898, 1.5289, 1.098, 0.902, 1.659, 0.9543, 1.5597, 1.1001, 1.4035, 1.3345, 1.0212, 0.713, 1.5075, 1.7253, 0.4005, 0.9415, 0.4197, 1.0157, 0.8212, 0.4721, 0.5189, 0.7939, 0.7232, -0.0537, 0.9712, 0.516, 0.5321, 0.6614, -0.0002, 0.4414, 0.3798, 0.5017, 0.3193, 0.5936, 0.4371, 0.0301, 0.4011, 0.2755, 0.1398, 0.1003, -0.0363, -0.6015, -0.0647, 2.2187, 2.1317, 2.1221, 2.1082, 2.1081, 2.0832, 2.0582, 2.0581, 2.0581, 2.058, 2.0579, 2.0579, 2.0579, 2.0578, 2.0577, 2.0041, 1.9976, 1.9927, 1.9821, 1.962, 1.9199, 1.906, 1.8898, 1.8892, 1.8675, 1.8647, 1.8595, 1.8574, 1.8475, 1.8417, 1.8379, 1.7524, 1.7389, 1.7205, 1.4755, 1.7311, 1.6475, 0.9656, 1.3826, 1.7698, 1.4114, 1.7007, 1.618, 1.2643, 0.814, 1.3378, 1.1179, 0.7081, 0.9019, 0.9748, 1.3662, 0.6304, 0.0889, 0.646, 0.1747, 0.5159, 0.4308, 0.2515, 1.1032, 0.7, 0.9404, 0.5556, 0.0931, 0.5299, 0.764, 0.0734, -0.192, 0.1787, 0.5813, 0.143, 0.1337, -0.0876, 0.0884, -0.4914, -0.0893, 0.2639, 2.3465, 2.2973, 2.2466, 2.2446, 2.19, 2.169, 2.1636, 2.0935, 2.0655, 2.0586, 2.0408, 2.0327, 2.027, 2.0256, 2.0159, 2.0136, 2.0112, 2.01, 2.0065, 1.9979, 1.9903, 1.9855, 1.9812, 1.9763, 1.9751, 1.974, 1.9726, 1.9616, 1.9572, 1.9549, 1.9544, 1.954, 1.9421, 1.9077, 1.7157, 1.8299, 1.7222, 1.4751, 1.6504, 1.6952, 1.768, 1.4221, 1.2292, 1.5957, 1.4823, 0.3745, 0.3236, 1.3002, 0.7161, 0.5619, 0.6488, 0.4039, 0.7329, 0.7226, 1.0029, 0.1032, -0.1183, 0.18, 0.2669, 0.2498, 0.4603, 0.4986, 0.2486, -0.1791, 0.3629, -0.1892, 0.1648, 0.0124, 0.5521, -0.0591, 0.0536, -0.0295, -0.1145, 0.0624, -0.7254, 2.4307, 2.3816, 2.3351, 2.2963, 2.2009, 2.1914, 2.1872, 2.1796, 2.1712, 2.1484, 2.1366, 2.124, 2.1192, 2.1149, 2.1034, 2.1031, 2.0952, 2.0478, 2.0455, 2.0393, 2.0389, 2.0376, 2.036, 2.0139, 2.0124, 2.0088, 1.9948, 1.9895, 1.9891, 1.9809, 1.9787, 1.958, 1.8762, 1.6754, 1.9726, 1.7915, 1.7505, 1.7488, 1.8781, 1.6422, 1.796, 1.7102, 1.6863, 1.0948, 1.5511, 0.7352, 1.108, 1.3471, 0.69, 0.8001, 0.7572, 0.654, 0.3718, 0.7941, 0.8846, 0.7993, 0.2212, 0.2596, 0.0623, 0.9996, -0.2316, 0.5742, 0.0882, 0.033, 0.639, 0.7803, -0.0576, 0.2813, 0.0844, 0.0731, -0.244, 0.3696, -0.1641, -0.1555, -0.6559, -0.1914, -0.2235, -0.2667, -0.5656]}, \"token.table\": {\"Topic\": [1, 2, 3, 4, 5, 6, 7, 8, 9, 10, 1, 2, 3, 4, 5, 6, 7, 8, 9, 10, 8, 6, 4, 4, 3, 8, 8, 4, 7, 2, 1, 9, 6, 1, 2, 3, 4, 5, 9, 1, 2, 3, 4, 5, 6, 7, 8, 9, 10, 1, 4, 7, 1, 2, 3, 4, 5, 6, 7, 8, 9, 10, 3, 6, 8, 2, 5, 6, 1, 4, 7, 1, 2, 3, 4, 5, 6, 7, 8, 9, 10, 1, 2, 3, 4, 5, 6, 7, 8, 9, 10, 5, 6, 1, 2, 5, 6, 3, 7, 1, 3, 5, 6, 8, 1, 2, 3, 4, 5, 6, 7, 9, 2, 2, 10, 9, 1, 1, 5, 9, 6, 1, 1, 2, 3, 2, 3, 5, 6, 1, 4, 8, 6, 8, 1, 3, 4, 5, 6, 8, 9, 4, 4, 4, 8, 10, 4, 6, 1, 9, 9, 9, 7, 1, 2, 4, 5, 6, 7, 8, 10, 5, 3, 8, 1, 3, 4, 9, 3, 6, 8, 10, 1, 3, 4, 5, 7, 8, 9, 1, 2, 9, 8, 4, 1, 2, 3, 4, 5, 6, 7, 9, 10, 2, 6, 3, 2, 8, 1, 3, 4, 4, 1, 4, 9, 1, 4, 5, 6, 7, 8, 1, 2, 3, 4, 5, 6, 7, 8, 9, 10, 10, 3, 6, 8, 10, 7, 7, 8, 2, 2, 3, 8, 9, 10, 1, 2, 3, 4, 5, 6, 7, 8, 9, 10, 3, 4, 4, 6, 1, 2, 9, 1, 2, 3, 4, 10, 1, 2, 4, 5, 1, 5, 7, 4, 1, 1, 2, 3, 5, 6, 7, 9, 2, 4, 9, 1, 2, 3, 4, 5, 7, 10, 1, 2, 4, 2, 3, 6, 7, 8, 9, 1, 2, 3, 6, 1, 1, 2, 4, 5, 7, 2, 9, 4, 1, 4, 5, 7, 6, 3, 3, 6, 8, 9, 1, 2, 3, 4, 5, 6, 7, 9, 1, 3, 7, 2, 9, 2, 2, 4, 7, 3, 4, 7, 8, 1, 5, 9, 10, 1, 2, 4, 5, 7, 8, 4, 2, 4, 1, 2, 3, 8, 3, 2, 1, 4, 5, 10, 6, 1, 9, 6, 9, 4, 1, 8, 10, 1, 2, 2, 9, 4, 5, 7, 1, 2, 3, 4, 5, 6, 7, 8, 1, 2, 3, 4, 6, 7, 8, 3, 5, 1, 3, 2, 4, 9, 4, 3, 8, 1, 4, 6, 7, 1, 2, 3, 4, 5, 6, 7, 8, 9, 10, 3, 2, 5, 2, 1, 1, 2, 3, 4, 5, 6, 7, 8, 9, 1, 3, 4, 5, 6, 7, 8, 9, 10, 1, 9, 1, 4, 6, 2, 3, 4, 10, 7, 2, 10, 4, 1, 2, 5, 6, 2, 8, 10, 5, 1, 3, 5, 6, 3, 6, 1, 2, 4, 8, 1, 2, 7, 8, 9, 10, 7, 7, 1, 2, 3, 6, 1, 2, 3, 4, 5, 6, 7, 8, 9, 10, 10, 2, 4, 7, 3, 2, 6, 9, 2, 9, 1, 5, 1, 2, 3, 4, 5, 6, 7, 8, 9, 10, 2, 1, 2, 3, 4, 5, 6, 7, 8, 10, 7, 2, 4, 1, 2, 3, 4, 6, 7, 8, 9, 3, 1, 1, 5, 10, 2, 5, 6, 2, 9, 1, 2, 3, 4, 5, 6, 7, 8, 9, 10, 7, 5, 9, 10, 9, 4, 1, 2, 3, 4, 5, 6, 8, 5, 9, 2, 7, 8, 9, 1, 8, 9, 1, 2, 3, 4, 5, 6, 8, 10, 6, 8, 10, 8, 3, 1, 2, 3, 4, 5, 6, 7, 8, 9, 10, 1, 2, 3, 5, 6, 1, 2, 4, 5, 6, 7, 8, 9, 2, 1, 4, 5, 2, 8, 4, 3, 6, 8, 2, 8, 1, 2, 3, 4, 5, 6, 7, 8, 9, 10, 6, 1, 2, 3, 4, 5, 6, 7, 8, 9, 10, 7, 3, 6, 2, 9, 1, 2, 3, 4, 6, 7, 8, 9, 1, 2, 3, 4, 5, 6, 7, 8, 9, 10, 2, 8, 1, 2, 3, 4, 5, 6, 7, 8, 9, 10, 1, 2, 3, 7, 7, 1, 2, 3, 4, 5, 6, 7, 8, 9, 10, 7, 1, 2, 3, 4, 5, 6, 7, 8, 9, 10, 3, 7, 1, 2, 4, 5, 7, 8, 7, 1, 2, 3, 4, 5, 6, 7, 8, 9, 10, 1, 2, 3, 4, 5, 6, 7, 8, 9, 10, 4, 5, 6, 1, 2, 3, 4, 5, 6, 7, 8, 9, 10, 3, 1, 2, 3, 4, 5, 6, 7, 9, 1, 3, 4, 5, 6, 7, 8, 9, 1, 4, 1, 2, 7, 9, 4, 6, 7, 9, 3, 1, 2, 3, 4, 5, 6, 7, 8, 9, 10, 6, 1, 2, 3, 4, 5, 6, 7, 8, 9, 10, 1, 1, 2, 3, 4, 5, 6, 7, 8, 9, 10, 1, 2, 3, 9, 8, 1, 2, 3, 4, 5, 6, 7, 8, 9, 10, 1, 2, 4, 10, 1, 2, 3, 4, 5, 6, 7, 8, 9, 10, 1, 2, 3, 4, 5, 6, 7, 8, 9, 10, 1, 2, 3, 4, 7, 8, 9, 10, 8, 4, 1, 2, 3, 4, 5, 6, 7, 8, 9, 10, 6, 8, 5, 8, 1, 2, 3, 4, 5, 6, 7, 8, 9, 10, 1, 8, 8, 9, 1, 2, 3, 4, 6, 7, 8, 9, 1, 4, 7, 7, 1, 2, 3, 4, 5, 6, 7, 9, 1, 2, 3, 4, 5, 6, 7, 8, 9, 10, 5, 1, 4, 1, 2, 3, 4, 5, 6, 9, 10, 7, 4, 10, 5, 1, 2, 3, 4, 5, 6, 7, 8, 9, 10, 1, 4, 6, 1, 2, 3, 4, 5, 6, 7, 8, 9, 10, 1, 3, 2, 3, 5, 10, 6, 8, 1, 7, 1, 2, 3, 4, 5, 6, 7, 6, 5, 9, 3, 4, 8, 2, 1, 2, 3, 4, 5, 6, 7, 8, 9, 10, 1, 2, 5, 7, 9, 2, 10, 1, 2, 3, 4, 5, 6, 7, 10, 1, 2, 3, 4, 5, 6, 7, 10, 1, 3, 4, 5, 1, 2, 3, 4, 5, 6, 7, 8, 9, 10, 1, 2, 1, 2, 3, 6, 8, 5, 1, 2, 3, 5, 7, 8, 9, 10, 9, 3, 6, 1, 8, 2, 5, 10, 1, 2, 4, 8, 9, 6, 1, 2, 3, 4, 5, 6, 7, 8, 9, 10, 1, 2, 3, 4, 5, 6, 7, 8, 9, 10, 1, 2, 3, 4, 5, 6, 8, 3, 1, 2, 3, 4, 5, 6, 7, 8, 9, 10, 1, 2, 3, 4, 5, 6, 7, 8, 9, 10, 1, 4, 8, 1, 2, 3, 4, 5, 6, 7, 9, 9, 5, 1, 2, 3, 4, 5, 6, 7, 8, 9, 10, 3, 8, 9, 1, 2, 3, 4, 5, 6, 7, 8, 9, 10, 1, 1, 2, 3, 4, 5, 6, 7, 8, 9, 10, 1, 2, 3, 4, 5, 6, 7, 8, 9, 10, 1, 2, 3, 4, 5, 6, 7, 8, 9, 10, 1, 2, 3, 4, 5, 6, 7, 8, 9, 10, 1, 3, 4, 5, 6, 9, 10, 1, 2, 3, 4, 5, 6, 9, 10, 1, 2, 3, 4, 5, 6, 7, 8, 1, 2, 3, 4, 5, 6, 8, 9, 10, 1, 2, 3, 4, 5, 6, 7, 8, 9, 1, 1, 2, 3, 4, 5, 6, 7, 8, 9, 10, 7, 5, 1, 2, 3, 4, 5, 6, 7, 8, 9, 10, 3, 1, 2, 3, 4, 5, 7, 9, 10, 1, 2, 3, 7, 8, 3, 1, 2, 3, 4, 5, 6, 7, 8, 9, 10, 1, 3, 4, 8, 9, 10, 1, 2, 3, 4, 6, 10, 1, 2, 3, 4, 5, 6, 7, 8, 9, 10, 1, 3, 4, 8, 1, 2, 3, 4, 5, 6, 7, 8, 9, 10, 1, 2, 3, 4, 5, 6, 7, 8, 9, 10, 1, 2, 3, 4, 5, 6, 7, 8, 9, 3, 7, 1, 2, 3, 4, 5, 6, 7, 8, 9, 10, 4, 1, 2, 3, 4, 5, 6, 7, 8, 9, 10, 3, 5, 7, 1, 2, 3, 4, 5, 6, 7, 8, 9, 1, 2, 3, 4, 5, 6, 7, 8, 9, 10, 1, 2, 3, 4, 5, 6, 7, 8, 9, 10, 1, 3, 7, 8, 2, 1, 2, 3, 4, 5, 6, 7, 8, 9, 10, 1, 2, 3, 4, 5, 6, 7, 8, 9, 1, 2, 3, 4, 5, 6, 7, 8, 7, 1, 2, 3, 4, 5, 6, 7, 8, 9, 10, 1, 2, 3, 4, 5, 6, 7, 8, 9, 10, 1, 2, 3, 4, 5, 6, 7, 8, 4, 5, 5, 1, 4, 6, 2, 1, 4, 1, 2, 3, 4, 5, 6, 7, 8, 9, 10, 7, 1, 2, 3, 4, 5, 6, 7, 8, 9, 1, 2, 3, 4, 5, 6, 7, 9, 10, 5, 1, 2, 3, 4, 5, 6, 7, 8, 9, 10, 1, 2, 3, 4, 5, 6, 7, 8, 9, 10, 1, 2, 3, 4, 5, 6, 7, 8, 9, 10, 1, 3, 7, 10, 2, 8, 10, 3, 5, 9, 1, 2, 3, 4, 5, 6, 7, 8, 9, 10, 1, 2, 3, 4, 5, 6, 7, 8, 9, 10, 5, 7, 9, 1, 2, 3, 4, 5, 6, 7, 8, 9, 10, 1, 2, 3, 4, 5, 6, 7, 8, 9, 10, 2, 2, 8, 10, 1, 2, 3, 4, 5, 6, 7, 8, 9, 10, 1, 2, 3, 4, 5, 6, 7, 8, 9, 10, 8, 10, 1, 2, 3, 4, 5, 6, 7, 8, 9, 10, 1, 2, 5, 9, 1, 2, 3, 4, 5, 6, 7, 8, 9, 10, 8, 9, 1, 2, 3, 4, 5, 6, 7, 8, 9, 1, 2, 3, 4, 5, 6, 7, 8, 9, 10, 1, 2, 3, 4, 5, 6, 7, 8, 9, 1, 7, 1, 5, 5, 2, 4, 1, 2, 3, 4, 5, 6, 7, 8, 9, 10, 1, 2, 3, 4, 6, 9, 1, 5, 1, 2, 3, 4, 5, 6, 7, 8, 9, 10, 6, 1, 2, 3, 4, 5, 6, 7, 8, 9, 10, 10, 6, 1, 9, 1, 10, 1, 2, 3, 4, 5, 6, 7, 8, 9, 10, 1, 2, 3, 4, 5, 6, 7, 8, 9, 10, 1, 3, 4, 5, 6, 7, 1, 2, 3, 4, 5, 6, 7, 8, 9, 10, 1, 2, 3, 4, 5, 6, 7, 8, 9, 10, 3, 4, 5, 6, 2, 4, 6, 8, 4, 5, 9, 4, 9, 3, 3, 4, 8, 9, 2, 10, 10, 1, 3, 4, 5, 6, 10, 1, 2, 3, 4, 5, 6, 7, 8, 9, 10, 2, 3, 1, 2, 3, 4, 5, 6, 7, 9, 10, 4, 5, 1, 2, 3, 4, 5, 6, 7, 8, 9, 10, 1, 3, 4, 5, 6, 7, 10, 1, 3, 4, 6, 10, 9, 1, 3, 4, 5, 4, 1, 2, 3, 4, 5, 6, 7, 8, 1, 2, 3, 4, 5, 6, 7, 8, 9, 10, 1, 2, 3, 4, 5, 6, 7, 8, 9, 10, 1, 2, 3, 1, 6, 1, 2, 3, 4, 5, 6, 7, 8, 9, 10, 4, 2, 3, 1, 2, 3, 4, 5, 6, 7, 8, 9, 1, 5, 6, 9, 8, 1, 3, 5, 7, 8, 9, 1, 2, 6, 9, 6, 9, 1, 4, 6, 1, 2, 3, 4, 5, 6, 7, 8, 9, 10, 4, 5, 1, 2, 3, 4, 5, 6, 7, 8, 9, 10, 2, 10, 3, 6, 2, 9, 4, 5, 7, 8, 7, 1, 10, 2, 4, 5, 6, 8, 8, 2, 6, 9, 5, 1, 6, 1, 2, 3, 4, 5, 6, 7, 8, 9, 10, 1, 2, 3, 4, 5, 6, 7, 8, 9, 10, 1, 2, 3, 4, 5, 6, 7, 8, 9, 10, 1, 2, 3, 4, 5, 6, 8, 9, 10, 1, 2, 3, 4, 5, 6, 7, 9, 1, 1, 2, 3, 4, 6, 7, 8, 8, 1, 2, 3, 4, 5, 6, 7, 9, 10, 6, 2, 3, 9, 1, 2, 3, 4, 6, 9, 3, 4, 7, 1, 8, 5, 1, 2, 3, 4, 5, 6, 7, 8, 9, 10, 7, 4, 5, 1, 2, 3, 4, 5, 6, 7, 8, 9, 10, 1, 2, 3, 4, 5, 6, 7, 8, 9, 10, 1, 2, 3, 4, 5, 6, 7, 8, 1, 2, 3, 4, 5, 6, 7, 8, 9, 10, 2, 1, 2, 3, 4, 5, 6, 7, 8, 9, 10, 1, 2, 3, 4, 5, 6, 7, 9, 9, 3, 1, 2, 3, 4, 5, 6, 7, 8, 9, 10, 5, 3, 9, 1, 2, 3, 4, 5, 6, 7, 8, 9, 1, 6, 6, 6, 1, 3, 1, 4, 5, 6, 6, 1, 3, 1, 2, 3, 4, 5, 6, 7, 8, 9, 10, 1, 2, 3, 4, 5, 6, 7, 8, 9, 10, 3, 1, 2, 3, 4, 5, 6, 7, 8, 10, 1, 2, 3, 4, 5, 6, 7, 8, 9, 10, 1, 2, 3, 4, 5, 6, 7, 8, 9, 10, 1, 2, 4, 5, 6, 7, 8, 1, 2, 3, 4, 5, 6, 7, 8, 9, 10, 1, 2, 3, 4, 5, 6, 8, 9, 1, 2, 3, 4, 5, 6, 7, 8, 9, 10, 1, 2, 3, 4, 5, 6, 7, 8, 10, 1, 2, 3, 4, 5, 6, 7, 8, 9, 10, 1, 2, 4, 5, 6, 7, 8, 9, 1, 2, 3, 4, 5, 6, 7, 8, 9, 10, 6, 1, 2, 3, 4, 5, 6, 7, 8, 9, 10], \"Freq\": [0.21643889355543763, 0.10821944677771882, 0.1731511148443501, 0.08657555742217506, 0.06493166806663128, 0.10821944677771882, 0.10821944677771882, 0.06493166806663128, 0.06493166806663128, 0.021643889355543764, 0.19353601189986844, 0.06451200396662281, 0.12902400793324562, 0.12902400793324562, 0.09676800594993422, 0.032256001983311404, 0.12902400793324562, 0.06451200396662281, 0.12902400793324562, 0.032256001983311404, 0.7257774094233905, 0.6345128534931728, 0.6321784251480304, 0.6323625187230625, 0.34468246386670764, 0.34468246386670764, 0.37250029311275584, 0.16628717318468408, 0.4988615195540523, 0.7568897353255948, 0.5410844404847008, 0.6756535112623915, 0.6367960894299082, 0.23697904033779876, 0.07899301344593292, 0.39496506722966457, 0.15798602689186583, 0.07899301344593292, 0.07899301344593292, 0.32407814910714755, 0.11784659967532639, 0.1325774246347422, 0.058923299837663194, 0.044192474878247394, 0.044192474878247394, 0.17676989951298958, 0.014730824959415799, 0.044192474878247394, 0.029461649918831597, 0.730026373203514, 0.14600527464070281, 0.14600527464070281, 0.25622099759432326, 0.1708139983962155, 0.11956979887735085, 0.05124419951886465, 0.1366511987169724, 0.1024883990377293, 0.01708139983962155, 0.0341627996792431, 0.05124419951886465, 0.0683255993584862, 0.4443051692080579, 0.22215258460402895, 0.22215258460402895, 0.1675999270905168, 0.6703997083620672, 0.1675999270905168, 0.6158949278174147, 0.15397373195435368, 0.15397373195435368, 0.475490171934492, 0.049188638475981934, 0.0901791705393002, 0.13116970260261848, 0.04099053206331828, 0.06558485130130924, 0.06558485130130924, 0.024594319237990967, 0.03279242565065462, 0.03279242565065462, 0.3595431413341966, 0.10786294240025898, 0.08988578533354916, 0.10786294240025898, 0.05393147120012949, 0.05393147120012949, 0.07190862826683933, 0.05393147120012949, 0.07190862826683933, 0.035954314133419665, 0.41826823502671534, 0.41826823502671534, 0.2295739278056093, 0.11478696390280466, 0.4591478556112186, 0.11478696390280466, 0.7306111586936491, 0.8891987474820198, 0.10664679760501407, 0.4265871904200563, 0.10664679760501407, 0.10664679760501407, 0.10664679760501407, 0.5181665559554387, 0.05757406177282652, 0.05757406177282652, 0.05757406177282652, 0.05757406177282652, 0.05757406177282652, 0.11514812354565304, 0.05757406177282652, 0.7449256102907377, 0.46061537090992927, 0.46061537090992927, 0.43587342723274913, 0.6996192459511321, 0.5278144457242345, 0.509301601908462, 0.254650800954231, 0.6502184398820615, 0.6891971570659231, 0.7760645347000842, 0.7335566817201585, 0.42489689876349535, 0.17389465715187918, 0.17389465715187918, 0.17389465715187918, 0.34778931430375837, 0.22707440150971642, 0.22707440150971642, 0.22707440150971642, 0.6485604148111687, 0.7257572294641755, 0.5233419956547662, 0.07476314223639517, 0.07476314223639517, 0.07476314223639517, 0.07476314223639517, 0.07476314223639517, 0.07476314223639517, 0.632244270265844, 0.6320973798559733, 0.632278130937305, 0.5277221984611316, 0.5277221984611316, 0.6373013817387031, 0.31865069086935155, 0.6744159244710813, 0.6660164519282055, 0.43767392499436536, 0.666305568925933, 0.6587771095776465, 0.09819180607579742, 0.09819180607579742, 0.29457541822739225, 0.09819180607579742, 0.09819180607579742, 0.09819180607579742, 0.09819180607579742, 0.09819180607579742, 0.5957679941265586, 0.2819235077298075, 0.2819235077298075, 0.5965885922331446, 0.09943143203885743, 0.09943143203885743, 0.09943143203885743, 0.5224832188178681, 0.10449664376357361, 0.10449664376357361, 0.10449664376357361, 0.09516145987192146, 0.28548437961576434, 0.09516145987192146, 0.09516145987192146, 0.1903229197438429, 0.1903229197438429, 0.09516145987192146, 0.1438651678524662, 0.2877303357049324, 0.5754606714098648, 0.36722893849235144, 0.6348822176219898, 0.11229970896107969, 0.11229970896107969, 0.11229970896107969, 0.11229970896107969, 0.11229970896107969, 0.2807492724026992, 0.05614985448053984, 0.05614985448053984, 0.05614985448053984, 0.5584383331509947, 0.6493793855649416, 0.4246697862294779, 0.5919997459007548, 0.19733324863358492, 0.2004085988346739, 0.2004085988346739, 0.4008171976693478, 0.6352726252710021, 0.1632777410904063, 0.4898332232712189, 0.1632777410904063, 0.2369239536740808, 0.3553859305111212, 0.1184619768370404, 0.1184619768370404, 0.1184619768370404, 0.5235785872879033, 0.1984018236041061, 0.12209342991021914, 0.10683175117144175, 0.1984018236041061, 0.12209342991021914, 0.07630839369388696, 0.06104671495510957, 0.030523357477554785, 0.030523357477554785, 0.030523357477554785, 0.5036396734383433, 0.6309406731377813, 0.07886758414222267, 0.07886758414222267, 0.07886758414222267, 0.3211005266386747, 0.8892095714911967, 0.47093517132611096, 0.6720698600224873, 0.07804551472682147, 0.2341365441804644, 0.39022757363410737, 0.15609102945364295, 0.07804551472682147, 0.09681981370420295, 0.16136635617367157, 0.09681981370420295, 0.16136635617367157, 0.1936396274084059, 0.09681981370420295, 0.032273271234734315, 0.06454654246946863, 0.09681981370420295, 0.032273271234734315, 0.5381962883852802, 0.6352626975084761, 0.6359119507068985, 0.3287255042959868, 0.40004116731791556, 0.20002058365895778, 0.20002058365895778, 0.6665406214571591, 0.07406006905079546, 0.14812013810159091, 0.07406006905079546, 0.07406006905079546, 0.1934445962360269, 0.48361149059006725, 0.09672229811801344, 0.09672229811801344, 0.66628153751511, 0.4012830898454472, 0.659176702636509, 0.6324084971033307, 0.6663914479880718, 0.0992850366140376, 0.0992850366140376, 0.1985700732280752, 0.0992850366140376, 0.1985700732280752, 0.0992850366140376, 0.1985700732280752, 0.4467605867673836, 0.2233802933836918, 0.6637172197532754, 0.504814033942344, 0.11877977269231625, 0.08908482951923719, 0.11877977269231625, 0.029694943173079063, 0.059389886346158126, 0.029694943173079063, 0.32217353116552083, 0.4295647082206945, 0.10739117705517362, 0.13481353993907483, 0.13481353993907483, 0.13481353993907483, 0.13481353993907483, 0.13481353993907483, 0.26962707987814966, 0.1349981065383964, 0.1349981065383964, 0.5399924261535856, 0.1349981065383964, 0.7705656845151982, 0.12290298946925995, 0.2458059789385199, 0.12290298946925995, 0.12290298946925995, 0.2458059789385199, 0.7602339814186937, 0.6759797187531005, 0.6310769040144291, 0.15282676656470798, 0.15282676656470798, 0.45848029969412396, 0.15282676656470798, 0.6460647280667818, 0.6235241065625857, 0.2845108132074189, 0.14225540660370944, 0.2845108132074189, 0.14225540660370944, 0.10988935532370347, 0.10988935532370347, 0.38461274363296216, 0.10988935532370347, 0.05494467766185174, 0.05494467766185174, 0.10988935532370347, 0.05494467766185174, 0.20258333592448782, 0.3038750038867317, 0.3038750038867317, 0.6362181397803388, 0.1590545349450847, 0.6725923264004252, 0.5653057047972774, 0.6321493072662685, 0.8893249967950979, 0.22323387534680722, 0.22323387534680722, 0.44646775069361444, 0.22323387534680722, 0.2429514004634696, 0.2429514004634696, 0.2429514004634696, 0.2429514004634696, 0.27451177228226586, 0.09150392409408861, 0.09150392409408861, 0.09150392409408861, 0.36601569637635445, 0.09150392409408861, 0.6179961851893823, 0.3018970038759523, 0.3018970038759523, 0.3174906028259554, 0.5291510047099257, 0.10583020094198513, 0.10583020094198513, 0.4204942255727549, 0.5650498184090019, 0.23343517204433575, 0.35015275806650364, 0.23343517204433575, 0.3772935251323022, 0.8673501174801054, 0.27340650789670445, 0.5468130157934089, 0.3475849574556192, 0.6951699149112384, 0.6325534543456968, 0.5514399177063494, 0.5302942704425775, 0.5302942704425775, 0.18688075538090915, 0.5606422661427274, 0.5648784660623117, 0.43552896122493007, 0.296206095810335, 0.59241219162067, 0.889201627328403, 0.20302439955156582, 0.08701045695067107, 0.14501742825111844, 0.08701045695067107, 0.23202788520178952, 0.05800697130044738, 0.05800697130044738, 0.11601394260089476, 0.31132084702950885, 0.06226416940590178, 0.06226416940590178, 0.31132084702950885, 0.06226416940590178, 0.12452833881180356, 0.06226416940590178, 0.8188408571857173, 0.6113598596969448, 0.5277747572066828, 0.8273208828069532, 0.30423815274528515, 0.6084763054905703, 0.4363091920332096, 0.6326795175385371, 0.25021738284354167, 0.5004347656870833, 0.24577445416303428, 0.49154890832606857, 0.12288722708151714, 0.12288722708151714, 0.20630601354835373, 0.1547295101612653, 0.20630601354835373, 0.025788251693544217, 0.05157650338708843, 0.025788251693544217, 0.20630601354835373, 0.05157650338708843, 0.05157650338708843, 0.025788251693544217, 0.4195118178168735, 0.7401073988522073, 0.6210020186398765, 0.7383821322554128, 0.6663273116420307, 0.18803749541679346, 0.18803749541679346, 0.18803749541679346, 0.03760749908335869, 0.03760749908335869, 0.07521499816671738, 0.11282249725007606, 0.15042999633343476, 0.07521499816671738, 0.10601740632758104, 0.21203481265516208, 0.10601740632758104, 0.10601740632758104, 0.10601740632758104, 0.05300870316379052, 0.15902610949137155, 0.10601740632758104, 0.05300870316379052, 0.7399236440054441, 0.6769612158986339, 0.5215035355317299, 0.6354299453828234, 0.4491242480871476, 0.1375994069261291, 0.1375994069261291, 0.4127982207783873, 0.1375994069261291, 0.4438391018683551, 0.46659152667513026, 0.46659152667513026, 0.6325097436135485, 0.26535421182457136, 0.5307084236491427, 0.13267710591228568, 0.42555025056162443, 0.7507670371080526, 0.5261042226590674, 0.5261042226590674, 0.5964165360231004, 0.23936427737048135, 0.4787285547409627, 0.23936427737048135, 0.6509856119421173, 0.31249413196351067, 0.31249413196351067, 0.12799825452380098, 0.5119930180952039, 0.12799825452380098, 0.12799825452380098, 0.6759313529621266, 0.19000738603721082, 0.19000738603721082, 0.38001477207442164, 0.19000738603721082, 0.19000738603721082, 0.47559794559812785, 0.8895701429973342, 0.10497208489345655, 0.2099441697869131, 0.4198883395738262, 0.10497208489345655, 0.29274855116785475, 0.29274855116785475, 0.10978070668794554, 0.07318713779196369, 0.036593568895981844, 0.07318713779196369, 0.036593568895981844, 0.036593568895981844, 0.07318713779196369, 0.036593568895981844, 0.5063927232777995, 0.17999665441841936, 0.17999665441841936, 0.3599933088368387, 0.6236029175958558, 0.16671942606804974, 0.16671942606804974, 0.5001582782041493, 0.324322428609263, 0.324322428609263, 0.5278468903967383, 0.596091099179262, 0.2420115501741007, 0.14117340426822542, 0.2016762918117506, 0.060502887543525175, 0.16134103344940048, 0.04033525836235012, 0.04033525836235012, 0.060502887543525175, 0.02016762918117506, 0.02016762918117506, 0.7489704365294351, 0.15785818035662408, 0.09471490821397445, 0.41043126892722265, 0.1894298164279489, 0.03157163607132482, 0.03157163607132482, 0.03157163607132482, 0.03157163607132482, 0.03157163607132482, 0.8882558928310932, 0.814713253161906, 0.6326121372334143, 0.1011016432630984, 0.1011016432630984, 0.1516524648946476, 0.1011016432630984, 0.2022032865261968, 0.1516524648946476, 0.0505508216315492, 0.0505508216315492, 0.42734398950192487, 0.5278335800541353, 0.21492235848591484, 0.21492235848591484, 0.21492235848591484, 0.2431736664520838, 0.4863473329041676, 0.65111206092486, 0.3093586146586314, 0.3093586146586314, 0.3577146043343995, 0.08129877371236352, 0.09755852845483623, 0.09755852845483623, 0.06503901896989082, 0.09755852845483623, 0.048779264227418115, 0.048779264227418115, 0.048779264227418115, 0.048779264227418115, 0.6587359223311458, 0.35819160262671823, 0.17909580131335912, 0.17909580131335912, 0.4407361936848042, 0.8415949704256639, 0.08038139087855188, 0.16076278175710376, 0.16076278175710376, 0.08038139087855188, 0.3215255635142075, 0.08038139087855188, 0.08038139087855188, 0.5078081048692591, 0.25390405243462955, 0.6507133173718638, 0.3253566586859319, 0.36558367479392, 0.4413649086040988, 0.645671380535705, 0.10761189675595084, 0.10761189675595084, 0.07430061255421057, 0.07430061255421057, 0.3715030627710529, 0.07430061255421057, 0.07430061255421057, 0.14860122510842114, 0.14860122510842114, 0.07430061255421057, 0.646123603935672, 0.5288023836640643, 0.5288023836640643, 0.725911691335862, 0.6232037915010138, 0.19215626388769627, 0.22418230786897897, 0.12810417592513085, 0.06405208796256542, 0.03202604398128271, 0.09607813194384814, 0.12810417592513085, 0.03202604398128271, 0.03202604398128271, 0.03202604398128271, 0.23247649324722305, 0.11623824662361153, 0.11623824662361153, 0.11623824662361153, 0.23247649324722305, 0.23002381816452544, 0.34503572724678816, 0.05750595454113136, 0.05750595454113136, 0.05750595454113136, 0.05750595454113136, 0.05750595454113136, 0.05750595454113136, 0.7522912308379236, 0.23833543986306982, 0.47667087972613964, 0.23833543986306982, 0.5646436533648634, 0.29812329997386533, 0.6321588873258372, 0.5089459216120324, 0.2544729608060162, 0.36673455330752236, 0.4553629072822756, 0.4553629072822756, 0.21290998642560668, 0.10645499321280334, 0.1520785617325762, 0.09124713703954572, 0.18249427407909144, 0.10645499321280334, 0.03041571234651524, 0.06083142469303048, 0.03041571234651524, 0.01520785617325762, 0.6360751169230288, 0.19082861459382344, 0.2862429218907352, 0.1335800302156764, 0.05724858437814703, 0.07633144583752938, 0.11449716875629407, 0.03816572291876469, 0.019082861459382344, 0.05724858437814703, 0.03816572291876469, 0.6585341498613502, 0.5910467685216401, 0.6316816245267151, 0.3151704086091536, 0.3151704086091536, 0.1840421981268768, 0.061347399375625604, 0.12269479875125121, 0.306736996878128, 0.061347399375625604, 0.061347399375625604, 0.061347399375625604, 0.061347399375625604, 0.2804812104666275, 0.19123718895451877, 0.06374572965150625, 0.1274914593030125, 0.11474231337271126, 0.06374572965150625, 0.025498291860602502, 0.025498291860602502, 0.06374572965150625, 0.025498291860602502, 0.5653554373711102, 0.7258399915326342, 0.20085662937631968, 0.10815356966417214, 0.1545050995202459, 0.1699556094722705, 0.10815356966417214, 0.10815356966417214, 0.06180203980809836, 0.03090101990404918, 0.01545050995202459, 0.03090101990404918, 0.1293320304160082, 0.1293320304160082, 0.1293320304160082, 0.5173281216640327, 0.6582395306085046, 0.2428520592468541, 0.2241711316124807, 0.07472371053749356, 0.09340463817186696, 0.07472371053749356, 0.09340463817186696, 0.07472371053749356, 0.07472371053749356, 0.03736185526874678, 0.03736185526874678, 0.658602448924734, 0.2294911501770494, 0.032784450025292775, 0.09835335007587832, 0.1311378001011711, 0.09835335007587832, 0.09835335007587832, 0.1311378001011711, 0.06556890005058555, 0.032784450025292775, 0.06556890005058555, 0.6235015385805128, 0.6598934714016186, 0.10497624307478559, 0.10497624307478559, 0.262440607686964, 0.10497624307478559, 0.10497624307478559, 0.262440607686964, 0.6432070660752045, 0.23271969530557576, 0.09308787812223031, 0.18617575624446062, 0.09308787812223031, 0.046543939061115154, 0.046543939061115154, 0.09308787812223031, 0.046543939061115154, 0.046543939061115154, 0.09308787812223031, 0.21246900176920974, 0.14164600117947315, 0.07082300058973658, 0.03541150029486829, 0.17705750147434143, 0.07082300058973658, 0.07082300058973658, 0.03541150029486829, 0.14164600117947315, 0.03541150029486829, 0.6362782203609801, 0.4814502109152662, 0.2407251054576331, 0.23478655948269897, 0.1986655503315145, 0.1264235320291456, 0.09030252287796114, 0.09030252287796114, 0.05418151372677668, 0.05418151372677668, 0.05418151372677668, 0.07224201830236891, 0.036121009151184456, 0.6211756993302724, 0.2594414507101243, 0.05188829014202487, 0.2594414507101243, 0.10377658028404974, 0.05188829014202487, 0.05188829014202487, 0.20755316056809947, 0.05188829014202487, 0.5344647849158208, 0.05938497610175787, 0.05938497610175787, 0.05938497610175787, 0.05938497610175787, 0.05938497610175787, 0.11876995220351574, 0.05938497610175787, 0.29496302682895775, 0.5899260536579155, 0.17318420322477868, 0.17318420322477868, 0.34636840644955735, 0.6749879841256404, 0.5314412287585814, 0.2657206143792907, 0.2750315022319058, 0.5500630044638116, 0.6240180791036767, 0.22532689709117706, 0.09013075883647083, 0.18026151767294166, 0.20279420738205936, 0.022532689709117707, 0.09013075883647083, 0.06759806912735312, 0.045065379418235414, 0.06759806912735312, 0.045065379418235414, 0.8657176432361036, 0.2925503244707902, 0.05851006489415804, 0.11702012978831608, 0.05851006489415804, 0.23404025957663216, 0.11702012978831608, 0.02925503244707902, 0.02925503244707902, 0.02925503244707902, 0.02925503244707902, 0.7790630050135429, 0.2145503722438194, 0.0715167907479398, 0.26222823274244594, 0.04767786049862653, 0.11919465124656634, 0.09535572099725306, 0.023838930249313266, 0.04767786049862653, 0.0715167907479398, 0.04767786049862653, 0.18569038341955454, 0.18569038341955454, 0.18569038341955454, 0.3713807668391091, 0.725919537019268, 0.27990404696376103, 0.07997258484678886, 0.07997258484678886, 0.1199588772701833, 0.09996573105848608, 0.03998629242339443, 0.13995202348188052, 0.05997943863509165, 0.05997943863509165, 0.019993146211697215, 0.12450560876479155, 0.6225280438239578, 0.12450560876479155, 0.12450560876479155, 0.1349409481088415, 0.06747047405442075, 0.1349409481088415, 0.06747047405442075, 0.06747047405442075, 0.06747047405442075, 0.06747047405442075, 0.20241142216326222, 0.1349409481088415, 0.06747047405442075, 0.20406565755558143, 0.25115773237610023, 0.15697358273506265, 0.07848679136753133, 0.06278943309402506, 0.07848679136753133, 0.06278943309402506, 0.03139471654701253, 0.04709207482051879, 0.015697358273506264, 0.15158184597564558, 0.07579092298782279, 0.22737276896346836, 0.07579092298782279, 0.07579092298782279, 0.22737276896346836, 0.15158184597564558, 0.07579092298782279, 0.3667436010267086, 0.6326527723110963, 0.232504248509508, 0.08303723161053857, 0.116252124254754, 0.14946701689896943, 0.06642978528843085, 0.03321489264421543, 0.116252124254754, 0.1328595705768617, 0.03321489264421543, 0.016607446322107713, 0.6501159191653224, 0.7257708064891403, 0.6059926028751612, 0.7259334893359473, 0.352260719658973, 0.08806517991474325, 0.13209776987211488, 0.06604888493605744, 0.08806517991474325, 0.04403258995737162, 0.06604888493605744, 0.11008147489342907, 0.04403258995737162, 0.02201629497868581, 0.3362034755085095, 0.3362034755085095, 0.3042365180649106, 0.4400891187592356, 0.1252644377394998, 0.1252644377394998, 0.0626322188697499, 0.1252644377394998, 0.37579331321849935, 0.0626322188697499, 0.0626322188697499, 0.0626322188697499, 0.2776110560484708, 0.1388055280242354, 0.4164165840727062, 0.8915824989657409, 0.2886446305316677, 0.16035812807314875, 0.0641432512292595, 0.16035812807314875, 0.03207162561462975, 0.0641432512292595, 0.16035812807314875, 0.0641432512292595, 0.2012239308197232, 0.0503059827049308, 0.30183589622958484, 0.1006119654098616, 0.0503059827049308, 0.1006119654098616, 0.0503059827049308, 0.0503059827049308, 0.0503059827049308, 0.0503059827049308, 0.9285798343000532, 0.2107780679572925, 0.421556135914585, 0.13220528034370282, 0.04406842678123427, 0.04406842678123427, 0.26441056068740565, 0.22034213390617136, 0.13220528034370282, 0.08813685356246855, 0.04406842678123427, 0.6595450661872353, 0.3550101748730976, 0.3550101748730976, 0.5999481945485329, 0.3825168812123231, 0.06954852385678602, 0.13909704771357204, 0.06954852385678602, 0.03477426192839301, 0.10432278578517902, 0.03477426192839301, 0.10432278578517902, 0.03477426192839301, 0.03477426192839301, 0.1759629274462954, 0.1759629274462954, 0.3519258548925908, 0.263499007039638, 0.10735144731244513, 0.10735144731244513, 0.10735144731244513, 0.1366291147612938, 0.05855533489769734, 0.10735144731244513, 0.03903688993179823, 0.04879611241474779, 0.019518444965899114, 0.6961075550951714, 0.8185561971889869, 0.2668438109574899, 0.2668438109574899, 0.2668438109574899, 0.2668438109574899, 0.6308476973382093, 0.726000561961355, 0.6724474913647467, 0.6580339574222104, 0.07824581185356407, 0.07824581185356407, 0.15649162370712813, 0.07824581185356407, 0.4694748711213844, 0.15649162370712813, 0.6598378024883981, 0.6508700679299156, 0.5957015946719049, 0.6756862542997644, 0.4890855174995297, 0.16302850583317657, 0.16302850583317657, 0.757707273515368, 0.16901311914567554, 0.15023388368504492, 0.15023388368504492, 0.15023388368504492, 0.07511694184252246, 0.07511694184252246, 0.03755847092126123, 0.09389617730315307, 0.056337706381891846, 0.03755847092126123, 0.17598864211160917, 0.17598864211160917, 0.17598864211160917, 0.35197728422321833, 0.43766026184103207, 0.46892563145800703, 0.46892563145800703, 0.1893726672907861, 0.06312422243026204, 0.1893726672907861, 0.06312422243026204, 0.06312422243026204, 0.1893726672907861, 0.12624844486052408, 0.12624844486052408, 0.15698381297950414, 0.05232793765983472, 0.10465587531966944, 0.15698381297950414, 0.05232793765983472, 0.10465587531966944, 0.20931175063933888, 0.20931175063933888, 0.1336706427840223, 0.4010119283520669, 0.1336706427840223, 0.1336706427840223, 0.1659058733782144, 0.11850419527015316, 0.11850419527015316, 0.09480335621612253, 0.1659058733782144, 0.09480335621612253, 0.0711025171620919, 0.047401678108061264, 0.0711025171620919, 0.09480335621612253, 0.21586664480822942, 0.6475999344246882, 0.10716447218518944, 0.2143289443703789, 0.10716447218518944, 0.10716447218518944, 0.2143289443703789, 0.4041766276266716, 0.06600659766673939, 0.06600659766673939, 0.46204618366717565, 0.06600659766673939, 0.13201319533347877, 0.06600659766673939, 0.06600659766673939, 0.06600659766673939, 0.4385225358629665, 0.5408896638693852, 0.1802965546231284, 0.527783971072456, 0.7135317659800867, 0.17116456587796774, 0.684658263511871, 0.17116456587796774, 0.47061078841386, 0.07843513140231, 0.15687026280462, 0.07843513140231, 0.07843513140231, 0.6467007597842999, 0.25221139563480255, 0.07566341869044077, 0.15132683738088154, 0.10088455825392102, 0.10088455825392102, 0.10088455825392102, 0.10088455825392102, 0.05044227912696051, 0.05044227912696051, 0.025221139563480256, 0.2535159385292581, 0.1342143203978425, 0.07456351133213472, 0.11930161813141556, 0.1342143203978425, 0.11930161813141556, 0.014912702266426945, 0.07456351133213472, 0.05965080906570778, 0.02982540453285389, 0.14232568468204923, 0.047441894894016415, 0.09488378978803283, 0.09488378978803283, 0.4269770540461477, 0.09488378978803283, 0.09488378978803283, 0.42668480835969486, 0.23328630356173188, 0.12960350197873993, 0.12960350197873993, 0.10368280158299195, 0.07776210118724396, 0.051841400791495976, 0.07776210118724396, 0.051841400791495976, 0.10368280158299195, 0.051841400791495976, 0.2744891943536949, 0.10979567774147796, 0.14273438106392136, 0.09881610996733016, 0.03293870332244339, 0.09881610996733016, 0.10979567774147796, 0.05489783887073898, 0.05489783887073898, 0.021959135548295594, 0.2763725331019897, 0.2763725331019897, 0.2763725331019897, 0.2407162425329295, 0.0802387475109765, 0.160477495021953, 0.320954990043906, 0.0802387475109765, 0.0802387475109765, 0.0802387475109765, 0.4457030048810962, 0.44705252895280123, 0.6045570875064269, 0.2319112339155446, 0.09939052882094769, 0.1325207050945969, 0.09939052882094769, 0.06626035254729845, 0.1325207050945969, 0.033130176273649226, 0.033130176273649226, 0.033130176273649226, 0.06626035254729845, 0.20318144000469512, 0.40636288000939025, 0.20318144000469512, 0.2889217684830607, 0.1155687073932243, 0.1155687073932243, 0.0770458049288162, 0.05778435369661215, 0.13483015862542835, 0.0770458049288162, 0.05778435369661215, 0.05778435369661215, 0.0385229024644081, 0.7158397903207112, 0.16990621343149007, 0.10619138339468129, 0.1486679367525538, 0.10619138339468129, 0.08495310671574503, 0.16990621343149007, 0.10619138339468129, 0.04247655335787252, 0.06371483003680878, 0.02123827667893626, 0.14087737948806037, 0.11739781624005032, 0.11739781624005032, 0.11739781624005032, 0.11739781624005032, 0.07043868974403018, 0.046959126496020125, 0.11739781624005032, 0.07043868974403018, 0.07043868974403018, 0.2507637128757772, 0.19503844334782672, 0.11145053905590098, 0.08358790429192574, 0.19503844334782672, 0.027862634763975245, 0.027862634763975245, 0.027862634763975245, 0.05572526952795049, 0.027862634763975245, 0.12935402958677217, 0.35110379459266733, 0.16631232375442134, 0.09239573541912298, 0.05543744125147378, 0.05543744125147378, 0.03695829416764919, 0.03695829416764919, 0.07391658833529838, 0.018479147083824594, 0.18081982955141634, 0.09040991477570817, 0.09040991477570817, 0.09040991477570817, 0.27122974432712454, 0.09040991477570817, 0.09040991477570817, 0.13501410604082933, 0.06750705302041467, 0.405042318122488, 0.06750705302041467, 0.06750705302041467, 0.06750705302041467, 0.06750705302041467, 0.06750705302041467, 0.0837462021126955, 0.0837462021126955, 0.0837462021126955, 0.167492404225391, 0.0837462021126955, 0.334984808450782, 0.0837462021126955, 0.0837462021126955, 0.12182670550096646, 0.12182670550096646, 0.18274005825144968, 0.06091335275048323, 0.12182670550096646, 0.12182670550096646, 0.06091335275048323, 0.18274005825144968, 0.06091335275048323, 0.27615176644935097, 0.1035569124185066, 0.1035569124185066, 0.1035569124185066, 0.13807588322467548, 0.06903794161233774, 0.03451897080616887, 0.1035569124185066, 0.03451897080616887, 0.6772264804270516, 0.17284690917024856, 0.12963518187768644, 0.08642345458512428, 0.08642345458512428, 0.1512410455239675, 0.1512410455239675, 0.08642345458512428, 0.06481759093884322, 0.04321172729256214, 0.02160586364628107, 0.6585484672540959, 0.5997827521382854, 0.23219702068867273, 0.12665292037563966, 0.14776174043824628, 0.12665292037563966, 0.06332646018781983, 0.08443528025042644, 0.08443528025042644, 0.02110882006260661, 0.06332646018781983, 0.02110882006260661, 0.623281941377468, 0.2193649519840391, 0.3290474279760586, 0.10968247599201955, 0.10968247599201955, 0.054841237996009776, 0.054841237996009776, 0.054841237996009776, 0.054841237996009776, 0.16944721438534543, 0.16944721438534543, 0.2541708215780181, 0.08472360719267272, 0.2541708215780181, 0.8183600562514396, 0.38323022421365766, 0.10451733387645208, 0.06967822258430138, 0.10451733387645208, 0.03483911129215069, 0.06967822258430138, 0.03483911129215069, 0.10451733387645208, 0.03483911129215069, 0.03483911129215069, 0.527846129410835, 0.16513228631174628, 0.16513228631174628, 0.33026457262349257, 0.16513228631174628, 0.16513228631174628, 0.1395828832015489, 0.4187486496046467, 0.1395828832015489, 0.5522508511863191, 0.11045017023726382, 0.11045017023726382, 0.14094340913524184, 0.1761792614190523, 0.10570755685143138, 0.07047170456762092, 0.10570755685143138, 0.10570755685143138, 0.07047170456762092, 0.03523585228381046, 0.14094340913524184, 0.07047170456762092, 0.5081966000993283, 0.1693988666997761, 0.08469943334988805, 0.08469943334988805, 0.17623111571864394, 0.21399492622978195, 0.06293968418522998, 0.13846730520750597, 0.08811555785932197, 0.15105524204455195, 0.012587936837045996, 0.025175873674091992, 0.08811555785932197, 0.03776381051113799, 0.20152998834696986, 0.13435332556464658, 0.10076499417348493, 0.06717666278232329, 0.033588331391161644, 0.20152998834696986, 0.10076499417348493, 0.06717666278232329, 0.06717666278232329, 0.033588331391161644, 0.2700250017561693, 0.2700250017561693, 0.07715000050176266, 0.1543000010035253, 0.03857500025088133, 0.03857500025088133, 0.03857500025088133, 0.03857500025088133, 0.03857500025088133, 0.6211745053778195, 0.6594276069129368, 0.2191038250332886, 0.1095519125166443, 0.1721530053832982, 0.18780327859996165, 0.06260109286665388, 0.07825136608331736, 0.03130054643332694, 0.04695081964999041, 0.06260109286665388, 0.04695081964999041, 0.6326197638699733, 0.26093715614658414, 0.2408650672122315, 0.14050462254046836, 0.0802883557374105, 0.14050462254046836, 0.04014417786870525, 0.020072088934352625, 0.020072088934352625, 0.020072088934352625, 0.020072088934352625, 0.5379831497511955, 0.17932771658373187, 0.6582468630735085, 0.11778173834763643, 0.11778173834763643, 0.058890869173818215, 0.11778173834763643, 0.058890869173818215, 0.11778173834763643, 0.11778173834763643, 0.058890869173818215, 0.23556347669527286, 0.25113733632117335, 0.1826453355063079, 0.09132266775315395, 0.06849200081486546, 0.1598146685680194, 0.09132266775315395, 0.06849200081486546, 0.022830666938288488, 0.045661333876576976, 0.022830666938288488, 0.2041278352134734, 0.13608522347564894, 0.2041278352134734, 0.06804261173782447, 0.09072348231709929, 0.13608522347564894, 0.06804261173782447, 0.02268087057927482, 0.04536174115854964, 0.02268087057927482, 0.23280559033417167, 0.23280559033417167, 0.23280559033417167, 0.46561118066834334, 0.7313146509803694, 0.25732061380322996, 0.12866030690161498, 0.15439236828193798, 0.15439236828193798, 0.05146412276064599, 0.07719618414096899, 0.05146412276064599, 0.05146412276064599, 0.05146412276064599, 0.025732061380322996, 0.13228699391654206, 0.06614349695827103, 0.13228699391654206, 0.13228699391654206, 0.06614349695827103, 0.2645739878330841, 0.06614349695827103, 0.06614349695827103, 0.06614349695827103, 0.3529271829116949, 0.04411589786396186, 0.04411589786396186, 0.04411589786396186, 0.30881128504773303, 0.04411589786396186, 0.08823179572792372, 0.08823179572792372, 0.6585195854122441, 0.17343533827741875, 0.10406120296645126, 0.138748270621935, 0.20812240593290252, 0.10406120296645126, 0.0693741353109675, 0.138748270621935, 0.0693741353109675, 0.03468706765548375, 0.03468706765548375, 0.09292448368330737, 0.09292448368330737, 0.15487413947217896, 0.09292448368330737, 0.18584896736661474, 0.15487413947217896, 0.09292448368330737, 0.06194965578887158, 0.03097482789443579, 0.03097482789443579, 0.5026628757782055, 0.10053257515564108, 0.05026628757782054, 0.05026628757782054, 0.10053257515564108, 0.10053257515564108, 0.10053257515564108, 0.05026628757782054, 0.1676496802036006, 0.6705987208144024, 0.7850951808885452, 0.24965234968842942, 0.24965234968842942, 0.24965234968842942, 0.3994901719263388, 0.5285563789082647, 0.17618545963608823, 0.4260792183416007, 0.1198347801585752, 0.13314975573175022, 0.09320482901222515, 0.03994492671952506, 0.07988985343905013, 0.026629951146350042, 0.03994492671952506, 0.013314975573175021, 0.013314975573175021, 0.6580434997720709, 0.33027719446795406, 0.0660554388935908, 0.0330277194467954, 0.09908315834038621, 0.1321108777871816, 0.09908315834038621, 0.16513859723397703, 0.0330277194467954, 0.0330277194467954, 0.07624296260270592, 0.15248592520541185, 0.07624296260270592, 0.07624296260270592, 0.2287288878081178, 0.07624296260270592, 0.07624296260270592, 0.07624296260270592, 0.15248592520541185, 0.5997270559225992, 0.195892174636172, 0.146919130977129, 0.146919130977129, 0.0734595654885645, 0.097946087318086, 0.12243260914760751, 0.0244865218295215, 0.048973043659043, 0.097946087318086, 0.0244865218295215, 0.25538523636272015, 0.16251787768536738, 0.20895155702404378, 0.06965051900801458, 0.04643367933867639, 0.09286735867735278, 0.11608419834669098, 0.023216839669338196, 0.04643367933867639, 0.023216839669338196, 0.11050801471868915, 0.036836004906229715, 0.40519605396852687, 0.07367200981245943, 0.036836004906229715, 0.036836004906229715, 0.11050801471868915, 0.07367200981245943, 0.036836004906229715, 0.07367200981245943, 0.19329916797314328, 0.38659833594628656, 0.19329916797314328, 0.19329916797314328, 0.20605398034960418, 0.20605398034960418, 0.20605398034960418, 0.25699018177813343, 0.25699018177813343, 0.25699018177813343, 0.0829110000841153, 0.27637000028038433, 0.13818500014019217, 0.05527400005607687, 0.0829110000841153, 0.13818500014019217, 0.05527400005607687, 0.05527400005607687, 0.11054800011215374, 0.027637000028038435, 0.2580352029764472, 0.1290176014882236, 0.18062464208351306, 0.07741056089293417, 0.05160704059528945, 0.1032140811905789, 0.1290176014882236, 0.025803520297644725, 0.05160704059528945, 0.025803520297644725, 0.5999423782074754, 0.6582582324436469, 0.6749987631868914, 0.20142148082080702, 0.20142148082080702, 0.10986626226589473, 0.09155521855491228, 0.07324417484392982, 0.09155521855491228, 0.09155521855491228, 0.03662208742196491, 0.09155521855491228, 0.03662208742196491, 0.29656103285555696, 0.07414025821388924, 0.09885367761851899, 0.07414025821388924, 0.1729939358324082, 0.04942683880925949, 0.07414025821388924, 0.07414025821388924, 0.04942683880925949, 0.024713419404629747, 0.5647363752994157, 0.7429644044541481, 0.4066965272315143, 0.4066965272315143, 0.3111320782734646, 0.059263253004469454, 0.10371069275782155, 0.10371069275782155, 0.14815813251117363, 0.08889487950670419, 0.044447439753352094, 0.029631626502234727, 0.07407906625558681, 0.029631626502234727, 0.36822975096481053, 0.11330146183532631, 0.16995219275298948, 0.05665073091766316, 0.05665073091766316, 0.02832536545883158, 0.08497609637649474, 0.05665073091766316, 0.02832536545883158, 0.05665073091766316, 0.5263239408300263, 0.5263239408300263, 0.3429990405899929, 0.14291626691249704, 0.14291626691249704, 0.05716650676499882, 0.11433301352999764, 0.02858325338249941, 0.02858325338249941, 0.08574976014749823, 0.02858325338249941, 0.02858325338249941, 0.17150725544622678, 0.17150725544622678, 0.17150725544622678, 0.34301451089245355, 0.29102506526679667, 0.087307519580039, 0.087307519580039, 0.11641002610671868, 0.087307519580039, 0.11641002610671868, 0.05820501305335934, 0.02910250652667967, 0.11641002610671868, 0.02910250652667967, 0.2893101543282675, 0.2893101543282675, 0.24653575208142336, 0.04108929201357056, 0.12326787604071168, 0.04108929201357056, 0.04108929201357056, 0.12326787604071168, 0.16435716805428224, 0.08217858402714112, 0.04108929201357056, 0.19010447535846833, 0.11089427729243986, 0.09505223767923417, 0.17426243574526265, 0.15842039613205697, 0.07921019806602848, 0.04752611883961708, 0.04752611883961708, 0.06336815845282279, 0.031684079226411394, 0.33195308361180204, 0.06639061672236041, 0.06639061672236041, 0.06639061672236041, 0.06639061672236041, 0.19917185016708122, 0.06639061672236041, 0.06639061672236041, 0.06639061672236041, 0.25231085266409986, 0.5046217053281997, 0.5278531324310357, 0.5997427852725664, 0.7964254405449356, 0.5766801224838853, 0.19222670749462845, 0.2089286773997805, 0.2089286773997805, 0.08705361558324187, 0.10446433869989025, 0.12187506181653862, 0.12187506181653862, 0.017410723116648374, 0.03482144623329675, 0.0696428924665935, 0.05223216934994512, 0.14017978150281793, 0.14017978150281793, 0.14017978150281793, 0.14017978150281793, 0.14017978150281793, 0.28035956300563586, 0.23665844741555386, 0.4733168948311077, 0.4297452149926501, 0.02864968099951001, 0.14324840499755004, 0.05729936199902002, 0.05729936199902002, 0.05729936199902002, 0.11459872399804004, 0.02864968099951001, 0.05729936199902002, 0.02864968099951001, 0.636229394473118, 0.4137234257463243, 0.09481161840019932, 0.10343085643658108, 0.07757314232743581, 0.05171542821829054, 0.07757314232743581, 0.043096190181908786, 0.06895390429105405, 0.05171542821829054, 0.017238476072763513, 0.3786388225176226, 0.6367481717548858, 0.7515847463407648, 0.15031694926815295, 0.45221710755505334, 0.45221710755505334, 0.2609536592383394, 0.09489223972303253, 0.14233835958454877, 0.14233835958454877, 0.11861529965379065, 0.07116917979227438, 0.07116917979227438, 0.07116917979227438, 0.04744611986151626, 0.02372305993075813, 0.2417863869598322, 0.20148865579986017, 0.08059546231994408, 0.08059546231994408, 0.10074432789993008, 0.14104205905990214, 0.04029773115997204, 0.04029773115997204, 0.04029773115997204, 0.02014886557998602, 0.22122692135400127, 0.11061346067700063, 0.11061346067700063, 0.11061346067700063, 0.3318403820310019, 0.11061346067700063, 0.21926517057922912, 0.16444887793442184, 0.16444887793442184, 0.05481629264480728, 0.05481629264480728, 0.05481629264480728, 0.05481629264480728, 0.16444887793442184, 0.05481629264480728, 0.05481629264480728, 0.26354062507035136, 0.23718656256331622, 0.05270812501407027, 0.05270812501407027, 0.05270812501407027, 0.0790621875211054, 0.10541625002814053, 0.10541625002814053, 0.026354062507035134, 0.026354062507035134, 0.1395132902531951, 0.1395132902531951, 0.4185398707595852, 0.1395132902531951, 0.17208284145198582, 0.17208284145198582, 0.17208284145198582, 0.34416568290397165, 0.17053207514716867, 0.6821283005886747, 0.17053207514716867, 0.6322010091395358, 0.44798530335184583, 0.8183415416370885, 0.17646676818741217, 0.17646676818741217, 0.35293353637482433, 0.17646676818741217, 0.46998577707909883, 0.46998577707909883, 0.4846403107149711, 0.11919853160944723, 0.11919853160944723, 0.11919853160944723, 0.11919853160944723, 0.23839706321889445, 0.11919853160944723, 0.13593613581966366, 0.04531204527322122, 0.13593613581966366, 0.04531204527322122, 0.18124818109288487, 0.04531204527322122, 0.2265602263661061, 0.09062409054644244, 0.04531204527322122, 0.04531204527322122, 0.6649045658224775, 0.22163485527415916, 0.15119845323306502, 0.15119845323306502, 0.050399484411021676, 0.15119845323306502, 0.10079896882204335, 0.30239690646613004, 0.050399484411021676, 0.050399484411021676, 0.050399484411021676, 0.29690656397132825, 0.5938131279426565, 0.2663953880060594, 0.06659884700151485, 0.2663953880060594, 0.09989827050227228, 0.03329942350075742, 0.06659884700151485, 0.06659884700151485, 0.06659884700151485, 0.06659884700151485, 0.03329942350075742, 0.12230323627797372, 0.12230323627797372, 0.12230323627797372, 0.12230323627797372, 0.24460647255594745, 0.12230323627797372, 0.12230323627797372, 0.19109422154796873, 0.19109422154796873, 0.19109422154796873, 0.19109422154796873, 0.19109422154796873, 0.675069834060175, 0.263380664502085, 0.1316903322510425, 0.3950709967531275, 0.1316903322510425, 0.8355877433350991, 0.12201183703308867, 0.12201183703308867, 0.183017755549633, 0.061005918516544334, 0.061005918516544334, 0.061005918516544334, 0.12201183703308867, 0.183017755549633, 0.2592247559390269, 0.11109632397386866, 0.11109632397386866, 0.11109632397386866, 0.07406421598257912, 0.11109632397386866, 0.03703210799128956, 0.07406421598257912, 0.03703210799128956, 0.07406421598257912, 0.3103369664434219, 0.08866770469812055, 0.059111803132080365, 0.10344565548114064, 0.059111803132080365, 0.10344565548114064, 0.029555901566040182, 0.16255745861322102, 0.029555901566040182, 0.044333852349060274, 0.715670439012124, 0.1431340878024248, 0.1431340878024248, 0.5278543127951264, 0.6360941281875193, 0.2670116448879135, 0.0890038816293045, 0.0890038816293045, 0.0890038816293045, 0.1483398027155075, 0.059335921086203, 0.059335921086203, 0.118671842172406, 0.059335921086203, 0.0296679605431015, 0.6325324189227127, 0.7437637546316793, 0.6211574872531037, 0.2749887207877831, 0.05499774415755661, 0.10999548831511322, 0.10999548831511322, 0.05499774415755661, 0.21999097663022643, 0.10999548831511322, 0.05499774415755661, 0.05499774415755661, 0.1817275761007795, 0.1817275761007795, 0.363455152201559, 0.1817275761007795, 0.36804839157517466, 0.17405433048131003, 0.17405433048131003, 0.17405433048131003, 0.17405433048131003, 0.34810866096262005, 0.17405433048131003, 0.35010125919859253, 0.11670041973286417, 0.11670041973286417, 0.35010125919859253, 0.4285014092044659, 0.4426653408478154, 0.22695958590336288, 0.22695958590336288, 0.34043937885504433, 0.36793852600742544, 0.18396926300371272, 0.09198463150185636, 0.04599231575092818, 0.06898847362639227, 0.04599231575092818, 0.04599231575092818, 0.04599231575092818, 0.09198463150185636, 0.02299615787546409, 0.23930335031739594, 0.4786067006347919, 0.24220022738592495, 0.06920006496740713, 0.10380009745111068, 0.10380009745111068, 0.10380009745111068, 0.06920006496740713, 0.034600032483703566, 0.06920006496740713, 0.06920006496740713, 0.10380009745111068, 0.34643295017129294, 0.34643295017129294, 0.729653099889341, 0.6323843598137628, 0.16930948946668337, 0.6772379578667335, 0.16241189079834017, 0.32482378159668035, 0.16241189079834017, 0.16241189079834017, 0.6594552374315312, 0.3478353156903577, 0.3478353156903577, 0.791244650201449, 0.1401682485815926, 0.1401682485815926, 0.4205047457447778, 0.3762349758165693, 0.7147137433345444, 0.15089188644663826, 0.15089188644663826, 0.4526756593399147, 0.5955454963481639, 0.6180366609227006, 0.3090183304613503, 0.17771455002708555, 0.10662873001625132, 0.14217164002166843, 0.10662873001625132, 0.14217164002166843, 0.14217164002166843, 0.03554291000541711, 0.03554291000541711, 0.03554291000541711, 0.07108582001083422, 0.28912270957875985, 0.03212474550875109, 0.28912270957875985, 0.06424949101750219, 0.06424949101750219, 0.03212474550875109, 0.06424949101750219, 0.03212474550875109, 0.06424949101750219, 0.03212474550875109, 0.2135532841394147, 0.08008248155228051, 0.1334708025871342, 0.1334708025871342, 0.2135532841394147, 0.02669416051742684, 0.08008248155228051, 0.05338832103485368, 0.05338832103485368, 0.05338832103485368, 0.13361732442960172, 0.13361732442960172, 0.17815643257280228, 0.08907821628640114, 0.08907821628640114, 0.13361732442960172, 0.17815643257280228, 0.04453910814320057, 0.04453910814320057, 0.24704010010044028, 0.1852800750753302, 0.06176002502511007, 0.06176002502511007, 0.06176002502511007, 0.12352005005022014, 0.06176002502511007, 0.1852800750753302, 0.5605646364773111, 0.4130348886601438, 0.12391046659804314, 0.12391046659804314, 0.041303488866014385, 0.08260697773202877, 0.041303488866014385, 0.12391046659804314, 0.726040647205075, 0.3493563081432455, 0.049908044020463636, 0.09981608804092727, 0.09981608804092727, 0.09981608804092727, 0.049908044020463636, 0.049908044020463636, 0.049908044020463636, 0.09981608804092727, 0.6462990760435917, 0.18667472476073158, 0.18667472476073158, 0.37334944952146315, 0.08582976639969488, 0.17165953279938975, 0.3433190655987795, 0.08582976639969488, 0.08582976639969488, 0.08582976639969488, 0.28168645570187245, 0.4225296835528087, 0.14084322785093623, 0.6595983590230757, 0.21986611967435857, 0.4048401057343364, 0.18407864027540455, 0.12885504819278318, 0.12885504819278318, 0.09203932013770227, 0.11044718416524273, 0.09203932013770227, 0.12885504819278318, 0.05522359208262136, 0.07363145611016182, 0.018407864027540456, 0.6604102876602654, 0.24023213740909208, 0.48046427481818416, 0.17774766702786335, 0.1333107502708975, 0.23699688937048446, 0.10368613909958696, 0.059249222342621116, 0.059249222342621116, 0.04443691675696584, 0.059249222342621116, 0.059249222342621116, 0.059249222342621116, 0.21670418546845052, 0.2600450225621406, 0.08668167418738021, 0.043340837093690104, 0.043340837093690104, 0.08668167418738021, 0.043340837093690104, 0.043340837093690104, 0.1300225112810703, 0.08668167418738021, 0.2957899908420971, 0.08066999750239012, 0.05377999833492675, 0.1075599966698535, 0.18822999417224362, 0.08066999750239012, 0.1075599966698535, 0.05377999833492675, 0.3895966658789788, 0.04869958323487235, 0.22726472176273763, 0.04869958323487235, 0.04869958323487235, 0.08116597205812058, 0.03246638882324823, 0.03246638882324823, 0.03246638882324823, 0.016233194411624116, 0.6666534655251705, 0.23168748741534007, 0.16990415743791604, 0.12356665995484803, 0.061783329977424015, 0.09267499496613603, 0.10812082746049204, 0.07722916247178002, 0.061783329977424015, 0.046337497483068014, 0.030891664988712007, 0.20982312740705752, 0.06994104246901918, 0.41964625481411505, 0.06994104246901918, 0.06994104246901918, 0.06994104246901918, 0.06994104246901918, 0.06994104246901918, 0.4424271748173083, 0.623379391900718, 0.3008020857045147, 0.11569310988635181, 0.23138621977270363, 0.11569310988635181, 0.04627724395454072, 0.09255448790908144, 0.04627724395454072, 0.04627724395454072, 0.02313862197727036, 0.02313862197727036, 0.7997405654655588, 0.6233036428690722, 0.6661255797505561, 0.31173253538800355, 0.09591770319630878, 0.11989712899538597, 0.023979425799077195, 0.09591770319630878, 0.07193827739723159, 0.19183540639261756, 0.07193827739723159, 0.023979425799077195, 0.5278426680785497, 0.41747911535696236, 0.6375766728167143, 0.6509746349191785, 0.19754042411580405, 0.5926212723474121, 0.5650875926180057, 0.09418126543633427, 0.09418126543633427, 0.18836253087266855, 0.852350268750796, 0.1753377055335543, 0.5260131166006629, 0.24764889519521308, 0.09905955807808522, 0.14858933711712785, 0.14858933711712785, 0.07429466855856393, 0.07429466855856393, 0.09905955807808522, 0.07429466855856393, 0.024764889519521306, 0.024764889519521306, 0.23277863455522907, 0.19952454390448207, 0.09976227195224104, 0.06650818130149402, 0.09976227195224104, 0.06650818130149402, 0.16627045325373505, 0.03325409065074701, 0.03325409065074701, 0.03325409065074701, 0.6239618098412328, 0.11860721985792828, 0.11860721985792828, 0.35582165957378487, 0.05930360992896414, 0.05930360992896414, 0.11860721985792828, 0.05930360992896414, 0.05930360992896414, 0.05930360992896414, 0.24472762979470677, 0.22247966344973344, 0.13348779806984007, 0.11123983172486672, 0.06674389903492003, 0.11123983172486672, 0.022247966344973343, 0.044495932689946685, 0.044495932689946685, 0.022247966344973343, 0.22731215063359694, 0.09092486025343878, 0.27277458076031635, 0.04546243012671939, 0.04546243012671939, 0.04546243012671939, 0.13638729038015818, 0.04546243012671939, 0.04546243012671939, 0.04546243012671939, 0.19277815496686684, 0.04819453874171671, 0.19277815496686684, 0.14458361622515015, 0.24097269370858357, 0.04819453874171671, 0.04819453874171671, 0.22861034357384338, 0.254011492859826, 0.1778080450018782, 0.05080229857196519, 0.025401149285982597, 0.05080229857196519, 0.10160459714393039, 0.05080229857196519, 0.025401149285982597, 0.07620344785794779, 0.19522863446165983, 0.07809145378466392, 0.15618290756932784, 0.07809145378466392, 0.3514115420309877, 0.03904572689233196, 0.07809145378466392, 0.03904572689233196, 0.30227831183330567, 0.15113915591665283, 0.09446197244790802, 0.05667718346874481, 0.07556957795832642, 0.09446197244790802, 0.05667718346874481, 0.05667718346874481, 0.07556957795832642, 0.018892394489581604, 0.26738833624511843, 0.13369416812255921, 0.08912944541503948, 0.04456472270751974, 0.08912944541503948, 0.08912944541503948, 0.17825889083007895, 0.04456472270751974, 0.04456472270751974, 0.29113471375438504, 0.07940037647846865, 0.10586716863795818, 0.07940037647846865, 0.13233396079744775, 0.07940037647846865, 0.05293358431897909, 0.05293358431897909, 0.05293358431897909, 0.10586716863795818, 0.12628177768343068, 0.06314088884171534, 0.12628177768343068, 0.31570444420857674, 0.06314088884171534, 0.12628177768343068, 0.12628177768343068, 0.06314088884171534, 0.1365205118556099, 0.193404058462114, 0.12514380253430907, 0.07963696524910577, 0.0910136745704066, 0.06826025592780495, 0.06826025592780495, 0.06826025592780495, 0.07963696524910577, 0.07963696524910577, 0.6510088023561957, 0.17293262123322176, 0.14822796105704722, 0.09881864070469815, 0.17293262123322176, 0.04940932035234907, 0.04940932035234907, 0.12352330088087268, 0.12352330088087268, 0.04940932035234907, 0.024704660176174537], \"Term\": [\" \", \" \", \" \", \" \", \" \", \" \", \" \", \" \", \" \", \" \", \"$\", \"$\", \"$\", \"$\", \"$\", \"$\", \"$\", \"$\", \"$\", \"$\", \"6b\", \"8:00am\", \"ACA\", \"ACCC\", \"AMWU\", \"AMWU\", \"APRA\", \"ASIC\", \"ASIC\", \"Abbott\", \"Action\", \"Administration\", \"Adolfo\", \"Adventure_World\", \"Adventure_World\", \"Adventure_World\", \"Adventure_World\", \"Adventure_World\", \"Adventure_World\", \"Afghanistan\", \"Afghanistan\", \"Afghanistan\", \"Afghanistan\", \"Afghanistan\", \"Afghanistan\", \"Afghanistan\", \"Afghanistan\", \"Afghanistan\", \"Afghanistan\", \"Afroz\", \"Afroz\", \"Afroz\", \"Arafat\", \"Arafat\", \"Arafat\", \"Arafat\", \"Arafat\", \"Arafat\", \"Arafat\", \"Arafat\", \"Arafat\", \"Arafat\", \"Archbishop\", \"Archbishop\", \"Archbishop\", \"Assa_Abloy\", \"Assa_Abloy\", \"Assa_Abloy\", \"Austar\", \"Austar\", \"Austar\", \"Australia\", \"Australia\", \"Australia\", \"Australia\", \"Australia\", \"Australia\", \"Australia\", \"Australia\", \"Australia\", \"Australia\", \"Australian\", \"Australian\", \"Australian\", \"Australian\", \"Australian\", \"Australian\", \"Australian\", \"Australian\", \"Australian\", \"Australian\", \"Belgium\", \"Belgium\", \"Blue_Mountains\", \"Blue_Mountains\", \"Blue_Mountains\", \"Blue_Mountains\", \"Boje\", \"Bourne\", \"Brisbane\", \"Brisbane\", \"Brisbane\", \"Brisbane\", \"Brisbane\", \"Britain\", \"Britain\", \"Britain\", \"Britain\", \"Britain\", \"Britain\", \"Britain\", \"Britain\", \"Bulli\", \"Burakin\", \"Burakin\", \"Bursch\", \"Butler\", \"Centenary\", \"Center\", \"Center\", \"Central\", \"Centrelink\", \"Chechen\", \"Civil\", \"Classic\", \"Coalition\", \"Coalition\", \"Coalition\", \"Coalition\", \"Coast\", \"Coast\", \"Coast\", \"Command\", \"Commissions\", \"Commonwealth\", \"Commonwealth\", \"Commonwealth\", \"Commonwealth\", \"Commonwealth\", \"Commonwealth\", \"Commonwealth\", \"Competition\", \"Consumer\", \"Consumers\", \"Crowe\", \"Crowe\", \"DFAT\", \"DFAT\", \"Dagestan\", \"Daka\", \"Dan\", \"Democratic\", \"Democrats\", \"Department\", \"Department\", \"Department\", \"Department\", \"Department\", \"Department\", \"Department\", \"Department\", \"Derwent\", \"Dixon\", \"Dixon\", \"Downer\", \"Downer\", \"Downer\", \"Downer\", \"Dr_Hollingworth\", \"Dr_Hollingworth\", \"Dr_Hollingworth\", \"Dr_Hollingworth\", \"East_Timor\", \"East_Timor\", \"East_Timor\", \"East_Timor\", \"East_Timor\", \"East_Timor\", \"East_Timor\", \"Endeavour\", \"Endeavour\", \"Endeavour\", \"Ernst\", \"Ethnic\", \"Federal\", \"Federal\", \"Federal\", \"Federal\", \"Federal\", \"Federal\", \"Federal\", \"Federal\", \"Federal\", \"Franklin\", \"Franks\", \"Freeman\", \"Gambier\", \"Gambier\", \"Gerber\", \"Gerber\", \"Gerber\", \"Ghulam\", \"Giuliani\", \"Giuliani\", \"Giuliani\", \"Glenn_McGrath\", \"Glenn_McGrath\", \"Glenn_McGrath\", \"Glenn_McGrath\", \"Glenn_McGrath\", \"Globe\", \"Government\", \"Government\", \"Government\", \"Government\", \"Government\", \"Government\", \"Government\", \"Government\", \"Government\", \"Government\", \"Governor\", \"Governor_General\", \"Governor_General\", \"Governor_General\", \"Governor_General\", \"Grand\", \"Greens\", \"Guard\", \"Gutnick\", \"HIH\", \"HIH\", \"HIH\", \"HIH\", \"HIH\", \"Hamas\", \"Hamas\", \"Hamas\", \"Hamas\", \"Hamas\", \"Hamas\", \"Hamas\", \"Hamas\", \"Hamas\", \"Hamas\", \"Hass\", \"Hassan\", \"Hazara\", \"Heritage\", \"Hewitt\", \"Hewitt\", \"Hewitt\", \"Hicks\", \"Hicks\", \"Hicks\", \"Hicks\", \"Hicks\", \"Highway\", \"Highway\", \"Highway\", \"Highway\", \"Hilton\", \"Hobart\", \"Honiara\", \"Honours\", \"Hotel\", \"Howard\", \"Howard\", \"Howard\", \"Howard\", \"Howard\", \"Howard\", \"Howard\", \"Hume\", \"Hume\", \"Iffam\", \"India\", \"India\", \"India\", \"India\", \"India\", \"India\", \"India\", \"Indian\", \"Indian\", \"Indian\", \"Indonesia\", \"Indonesia\", \"Indonesia\", \"Indonesia\", \"Indonesia\", \"Indonesia\", \"Interlaken\", \"Interlaken\", \"Interlaken\", \"Interlaken\", \"Iraq\", \"Islands\", \"Islands\", \"Islands\", \"Islands\", \"Islands\", \"Ismail\", \"Italian\", \"Jackson\", \"Japan\", \"Japan\", \"Japan\", \"Japan\", \"Jeff\", \"Jim\", \"Justice\", \"Justice\", \"Justice\", \"Justice\", \"Kandahar\", \"Kandahar\", \"Kandahar\", \"Kandahar\", \"Kandahar\", \"Kandahar\", \"Kandahar\", \"Kandahar\", \"Karzai\", \"Karzai\", \"Karzai\", \"Kashmir\", \"Kashmir\", \"Kashmiri\", \"Kashmiris\", \"Katherine\", \"Kerry\", \"Kissinger\", \"Kissinger\", \"Kissinger\", \"Kissinger\", \"Launceston\", \"Launceston\", \"Launceston\", \"Launceston\", \"Lee\", \"Lee\", \"Lee\", \"Lee\", \"Lee\", \"Lee\", \"Lew\", \"Lindsay\", \"Lindsay\", \"Lockett\", \"Lockett\", \"Lockett\", \"Lockett\", \"Los\", \"MJC\", \"MacGill\", \"MacGill\", \"MacGill\", \"Macfarlane\", \"McDonald\", \"McMenamin\", \"McMenamin\", \"Megawati\", \"Megawati\", \"Merit\", \"Ministerial\", \"Moulin\", \"Moulin\", \"Mt\", \"Mt\", \"Muttahida\", \"NASA\", \"Nelson\", \"Nelson\", \"Nettle\", \"New_South_Wales\", \"New_South_Wales\", \"New_South_Wales\", \"New_South_Wales\", \"New_South_Wales\", \"New_South_Wales\", \"New_South_Wales\", \"New_South_Wales\", \"New_Zealand\", \"New_Zealand\", \"New_Zealand\", \"New_Zealand\", \"New_Zealand\", \"New_Zealand\", \"New_Zealand\", \"Nicky\", \"Nicorette\", \"Northside\", \"Office\", \"Olivier\", \"Olivier\", \"Onufrienko\", \"Order\", \"Owen\", \"Owen\", \"Pacific\", \"Pacific\", \"Pacific\", \"Pacific\", \"Pakistan\", \"Pakistan\", \"Pakistan\", \"Pakistan\", \"Pakistan\", \"Pakistan\", \"Pakistan\", \"Pakistan\", \"Pakistan\", \"Pakistan\", \"Palos\", \"Pawlik\", \"Peru\", \"Picton\", \"Potts\", \"Qantas\", \"Qantas\", \"Qantas\", \"Qantas\", \"Qantas\", \"Qantas\", \"Qantas\", \"Qantas\", \"Qantas\", \"Queensland\", \"Queensland\", \"Queensland\", \"Queensland\", \"Queensland\", \"Queensland\", \"Queensland\", \"Queensland\", \"Queensland\", \"Raduyev\", \"Raffaello\", \"Razzak\", \"Refugee\", \"Reserve\", \"Reserve_Bank\", \"Reserve_Bank\", \"Reserve_Bank\", \"Reserve_Bank\", \"Rich\", \"Richter\", \"Richter\", \"Rings\", \"Road\", \"Road\", \"Road\", \"Rodriguez\", \"Romaszko\", \"Rouge\", \"Rouge\", \"Round\", \"Rudd\", \"Rudd\", \"Rudd\", \"S\", \"Saa\", \"Saa\", \"Safety\", \"Safety\", \"Safety\", \"Safety\", \"Salman\", \"Seles\", \"Seles\", \"Seles\", \"Seles\", \"Seles\", \"Senate\", \"Senator\", \"Senator_Hill\", \"Senator_Hill\", \"Senator_Hill\", \"Senator_Hill\", \"Sharon\", \"Sharon\", \"Sharon\", \"Sharon\", \"Sharon\", \"Sharon\", \"Sharon\", \"Sharon\", \"Sharon\", \"Sharon\", \"Sherrard\", \"Solomon\", \"Solomon\", \"Solomon\", \"Soorley\", \"Space\", \"Space\", \"Space\", \"Station\", \"Station\", \"Street\", \"Swedish\", \"Sydney\", \"Sydney\", \"Sydney\", \"Sydney\", \"Sydney\", \"Sydney\", \"Sydney\", \"Sydney\", \"Sydney\", \"Sydney\", \"Szondy\", \"Taliban\", \"Taliban\", \"Taliban\", \"Taliban\", \"Taliban\", \"Taliban\", \"Taliban\", \"Taliban\", \"Taliban\", \"Tel\", \"Templeton\", \"Tolkien\", \"Tora_Bora\", \"Tora_Bora\", \"Tora_Bora\", \"Tora_Bora\", \"Tora_Bora\", \"Tora_Bora\", \"Tora_Bora\", \"Tora_Bora\", \"Track\", \"Trans\", \"Treasurer\", \"Treasurer\", \"Treasurer\", \"Truss\", \"Truss\", \"U\", \"UTN\", \"UTN\", \"United_States\", \"United_States\", \"United_States\", \"United_States\", \"United_States\", \"United_States\", \"United_States\", \"United_States\", \"United_States\", \"United_States\", \"Vicki\", \"Virgin\", \"Virgin\", \"Virgin\", \"Walz\", \"Wolthuizen\", \"World\", \"World\", \"World\", \"World\", \"World\", \"World\", \"World\", \"World_Trade\", \"World_Trade\", \"Yallourn\", \"Yallourn\", \"Young\", \"Yuri\", \"Zimbabwe\", \"Zimbabwe\", \"Zimbabwe\", \"abuse\", \"abuse\", \"abuse\", \"abuse\", \"abuse\", \"abuse\", \"abuse\", \"abuse\", \"accelerate\", \"actress\", \"actress\", \"adhere\", \"advocate\", \"afghan\", \"afghan\", \"afghan\", \"afghan\", \"afghan\", \"afghan\", \"afghan\", \"afghan\", \"afghan\", \"afghan\", \"age\", \"age\", \"age\", \"age\", \"age\", \"aircraft\", \"aircraft\", \"aircraft\", \"aircraft\", \"aircraft\", \"aircraft\", \"aircraft\", \"aircraft\", \"alarm\", \"alarming\", \"alarming\", \"alarming\", \"alliance\", \"alternative\", \"amend\", \"anglican\", \"anglican\", \"apra\", \"arbitrate\", \"arbitrate\", \"area\", \"area\", \"area\", \"area\", \"area\", \"area\", \"area\", \"area\", \"area\", \"area\", \"argentine\", \"arrest\", \"arrest\", \"arrest\", \"arrest\", \"arrest\", \"arrest\", \"arrest\", \"arrest\", \"arrest\", \"arrest\", \"aside\", \"assume\", \"assumption\", \"astronaut\", \"astronaut\", \"asylum_seeker\", \"asylum_seeker\", \"asylum_seeker\", \"asylum_seeker\", \"asylum_seeker\", \"asylum_seeker\", \"asylum_seeker\", \"asylum_seeker\", \"attack\", \"attack\", \"attack\", \"attack\", \"attack\", \"attack\", \"attack\", \"attack\", \"attack\", \"attack\", \"attention\", \"auditor\", \"australian\", \"australian\", \"australian\", \"australian\", \"australian\", \"australian\", \"australian\", \"australian\", \"australian\", \"australian\", \"ballot\", \"ballot\", \"ballot\", \"ballot\", \"baseless\", \"believe\", \"believe\", \"believe\", \"believe\", \"believe\", \"believe\", \"believe\", \"believe\", \"believe\", \"believe\", \"billion\", \"bin_Laden\", \"bin_Laden\", \"bin_Laden\", \"bin_Laden\", \"bin_Laden\", \"bin_Laden\", \"bin_Laden\", \"bin_Laden\", \"bin_Laden\", \"bin_Laden\", \"bishop\", \"bitter\", \"boat\", \"boat\", \"boat\", \"boat\", \"boat\", \"boat\", \"box\", \"break\", \"break\", \"break\", \"break\", \"break\", \"break\", \"break\", \"break\", \"break\", \"break\", \"building\", \"building\", \"building\", \"building\", \"building\", \"building\", \"building\", \"building\", \"building\", \"building\", \"bully\", \"burning\", \"burning\", \"call\", \"call\", \"call\", \"call\", \"call\", \"call\", \"call\", \"call\", \"call\", \"call\", \"campaigner\", \"capture\", \"capture\", \"capture\", \"capture\", \"capture\", \"capture\", \"capture\", \"capture\", \"car\", \"car\", \"car\", \"car\", \"car\", \"car\", \"car\", \"car\", \"card\", \"card\", \"career\", \"career\", \"career\", \"cargo\", \"cash\", \"cash\", \"casino\", \"casino\", \"catholic\", \"cent\", \"cent\", \"cent\", \"cent\", \"cent\", \"cent\", \"cent\", \"cent\", \"cent\", \"cent\", \"chain\", \"change\", \"change\", \"change\", \"change\", \"change\", \"change\", \"change\", \"change\", \"change\", \"change\", \"chemical\", \"child\", \"child\", \"child\", \"child\", \"child\", \"child\", \"child\", \"child\", \"child\", \"child\", \"child_sex\", \"child_sex\", \"child_sex\", \"child_sex\", \"circulate\", \"claim\", \"claim\", \"claim\", \"claim\", \"claim\", \"claim\", \"claim\", \"claim\", \"claim\", \"claim\", \"club\", \"club\", \"club\", \"club\", \"collapse\", \"collapse\", \"collapse\", \"collapse\", \"collapse\", \"collapse\", \"collapse\", \"collapse\", \"collapse\", \"collapse\", \"come\", \"come\", \"come\", \"come\", \"come\", \"come\", \"come\", \"come\", \"come\", \"come\", \"commission\", \"commission\", \"commission\", \"commission\", \"commission\", \"commission\", \"commission\", \"commission\", \"commissioner\", \"companion\", \"company\", \"company\", \"company\", \"company\", \"company\", \"company\", \"company\", \"company\", \"company\", \"company\", \"concede\", \"confidential\", \"contaminated\", \"content\", \"continue\", \"continue\", \"continue\", \"continue\", \"continue\", \"continue\", \"continue\", \"continue\", \"continue\", \"continue\", \"copy\", \"copy\", \"coroner\", \"cosmonaut\", \"cost\", \"cost\", \"cost\", \"cost\", \"cost\", \"cost\", \"cost\", \"cost\", \"count\", \"count\", \"count\", \"counting\", \"country\", \"country\", \"country\", \"country\", \"country\", \"country\", \"country\", \"country\", \"court\", \"court\", \"court\", \"court\", \"court\", \"court\", \"court\", \"court\", \"court\", \"court\", \"cow\", \"credit\", \"credit\", \"cut\", \"cut\", \"cut\", \"cut\", \"cut\", \"cut\", \"cut\", \"cut\", \"cycle\", \"daily\", \"daily\", \"dairy\", \"damage\", \"damage\", \"damage\", \"damage\", \"damage\", \"damage\", \"damage\", \"damage\", \"damage\", \"damage\", \"datum\", \"datum\", \"datum\", \"day\", \"day\", \"day\", \"day\", \"day\", \"day\", \"day\", \"day\", \"day\", \"day\", \"defector\", \"defunctoperator\", \"dependent\", \"dependent\", \"dependent\", \"dependent\", \"detailed\", \"disclose\", \"discover\", \"discrepancy\", \"disease\", \"disease\", \"disease\", \"disease\", \"disease\", \"disease\", \"disintegration\", \"distinctive\", \"dock\", \"docking\", \"doctor\", \"doctor\", \"doctor\", \"dump\", \"early\", \"early\", \"early\", \"early\", \"early\", \"early\", \"early\", \"early\", \"early\", \"early\", \"earn\", \"earn\", \"earn\", \"earn\", \"earth\", \"earthquake\", \"earthquake\", \"economic\", \"economic\", \"economic\", \"economic\", \"economic\", \"economic\", \"economic\", \"economic\", \"economy\", \"economy\", \"economy\", \"economy\", \"economy\", \"economy\", \"economy\", \"economy\", \"elder\", \"elder\", \"elder\", \"elder\", \"end\", \"end\", \"end\", \"end\", \"end\", \"end\", \"end\", \"end\", \"end\", \"end\", \"engine\", \"engine\", \"escalate\", \"escalate\", \"escalate\", \"escalate\", \"escalate\", \"especially\", \"event\", \"event\", \"event\", \"event\", \"event\", \"event\", \"event\", \"event\", \"experiment\", \"explanation\", \"explanation\", \"explosion\", \"extreme\", \"farmer\", \"farmer\", \"farmer\", \"feel\", \"feel\", \"feel\", \"feel\", \"feel\", \"financially\", \"find\", \"find\", \"find\", \"find\", \"find\", \"find\", \"find\", \"find\", \"find\", \"find\", \"fire\", \"fire\", \"fire\", \"fire\", \"fire\", \"fire\", \"fire\", \"fire\", \"fire\", \"fire\", \"firefighter\", \"firefighter\", \"firefighter\", \"firefighter\", \"firefighter\", \"firefighter\", \"firefighter\", \"fit\", \"follow\", \"follow\", \"follow\", \"follow\", \"follow\", \"follow\", \"follow\", \"follow\", \"follow\", \"follow\", \"force\", \"force\", \"force\", \"force\", \"force\", \"force\", \"force\", \"force\", \"force\", \"force\", \"forest\", \"forest\", \"forest\", \"form\", \"form\", \"form\", \"form\", \"form\", \"form\", \"form\", \"gambling\", \"gaming\", \"genetically\", \"get\", \"get\", \"get\", \"get\", \"get\", \"get\", \"get\", \"get\", \"get\", \"get\", \"giant\", \"giant\", \"giant\", \"give\", \"give\", \"give\", \"give\", \"give\", \"give\", \"give\", \"give\", \"give\", \"give\", \"glass\", \"go\", \"go\", \"go\", \"go\", \"go\", \"go\", \"go\", \"go\", \"go\", \"go\", \"good\", \"good\", \"good\", \"good\", \"good\", \"good\", \"good\", \"good\", \"good\", \"good\", \"government\", \"government\", \"government\", \"government\", \"government\", \"government\", \"government\", \"government\", \"government\", \"government\", \"group\", \"group\", \"group\", \"group\", \"group\", \"group\", \"group\", \"group\", \"group\", \"group\", \"growth\", \"growth\", \"growth\", \"growth\", \"growth\", \"growth\", \"growth\", \"guide\", \"guide\", \"guide\", \"guide\", \"guide\", \"guide\", \"guide\", \"guide\", \"health\", \"health\", \"health\", \"health\", \"health\", \"health\", \"health\", \"health\", \"hear\", \"hear\", \"hear\", \"hear\", \"hear\", \"hear\", \"hear\", \"hear\", \"hear\", \"home\", \"home\", \"home\", \"home\", \"home\", \"home\", \"home\", \"home\", \"home\", \"hostage\", \"hour\", \"hour\", \"hour\", \"hour\", \"hour\", \"hour\", \"hour\", \"hour\", \"hour\", \"hour\", \"inauguration\", \"incinerate\", \"include\", \"include\", \"include\", \"include\", \"include\", \"include\", \"include\", \"include\", \"include\", \"include\", \"incumbent\", \"indian\", \"indian\", \"indian\", \"indian\", \"indian\", \"indian\", \"indian\", \"indian\", \"industrial_action\", \"industrial_action\", \"industrial_action\", \"industrial_action\", \"industrial_action\", \"inexperienced\", \"injure\", \"injure\", \"injure\", \"injure\", \"injure\", \"injure\", \"injure\", \"injure\", \"injure\", \"injure\", \"installation\", \"insurance\", \"insurance\", \"insurance\", \"insurance\", \"insurance\", \"intelligence\", \"intelligence\", \"intelligence\", \"interest_rate\", \"interest_rate\", \"interest_rate\", \"international\", \"international\", \"international\", \"international\", \"international\", \"international\", \"international\", \"international\", \"international\", \"international\", \"interview\", \"interview\", \"interview\", \"interview\", \"israeli\", \"israeli\", \"israeli\", \"israeli\", \"israeli\", \"israeli\", \"israeli\", \"israeli\", \"israeli\", \"israeli\", \"issue\", \"issue\", \"issue\", \"issue\", \"issue\", \"issue\", \"issue\", \"issue\", \"issue\", \"issue\", \"job\", \"job\", \"job\", \"job\", \"job\", \"job\", \"job\", \"job\", \"job\", \"judgment\", \"keen\", \"kill\", \"kill\", \"kill\", \"kill\", \"kill\", \"kill\", \"kill\", \"kill\", \"kill\", \"kill\", \"knighthood\", \"know\", \"know\", \"know\", \"know\", \"know\", \"know\", \"know\", \"know\", \"know\", \"know\", \"knowledge\", \"knowledge\", \"known\", \"launch\", \"launch\", \"launch\", \"launch\", \"launch\", \"launch\", \"launch\", \"launch\", \"launch\", \"lead\", \"lead\", \"lead\", \"lead\", \"lead\", \"lead\", \"lead\", \"lead\", \"lead\", \"lead\", \"leader\", \"leader\", \"leader\", \"leader\", \"leader\", \"leader\", \"leader\", \"leader\", \"leader\", \"leader\", \"leak\", \"leak\", \"leak\", \"leak\", \"lean\", \"leave\", \"leave\", \"leave\", \"leave\", \"leave\", \"leave\", \"leave\", \"leave\", \"leave\", \"leave\", \"level\", \"level\", \"level\", \"level\", \"level\", \"level\", \"level\", \"level\", \"level\", \"line\", \"line\", \"line\", \"line\", \"line\", \"line\", \"line\", \"line\", \"livelihood\", \"long\", \"long\", \"long\", \"long\", \"long\", \"long\", \"long\", \"long\", \"long\", \"long\", \"look\", \"look\", \"look\", \"look\", \"look\", \"look\", \"look\", \"look\", \"look\", \"look\", \"lot\", \"lot\", \"lot\", \"lot\", \"lot\", \"lot\", \"lot\", \"lot\", \"lung_cancer\", \"lung_cancer\", \"mad\", \"majority\", \"majority\", \"majority\", \"malaysian\", \"male\", \"male\", \"man\", \"man\", \"man\", \"man\", \"man\", \"man\", \"man\", \"man\", \"man\", \"man\", \"managing\", \"match\", \"match\", \"match\", \"match\", \"match\", \"match\", \"match\", \"match\", \"match\", \"measure\", \"measure\", \"measure\", \"measure\", \"measure\", \"measure\", \"measure\", \"measure\", \"measure\", \"meat\", \"meeting\", \"meeting\", \"meeting\", \"meeting\", \"meeting\", \"meeting\", \"meeting\", \"meeting\", \"meeting\", \"meeting\", \"member\", \"member\", \"member\", \"member\", \"member\", \"member\", \"member\", \"member\", \"member\", \"member\", \"metre\", \"metre\", \"metre\", \"metre\", \"metre\", \"metre\", \"metre\", \"metre\", \"metre\", \"metre\", \"metre_butterfly\", \"metre_butterfly\", \"metre_butterfly\", \"metre_butterfly\", \"mid\", \"mid\", \"mid\", \"midwife\", \"midwife\", \"midwife\", \"militant\", \"militant\", \"militant\", \"militant\", \"militant\", \"militant\", \"militant\", \"militant\", \"militant\", \"militant\", \"military\", \"military\", \"military\", \"military\", \"military\", \"military\", \"military\", \"military\", \"military\", \"military\", \"ministerial\", \"mislead\", \"module\", \"month\", \"month\", \"month\", \"month\", \"month\", \"month\", \"month\", \"month\", \"month\", \"month\", \"morning\", \"morning\", \"morning\", \"morning\", \"morning\", \"morning\", \"morning\", \"morning\", \"morning\", \"morning\", \"motive\", \"motorist\", \"musical\", \"musical\", \"new\", \"new\", \"new\", \"new\", \"new\", \"new\", \"new\", \"new\", \"new\", \"new\", \"night\", \"night\", \"night\", \"night\", \"night\", \"night\", \"night\", \"night\", \"night\", \"night\", \"nomination\", \"nomination\", \"north\", \"north\", \"north\", \"north\", \"north\", \"north\", \"north\", \"north\", \"north\", \"north\", \"nuclear\", \"nuclear\", \"nuclear\", \"nuclear\", \"number\", \"number\", \"number\", \"number\", \"number\", \"number\", \"number\", \"number\", \"number\", \"number\", \"offence\", \"offence\", \"offer\", \"offer\", \"offer\", \"offer\", \"offer\", \"offer\", \"offer\", \"offer\", \"offer\", \"official\", \"official\", \"official\", \"official\", \"official\", \"official\", \"official\", \"official\", \"official\", \"official\", \"open\", \"open\", \"open\", \"open\", \"open\", \"open\", \"open\", \"open\", \"open\", \"opportunity\", \"opportunity\", \"opporunity\", \"organ\", \"outbreak\", \"paedophile\", \"paedophile\", \"palestinian\", \"palestinian\", \"palestinian\", \"palestinian\", \"palestinian\", \"palestinian\", \"palestinian\", \"palestinian\", \"palestinian\", \"palestinian\", \"palestinian_official\", \"palestinian_official\", \"palestinian_official\", \"palestinian_official\", \"palestinian_official\", \"palestinian_official\", \"particularly\", \"particularly\", \"pay\", \"pay\", \"pay\", \"pay\", \"pay\", \"pay\", \"pay\", \"pay\", \"pay\", \"pay\", \"pension\", \"people\", \"people\", \"people\", \"people\", \"people\", \"people\", \"people\", \"people\", \"people\", \"people\", \"personally\", \"pesos\", \"petrol\", \"petrol\", \"pickup\", \"pickup\", \"place\", \"place\", \"place\", \"place\", \"place\", \"place\", \"place\", \"place\", \"place\", \"place\", \"police\", \"police\", \"police\", \"police\", \"police\", \"police\", \"police\", \"police\", \"police\", \"police\", \"population\", \"population\", \"population\", \"population\", \"population\", \"population\", \"possible\", \"possible\", \"possible\", \"possible\", \"possible\", \"possible\", \"possible\", \"possible\", \"possible\", \"possible\", \"power\", \"power\", \"power\", \"power\", \"power\", \"power\", \"power\", \"power\", \"power\", \"power\", \"predict\", \"predict\", \"predict\", \"predict\", \"private\", \"private\", \"private\", \"private\", \"product\", \"product\", \"product\", \"proper\", \"prostitute\", \"provision\", \"provisional_liquidation\", \"provisional_liquidation\", \"provisional_liquidation\", \"provisional_liquidation\", \"quake\", \"quake\", \"quarrel\", \"quarter\", \"quarter\", \"quarter\", \"quarter\", \"quarter\", \"quarter\", \"race\", \"race\", \"race\", \"race\", \"race\", \"race\", \"race\", \"race\", \"race\", \"race\", \"raft\", \"raft\", \"rate\", \"rate\", \"rate\", \"rate\", \"rate\", \"rate\", \"rate\", \"rate\", \"rate\", \"razor\", \"razor\", \"receive\", \"receive\", \"receive\", \"receive\", \"receive\", \"receive\", \"receive\", \"receive\", \"receive\", \"receive\", \"recession\", \"recession\", \"recession\", \"recession\", \"recession\", \"recession\", \"recession\", \"recovery\", \"recovery\", \"recovery\", \"recovery\", \"recovery\", \"rectify\", \"refugee\", \"refugee\", \"refugee\", \"refugee\", \"regulate\", \"reject\", \"reject\", \"reject\", \"reject\", \"reject\", \"reject\", \"reject\", \"reject\", \"remain\", \"remain\", \"remain\", \"remain\", \"remain\", \"remain\", \"remain\", \"remain\", \"remain\", \"remain\", \"report\", \"report\", \"report\", \"report\", \"report\", \"report\", \"report\", \"report\", \"report\", \"report\", \"republic\", \"republic\", \"republic\", \"retain\", \"retiree\", \"return\", \"return\", \"return\", \"return\", \"return\", \"return\", \"return\", \"return\", \"return\", \"return\", \"reward\", \"rfds\", \"ridiculous\", \"rise\", \"rise\", \"rise\", \"rise\", \"rise\", \"rise\", \"rise\", \"rise\", \"rise\", \"route\", \"route\", \"route\", \"route\", \"royal\", \"royal_commission\", \"royal_commission\", \"royal_commission\", \"royal_commission\", \"royal_commission\", \"royal_commission\", \"russian\", \"russian\", \"russian\", \"russian\", \"sand\", \"scientific\", \"sector\", \"sector\", \"sector\", \"security\", \"security\", \"security\", \"security\", \"security\", \"security\", \"security\", \"security\", \"security\", \"security\", \"selector\", \"selector\", \"set\", \"set\", \"set\", \"set\", \"set\", \"set\", \"set\", \"set\", \"set\", \"set\", \"shake\", \"shake\", \"shepherd\", \"shrink\", \"shuttle\", \"shuttle\", \"skipper\", \"skipper\", \"skipper\", \"skipper\", \"slowly\", \"slump\", \"slump\", \"smuggle\", \"soft\", \"soft\", \"soft\", \"solvency\", \"solvently\", \"space\", \"space\", \"space\", \"spectator\", \"spill\", \"spill\", \"spokesman\", \"spokesman\", \"spokesman\", \"spokesman\", \"spokesman\", \"spokesman\", \"spokesman\", \"spokesman\", \"spokesman\", \"spokesman\", \"staff\", \"staff\", \"staff\", \"staff\", \"staff\", \"staff\", \"staff\", \"staff\", \"staff\", \"staff\", \"start\", \"start\", \"start\", \"start\", \"start\", \"start\", \"start\", \"start\", \"start\", \"start\", \"statement\", \"statement\", \"statement\", \"statement\", \"statement\", \"statement\", \"statement\", \"statement\", \"statement\", \"station\", \"station\", \"station\", \"station\", \"station\", \"station\", \"station\", \"station\", \"steal\", \"storm\", \"storm\", \"storm\", \"storm\", \"storm\", \"storm\", \"storm\", \"strict\", \"strong\", \"strong\", \"strong\", \"strong\", \"strong\", \"strong\", \"strong\", \"strong\", \"strong\", \"subsidiary\", \"summit\", \"summit\", \"summit\", \"surrender\", \"surrender\", \"surrender\", \"surrender\", \"surrender\", \"surrender\", \"survey\", \"survey\", \"survey\", \"suspension\", \"suspension\", \"swedish\", \"take\", \"take\", \"take\", \"take\", \"take\", \"take\", \"take\", \"take\", \"take\", \"take\", \"tampering\", \"taxpayer\", \"taxpayer\", \"tell\", \"tell\", \"tell\", \"tell\", \"tell\", \"tell\", \"tell\", \"tell\", \"tell\", \"tell\", \"terrorism\", \"terrorism\", \"terrorism\", \"terrorism\", \"terrorism\", \"terrorism\", \"terrorism\", \"terrorism\", \"terrorism\", \"terrorism\", \"test\", \"test\", \"test\", \"test\", \"test\", \"test\", \"test\", \"test\", \"think\", \"think\", \"think\", \"think\", \"think\", \"think\", \"think\", \"think\", \"think\", \"think\", \"ticket\", \"time\", \"time\", \"time\", \"time\", \"time\", \"time\", \"time\", \"time\", \"time\", \"time\", \"tomorrow\", \"tomorrow\", \"tomorrow\", \"tomorrow\", \"tomorrow\", \"tomorrow\", \"tomorrow\", \"tomorrow\", \"tonne\", \"tradition\", \"try\", \"try\", \"try\", \"try\", \"try\", \"try\", \"try\", \"try\", \"try\", \"try\", \"typhoid\", \"unanswered\", \"undercover\", \"union\", \"union\", \"union\", \"union\", \"union\", \"union\", \"union\", \"union\", \"union\", \"unresolved\", \"unsustainable\", \"us1,000\", \"vicinity\", \"violent\", \"violent\", \"virus\", \"virus\", \"virus\", \"virus\", \"voluntary\", \"wall\", \"wall\", \"want\", \"want\", \"want\", \"want\", \"want\", \"want\", \"want\", \"want\", \"want\", \"want\", \"war\", \"war\", \"war\", \"war\", \"war\", \"war\", \"war\", \"war\", \"war\", \"war\", \"wash\", \"water\", \"water\", \"water\", \"water\", \"water\", \"water\", \"water\", \"water\", \"water\", \"week\", \"week\", \"week\", \"week\", \"week\", \"week\", \"week\", \"week\", \"week\", \"week\", \"well\", \"well\", \"well\", \"well\", \"well\", \"well\", \"well\", \"well\", \"well\", \"well\", \"wicket\", \"wicket\", \"wicket\", \"wicket\", \"wicket\", \"wicket\", \"wicket\", \"win\", \"win\", \"win\", \"win\", \"win\", \"win\", \"win\", \"win\", \"win\", \"win\", \"wind\", \"wind\", \"wind\", \"wind\", \"wind\", \"wind\", \"wind\", \"wind\", \"work\", \"work\", \"work\", \"work\", \"work\", \"work\", \"work\", \"work\", \"work\", \"work\", \"worker\", \"worker\", \"worker\", \"worker\", \"worker\", \"worker\", \"worker\", \"worker\", \"worker\", \"world\", \"world\", \"world\", \"world\", \"world\", \"world\", \"world\", \"world\", \"world\", \"world\", \"yacht\", \"yacht\", \"yacht\", \"yacht\", \"yacht\", \"yacht\", \"yacht\", \"yacht\", \"year\", \"year\", \"year\", \"year\", \"year\", \"year\", \"year\", \"year\", \"year\", \"year\", \"yemeni\", \"yesterday\", \"yesterday\", \"yesterday\", \"yesterday\", \"yesterday\", \"yesterday\", \"yesterday\", \"yesterday\", \"yesterday\", \"yesterday\"]}, \"R\": 30, \"lambda.step\": 0.01, \"plot.opts\": {\"xlab\": \"PC1\", \"ylab\": \"PC2\"}, \"topic.order\": [4, 5, 7, 9, 2, 1, 10, 6, 8, 3]};\n",
       "\n",
       "function LDAvis_load_lib(url, callback){\n",
       "  var s = document.createElement('script');\n",
       "  s.src = url;\n",
       "  s.async = true;\n",
       "  s.onreadystatechange = s.onload = callback;\n",
       "  s.onerror = function(){console.warn(\"failed to load library \" + url);};\n",
       "  document.getElementsByTagName(\"head\")[0].appendChild(s);\n",
       "}\n",
       "\n",
       "if(typeof(LDAvis) !== \"undefined\"){\n",
       "   // already loaded: just create the visualization\n",
       "   !function(LDAvis){\n",
       "       new LDAvis(\"#\" + \"ldavis_el852825234200406563826409345\", ldavis_el852825234200406563826409345_data);\n",
       "   }(LDAvis);\n",
       "}else if(typeof define === \"function\" && define.amd){\n",
       "   // require.js is available: use it to load d3/LDAvis\n",
       "   require.config({paths: {d3: \"https://d3js.org/d3.v5\"}});\n",
       "   require([\"d3\"], function(d3){\n",
       "      window.d3 = d3;\n",
       "      LDAvis_load_lib(\"https://cdn.jsdelivr.net/gh/bmabey/pyLDAvis@3.4.0/pyLDAvis/js/ldavis.v3.0.0.js\", function(){\n",
       "        new LDAvis(\"#\" + \"ldavis_el852825234200406563826409345\", ldavis_el852825234200406563826409345_data);\n",
       "      });\n",
       "    });\n",
       "}else{\n",
       "    // require.js not available: dynamically load d3 & LDAvis\n",
       "    LDAvis_load_lib(\"https://d3js.org/d3.v5.js\", function(){\n",
       "         LDAvis_load_lib(\"https://cdn.jsdelivr.net/gh/bmabey/pyLDAvis@3.4.0/pyLDAvis/js/ldavis.v3.0.0.js\", function(){\n",
       "                 new LDAvis(\"#\" + \"ldavis_el852825234200406563826409345\", ldavis_el852825234200406563826409345_data);\n",
       "            })\n",
       "         });\n",
       "}\n",
       "</script>"
      ],
      "text/plain": [
       "PreparedData(topic_coordinates=              x         y  topics  cluster       Freq\n",
       "topic                                                \n",
       "3     -0.009023 -0.014854       1        1  22.884820\n",
       "4      0.013389  0.037197       2        1  12.622928\n",
       "6     -0.030607  0.017302       3        1  12.433043\n",
       "8      0.012408 -0.035491       4        1  10.255494\n",
       "1      0.053495 -0.033343       5        1  10.153637\n",
       "0      0.024242 -0.009929       6        1   8.672084\n",
       "9     -0.036741 -0.027622       7        1   7.204610\n",
       "5     -0.043321 -0.010910       8        1   6.020906\n",
       "7      0.024440  0.046388       9        1   6.003981\n",
       "2     -0.008283  0.031262      10        1   3.748498, topic_info=             Term       Freq       Total Category  logprob  loglift\n",
       "196          year  87.000000   87.000000  Default  30.0000  30.0000\n",
       "880        report  67.000000   67.000000  Default  29.0000  29.0000\n",
       "834       israeli  79.000000   79.000000  Default  28.0000  28.0000\n",
       "2133      economy  19.000000   19.000000  Default  27.0000  27.0000\n",
       "306   Afghanistan  67.000000   67.000000  Default  26.0000  26.0000\n",
       "...           ...        ...         ...      ...      ...      ...\n",
       "80         people   2.256917  116.019536  Topic10  -6.1564  -0.6559\n",
       "194          time   2.004098   64.742383  Topic10  -6.2752  -0.1914\n",
       "315    Government   1.964158   65.523591  Topic10  -6.2954  -0.2235\n",
       "75            new   1.937776   67.495451  Topic10  -6.3089  -0.2667\n",
       "57          force   1.939237   91.078267  Topic10  -6.3081  -0.5656\n",
       "\n",
       "[807 rows x 6 columns], token_table=      Topic      Freq       Term\n",
       "term                            \n",
       "633       1  0.216439           \n",
       "633       2  0.108219           \n",
       "633       3  0.173151           \n",
       "633       4  0.086576           \n",
       "633       5  0.064932           \n",
       "...     ...       ...        ...\n",
       "174       6  0.049409  yesterday\n",
       "174       7  0.123523  yesterday\n",
       "174       8  0.123523  yesterday\n",
       "174       9  0.049409  yesterday\n",
       "174      10  0.024705  yesterday\n",
       "\n",
       "[2259 rows x 3 columns], R=30, lambda_step=0.01, plot_opts={'xlab': 'PC1', 'ylab': 'PC2'}, topic_order=[4, 5, 7, 9, 2, 1, 10, 6, 8, 3])"
      ]
     },
     "execution_count": 22,
     "metadata": {},
     "output_type": "execute_result"
    }
   ],
   "source": [
    "# Visualizing Topic Modeling Results\n",
    "\n",
    "import pyLDAvis\n",
    "import pyLDAvis.gensim_models\n",
    "\n",
    "pyLDAvis.enable_notebook()\n",
    "pyLDAvis.gensim_models.prepare(lda_model, corpus, dictionary)"
   ]
  },
  {
   "cell_type": "markdown",
   "metadata": {},
   "source": [
    "### Interpreting the Visualization\n",
    "\n",
    "The pyLDAvis visualization consists of two main parts:\n",
    "\n",
    "**Left panel**: A global view of the topic model\n",
    "\n",
    "- Circles represent topics\n",
    "- Size of circles represents the prevalence of topics\n",
    "- Distance between circles represents the similarity between topics\n",
    "\n",
    "**Right panel**: A detailed view of selected topic\n",
    "\n",
    "- Bar chart shows the most relevant terms for the selected topic\n",
    "- You can adjust the λ (lambda) value to change the relevance metric\n",
    "\n",
    "### Key aspects to explore:\n",
    "\n",
    "- **Topic prevalence**: Look at the size of the circles to understand which topics are most common in your corpus.\n",
    "- **Topic similarity**: Closely positioned circles indicate similar topics.\n",
    "- **Term relevance**: Examine the most relevant terms for each topic to understand its theme.\n",
    "- **Intertopic distances**: The 2D projection helps visualize how topics relate to each other.Links:\n",
    "\n",
    "By using pyLDAvis, we can gain deeper insights into our topic model, understand the relationships between topics, and effectively communicate the results to others. This visualization complements the numerical outputs we saw earlier, providing a more intuitive understanding of the topics present in our corpus.\n"
   ]
  },
  {
   "cell_type": "markdown",
   "metadata": {},
   "source": [
    "### Key takeaways from this journey include:\n",
    "\n",
    "- The importance of thorough text preprocessing using spaCy’s advanced NLP capabilities.\n",
    "- The versatility of Gensim in implementing various topic modeling algorithms like LSI, HDP, and LDA.\n",
    "- The interpretability gains from visualizing topic models with pyLDAvis.\n"
   ]
  },
  {
   "cell_type": "markdown",
   "metadata": {},
   "source": [
    "## Interpreting results from topic modeling using LLMs\n",
    "\n",
    "The topics returned are just words, but what do they mean? Let’s use a language model to interpret the topics.\n"
   ]
  },
  {
   "cell_type": "code",
   "execution_count": 52,
   "metadata": {},
   "outputs": [
    {
     "name": "stdout",
     "output_type": "stream",
     "text": [
      "['israeli', 'force', 'people', 'fire', 'go', 'Australia', 'area', 'give', 'time', 'report']\n",
      "['day', 'area', 'new', 'official', 'attack', 'wind', 'fire', 'firefighter', 'Sydney', 'year']\n",
      "['year', 'Arafat', 'world', 'economy', 'tell', 'Australia', 'end', 'good', 'set', 'israeli']\n",
      "['Australia', 'people', 'man', 'day', 'force', 'think', 'Afghanistan', 'United_States', 'attack', 'report']\n",
      "['group', 'israeli', 'year', 'come', 'attack', 'arrest', 'palestinian', 'know', 'believe', 'call']\n",
      "['report', 'company', 'people', 'year', 'good', 'fire', 'HIH', 'boat', 'early', 'continue']\n",
      "['tell', 'think', 'force', 'Taliban', 'people', 'year', 'day', 'metre', 'child', 'kill']\n",
      "['year', 'israeli', 'people', 'attack', 'day', 'month', 'new', 'force', 'launch', 'meeting']\n",
      "['Australia', 'Government', 'kill', 'official', 'australian', 'day', 'israeli', 'attack', 'force', 'people']\n",
      "['Afghanistan', 'day', 'force', 'Pakistan', 'Australia', 'union', 'claim', 'company', 'take', 'year']\n"
     ]
    }
   ],
   "source": [
    "# Get the top words for a specific topic\n",
    "for topic_id in range(10):\n",
    "  top_words = lda_model.show_topic(topic_id, topn=10)  # Get the top 10 words\n",
    "  words = [word for word, _ in top_words]\n",
    "  print(words)"
   ]
  },
  {
   "cell_type": "code",
   "execution_count": 78,
   "metadata": {},
   "outputs": [
    {
     "name": "stdout",
     "output_type": "stream",
     "text": [
      "Document Id: 0\n",
      "Topics in Document 0:\n",
      "[(1, 0.27983212), (4, 0.7144448)]\n",
      "\n",
      "Top 10 words for each topic:\n",
      "Topic 1: ['day', 'area', 'new', 'official', 'attack', 'wind', 'fire', 'firefighter', 'Sydney', 'year']\n",
      "Topic 4: ['group', 'israeli', 'year', 'come', 'attack', 'arrest', 'palestinian', 'know', 'believe', 'call']\n",
      "\n",
      "Words in Document 0:\n",
      "['4:00pm', 'AEDT', 'Blue_Mountains', 'Bureau', 'Claire', 'Cranebrook', 'Eve', 'Goulburn', 'Gunning', 'Highlands', 'Highway', 'Hill', 'Hume', 'Hunter', 'Illawarra', 'Meteorology', 'Mittagong', 'New', 'New_South_Wales', 'Richards', 'Rural_Fire_Service', 'Southern', 'Sydney', 'Valley', 'Year', 'area', 'associate', 'authority', 'available', 'blaze', 'burn', 'bushfire', 'call', 'cause', 'cell', 'close', 'closure', 'coast', 'concern', 'crew', 'decision', 'defend', 'detail', 'deterioration', 'direction', 'ease', 'east', 'effort', 'estimated', 'evacuate', 'fact', 'fall', 'far', 'finger', 'fire', 'fire_burn', 'firefighter', 'force', 'formation', 'generally', 'gust', 'hamper', 'highland', 'home', 'huge', 'hundred', 'isolated', 'leave', 'little', 'long', 'mark', 'millimetre', 'move', 'near', 'nearby', 'new', 'north', 'optimistic', 'outlying', 'part', 'people', 'place', 'probably', 'property', 'push', 'rain', 'relief', 'resident', 'significant', 'south', 'south_west', 'southern', 'stage', 'state', 'storm', 'street', 'strong', 'threaten', 'thunderstorm', 'town', 'unit', 'vacate', 'weather', 'weather_condition', 'west', 'wind']\n"
     ]
    }
   ],
   "source": [
    "print(\"Document Id: 0\")\n",
    "print(\"Topics in Document 0:\")\n",
    "doc_id = 0\n",
    "doc_topics = lda_model.get_document_topics(corpus[doc_id])\n",
    "print(doc_topics)\n",
    "\n",
    "# convert the corpus from word id to word\n",
    "vocab = {k: v for k, v in dictionary.items()}\n",
    "\n",
    "doc_words = corpus[doc_id]\n",
    "doc_words = [vocab[id] for id, _ in doc_words]\n",
    "\n",
    "# get top 10 words for each doc_topics\n",
    "def get_top_words(topic_id, words_length=10):\n",
    "  return [word for word, _ in lda_model.show_topic(topic_id, topn=words_length)]\n",
    "\n",
    "print(\"\\nTop 10 words for each topic:\")\n",
    "for topic_id, topic_words in doc_topics:\n",
    "  print(f\"Topic {topic_id}: {get_top_words(topic_id)}\")\n",
    "\n",
    "print(\"\\nWords in Document 0:\")\n",
    "print(doc_words)"
   ]
  },
  {
   "cell_type": "markdown",
   "metadata": {},
   "source": [
    "## Using openai gpt-4o mini model to interpret topic modeling results\n",
    "\n",
    "The promompt used to generate the results is:\n",
    "\n",
    "```\n",
    "Document Id: 0\n",
    "Topics in Document 0:\n",
    "[(1, 0.27983212), (4, 0.7144448)]\n",
    "\n",
    "Top 10 words for each topic:\n",
    "Topic 1: ['day', 'area', 'new', 'official', 'attack', 'wind', 'fire', 'firefighter', 'Sydney', 'year']\n",
    "Topic 4: ['group', 'israeli', 'year', 'come', 'attack', 'arrest', 'palestinian', 'know', 'believe', 'call']\n",
    "\n",
    "Words in Document 0:\n",
    "['4:00pm', 'AEDT', 'Blue_Mountains', 'Bureau', 'Claire', 'Cranebrook', 'Eve', 'Goulburn', 'Gunning', 'Highlands', 'Highway', 'Hill', 'Hume', 'Hunter', 'Illawarra', 'Meteorology', 'Mittagong', 'New', 'New_South_Wales', 'Richards', 'Rural_Fire_Service', 'Southern', 'Sydney', 'Valley', 'Year', 'area', 'associate', 'authority', 'available', 'blaze', 'burn', 'bushfire', 'call', 'cause', 'cell', 'close', 'closure', 'coast', 'concern', 'crew', 'decision', 'defend', 'detail', 'deterioration', 'direction', 'ease', 'east', 'effort', 'estimated', 'evacuate', 'fact', 'fall', 'far', 'finger', 'fire', 'fire_burn', 'firefighter', 'force', 'formation', 'generally', 'gust', 'hamper', 'highland', 'home', 'huge', 'hundred', 'isolated', 'leave', 'little', 'long', 'mark', 'millimetre', 'move', 'near', 'nearby', 'new', 'north', 'optimistic', 'outlying', 'part', 'people', 'place', 'probably', 'property', 'push', 'rain', 'relief', 'resident', 'significant', 'south', 'south_west', 'southern', 'stage', 'state', 'storm', 'street', 'strong', 'threaten', 'thunderstorm', 'town', 'unit', 'vacate', 'weather', 'weather_condition', 'west', 'wind']\n",
    "\n",
    "generate only detailed topic titles for each topic\n",
    "```\n",
    "\n",
    "The results are:\n",
    "\n",
    "- **Fire Danger and Emergency Response in New South Wales**: Weather Conditions, Evacuation Measures, and Firefighting Efforts\n",
    "- **Israeli-Palestinian Conflict**: Arrests, Attacks, and Political Dynamics in the Current Year\n"
   ]
  }
 ],
 "metadata": {
  "kernelspec": {
   "display_name": "base",
   "language": "python",
   "name": "python3"
  },
  "language_info": {
   "codemirror_mode": {
    "name": "ipython",
    "version": 3
   },
   "file_extension": ".py",
   "mimetype": "text/x-python",
   "name": "python",
   "nbconvert_exporter": "python",
   "pygments_lexer": "ipython3",
   "version": "3.12.3"
  }
 },
 "nbformat": 4,
 "nbformat_minor": 2
}
